{
 "cells": [
  {
   "cell_type": "code",
   "execution_count": 1,
   "metadata": {
    "collapsed": true,
    "deletable": true,
    "editable": true
   },
   "outputs": [],
   "source": [
    "import socrata_glossarizer"
   ]
  },
  {
   "cell_type": "code",
   "execution_count": 2,
   "metadata": {
    "collapsed": false,
    "deletable": true,
    "editable": true
   },
   "outputs": [],
   "source": [
    "# socrata_glossarizer.write_resource_representation(endpoint_type='table', use_cache=False)"
   ]
  },
  {
   "cell_type": "code",
   "execution_count": 3,
   "metadata": {
    "collapsed": false,
    "deletable": true,
    "editable": true
   },
   "outputs": [],
   "source": [
    "# socrata_glossarizer.write_resource_representation(endpoint_type='link', use_cache=False)"
   ]
  },
  {
   "cell_type": "code",
   "execution_count": 4,
   "metadata": {
    "collapsed": false,
    "deletable": true,
    "editable": true
   },
   "outputs": [],
   "source": [
    "# socrata_glossarizer.write_resource_representation(endpoint_type='geospatial dataset', use_cache=False)"
   ]
  },
  {
   "cell_type": "code",
   "execution_count": 5,
   "metadata": {
    "collapsed": false,
    "deletable": true,
    "editable": true
   },
   "outputs": [],
   "source": [
    "# socrata_glossarizer.write_resource_representation(endpoint_type='blob', use_cache=False)"
   ]
  },
  {
   "cell_type": "code",
   "execution_count": null,
   "metadata": {
    "collapsed": false,
    "deletable": true,
    "editable": true,
    "scrolled": true
   },
   "outputs": [],
   "source": [
    "# socrata_glossarizer.write_dataset_representation()"
   ]
  },
  {
   "cell_type": "code",
   "execution_count": null,
   "metadata": {
    "collapsed": false,
    "deletable": true,
    "editable": true
   },
   "outputs": [
    {
     "name": "stderr",
     "output_type": "stream",
     "text": [
      "  0%|          | 0/97 [00:00<?, ?it/s]Process Process-1:\n",
      "Traceback (most recent call last):\n",
      "  File \"/home/alex/miniconda3/envs/urban-physiology/lib/python3.5/multiprocessing/process.py\", line 249, in _bootstrap\n",
      "    self.run()\n",
      "  File \"/home/alex/miniconda3/envs/urban-physiology/lib/python3.5/multiprocessing/process.py\", line 93, in run\n",
      "    self._target(*self._args, **self._kwargs)\n",
      "  File \"../../limited-requests/limited_requests.py\", line 33, in _fetch\n",
      "    dataset_tuples = datafy.get(uri)\n",
      "  File \"../../datafy/datafy.py\", line 148, in get\n",
      "    ret += get(\"file:///{0}/{1}\".format(temp_foldername, filename), type_hints=(mime, ext), localized=True)\n",
      "  File \"../../datafy/datafy.py\", line 134, in get\n",
      "    z = zipfile.ZipFile(io.BytesIO(r.content))\n",
      "  File \"/home/alex/miniconda3/envs/urban-physiology/lib/python3.5/zipfile.py\", line 1026, in __init__\n",
      "    self._RealGetContents()\n",
      "  File \"/home/alex/miniconda3/envs/urban-physiology/lib/python3.5/zipfile.py\", line 1094, in _RealGetContents\n",
      "    raise BadZipFile(\"File is not a zip file\")\n",
      "zipfile.BadZipFile: File is not a zip file\n",
      "  7%|▋         | 7/97 [06:31<1:24:57, 56.64s/it]Process Process-8:\n",
      "Traceback (most recent call last):\n",
      "  File \"/home/alex/miniconda3/envs/urban-physiology/lib/python3.5/multiprocessing/process.py\", line 249, in _bootstrap\n",
      "    self.run()\n",
      "  File \"/home/alex/miniconda3/envs/urban-physiology/lib/python3.5/multiprocessing/process.py\", line 93, in run\n",
      "    self._target(*self._args, **self._kwargs)\n",
      "  File \"../../limited-requests/limited_requests.py\", line 33, in _fetch\n",
      "    dataset_tuples = datafy.get(uri)\n",
      "  File \"../../datafy/datafy.py\", line 147, in get\n",
      "    mime = magic.from_file('{0}/{1}'.format(temp_foldername, filename), mime=True)\n",
      "  File \"/home/alex/miniconda3/envs/urban-physiology/lib/python3.5/site-packages/magic.py\", line 131, in from_file\n",
      "    return m.from_file(filename)\n",
      "  File \"/home/alex/miniconda3/envs/urban-physiology/lib/python3.5/site-packages/magic.py\", line 81, in from_file\n",
      "    with open(filename):\n",
      "IsADirectoryError: [Errno 21] Is a directory: '904599/COLP2016.gdb/'\n",
      "  8%|▊         | 8/97 [06:35<1:00:31, 40.81s/it]"
     ]
    },
    {
     "name": "stdout",
     "output_type": "stream",
     "text": [
      "[{'fp': '.', 'data': <Response [200]>, 'mime': 'application/vnd.openxmlformats-officedocument.spreadsheetml.sheet', 'ext': 'xlsx'}]\n"
     ]
    },
    {
     "name": "stderr",
     "output_type": "stream",
     "text": [
      "\r",
      "  9%|▉         | 9/97 [06:36<42:17, 28.83s/it]  "
     ]
    },
    {
     "name": "stdout",
     "output_type": "stream",
     "text": [
      "[{'fp': '.', 'data': <Response [200]>, 'mime': 'application/vnd.openxmlformats-officedocument.spreadsheetml.sheet', 'ext': 'xlsx'}]\n"
     ]
    },
    {
     "name": "stderr",
     "output_type": "stream",
     "text": [
      " 13%|█▎        | 13/97 [09:37<1:05:03, 46.47s/it]"
     ]
    }
   ],
   "source": [
    "socrata_glossarizer.write_dataset_representation(endpoint_type='blob', timeout=60)"
   ]
  },
  {
   "cell_type": "code",
   "execution_count": null,
   "metadata": {
    "collapsed": true,
    "deletable": true,
    "editable": true
   },
   "outputs": [],
   "source": []
  }
 ],
 "metadata": {
  "kernelspec": {
   "display_name": "Python 3",
   "language": "python",
   "name": "python3"
  },
  "language_info": {
   "codemirror_mode": {
    "name": "ipython",
    "version": 3
   },
   "file_extension": ".py",
   "mimetype": "text/x-python",
   "name": "python",
   "nbconvert_exporter": "python",
   "pygments_lexer": "ipython3",
   "version": "3.5.3"
  }
 },
 "nbformat": 4,
 "nbformat_minor": 2
}
