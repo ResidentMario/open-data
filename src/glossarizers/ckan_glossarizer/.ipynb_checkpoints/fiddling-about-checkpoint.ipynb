{
 "cells": [
  {
   "cell_type": "code",
   "execution_count": null,
   "metadata": {
    "collapsed": false,
    "deletable": true,
    "editable": true
   },
   "outputs": [],
   "source": [
    "import ckan_glossarizer; ckan_glossarizer.write_glossary()"
   ]
  },
  {
   "cell_type": "code",
   "execution_count": null,
   "metadata": {
    "collapsed": false,
    "deletable": true,
    "editable": true
   },
   "outputs": [],
   "source": [
    "import sys; sys.path.append(\"../../limited-requests\"); import limited_requests\n",
    "q = limited_requests.q()\n",
    "limited_requests.limited_get(\"https://storage.data.gov.sg/average-monthly-recruitment-resignation-rates-by-industry-and-occupational-group-annual/resources/average-monthly-recruitment-resignation-rate-by-industry-level-1-2016-03-23T08-31-38Z.csv\", q)"
   ]
  },
  {
   "cell_type": "code",
   "execution_count": null,
   "metadata": {
    "collapsed": false,
    "deletable": true,
    "editable": true,
    "scrolled": true
   },
   "outputs": [],
   "source": [
    "# import sys; sys.path.append(\"../../datafy\")\n",
    "# import datafy\n",
    "# d = datafy.get(\"https://geo.data.gov.sg/afterdeathfacilities/2015/02/02/kml/afterdeathfacilities.zip\")"
   ]
  },
  {
   "cell_type": "code",
   "execution_count": null,
   "metadata": {
    "collapsed": true,
    "deletable": true,
    "editable": true
   },
   "outputs": [],
   "source": [
    "# Bad mimetype guess: https://geo.data.gov.sg/afterdeathfacilities/2015/02/02/kml/afterdeathfacilities.zip"
   ]
  },
  {
   "cell_type": "code",
   "execution_count": null,
   "metadata": {
    "collapsed": false,
    "deletable": true,
    "editable": true
   },
   "outputs": [],
   "source": [
    "# import requests; requests.head(\"https://geo.data.gov.sg/afterdeathfacilities/2015/02/02/kml/afterdeathfacilities.zip\").headers"
   ]
  }
 ],
 "metadata": {
  "kernelspec": {
   "display_name": "Python 3",
   "language": "python",
   "name": "python3"
  },
  "language_info": {
   "codemirror_mode": {
    "name": "ipython",
    "version": 3
   },
   "file_extension": ".py",
   "mimetype": "text/x-python",
   "name": "python",
   "nbconvert_exporter": "python",
   "pygments_lexer": "ipython3",
   "version": "3.5.3"
  }
 },
 "nbformat": 4,
 "nbformat_minor": 2
}
