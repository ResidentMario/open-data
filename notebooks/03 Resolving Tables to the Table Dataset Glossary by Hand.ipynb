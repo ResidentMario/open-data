{
 "cells": [
  {
   "cell_type": "code",
   "execution_count": 1,
   "metadata": {
    "collapsed": true
   },
   "outputs": [],
   "source": [
    "import json\n",
    "\n",
    "with open(\"../auth/nyc-open-data.json\", \"r\") as f:\n",
    "    nyc_auth = json.load(f)\n",
    "    \n",
    "import pysocrata\n",
    "nyc_datasets = pysocrata.get_datasets(**nyc_auth)\n",
    "\n",
    "nyc_datasets = [d for d in nyc_datasets if d['resource']['type'] != 'story']\n",
    "\n",
    "nyc_types = [d['resource']['type'] for d in nyc_datasets]\n",
    "volcab_map = {'dataset': 'table', 'href': 'link', 'map': 'geospatial dataset', 'file': 'blob'}\n",
    "nyc_types = list(map(lambda d: volcab_map[d], nyc_types))\n",
    "\n",
    "nyc_endpoints = [d['resource']['id'] for d in nyc_datasets]"
   ]
  },
  {
   "cell_type": "code",
   "execution_count": 4,
   "metadata": {
    "collapsed": true
   },
   "outputs": [],
   "source": [
    "import numpy as np\n",
    "table_indices = np.nonzero([t == 'table' for t in nyc_types])\n",
    "table_endpoints = np.array(nyc_endpoints)[table_indices]\n",
    "table_datasets = np.array(nyc_datasets)[table_indices]"
   ]
  },
  {
   "cell_type": "code",
   "execution_count": 8,
   "metadata": {
    "collapsed": false
   },
   "outputs": [
    {
     "data": {
      "text/plain": [
       "{'classification': {'categories': [],\n",
       "  'domain_category': 'City Government',\n",
       "  'domain_metadata': [{'key': 'Update_Automation', 'value': 'Yes'},\n",
       "   {'key': 'Update_Update-Frequency', 'value': 'Daily'},\n",
       "   {'key': 'Dataset-Information_Agency',\n",
       "    'value': 'Department of Citywide Administrative Services (DCAS)'}],\n",
       "  'domain_tags': [],\n",
       "  'tags': []},\n",
       " 'link': 'https://data.cityofnewyork.us/City-Government/City-Store-The-Official-Store-of-the-City-of-New-Y/mqdy-gu73',\n",
       " 'metadata': {'domain': 'data.cityofnewyork.us'},\n",
       " 'permalink': 'https://data.cityofnewyork.us/d/mqdy-gu73',\n",
       " 'resource': {'attribution': 'Department of Citywide Administrative Services (DCAS)',\n",
       "  'columns_description': ['', '', '', '', '', '', '', '', ''],\n",
       "  'columns_field_name': ['size',\n",
       "   'color',\n",
       "   'product_name',\n",
       "   'citystore_exclusive',\n",
       "   'unit_price',\n",
       "   'item_number',\n",
       "   'description',\n",
       "   'category_name',\n",
       "   'style'],\n",
       "  'columns_name': ['Size',\n",
       "   'Color',\n",
       "   'Product Name',\n",
       "   'CityStore Exclusive',\n",
       "   'Unit Price',\n",
       "   'Item Number',\n",
       "   'Description',\n",
       "   'Category Name',\n",
       "   'Style'],\n",
       "  'createdAt': '2015-05-07T14:03:53.000Z',\n",
       "  'description': 'Information on City Store – the\\r\\nOfficial Story of the City of New York',\n",
       "  'download_count': 0,\n",
       "  'id': 'mqdy-gu73',\n",
       "  'name': 'City Store - The Official Store of the City of New York',\n",
       "  'page_views': {'page_views_last_month': 2,\n",
       "   'page_views_last_month_log': 1.5849625007211563,\n",
       "   'page_views_last_week': 0,\n",
       "   'page_views_last_week_log': 0.0,\n",
       "   'page_views_total': 557,\n",
       "   'page_views_total_log': 9.124121311829187},\n",
       "  'parent_fxf': None,\n",
       "  'provenance': 'official',\n",
       "  'type': 'dataset',\n",
       "  'updatedAt': '2017-01-22T21:41:21.000Z',\n",
       "  'view_count': {'page_views_last_month': 2,\n",
       "   'page_views_last_month_log': 1.5849625007211563,\n",
       "   'page_views_last_week': 0,\n",
       "   'page_views_last_week_log': 0.0,\n",
       "   'page_views_total': 557,\n",
       "   'page_views_total_log': 9.124121311829187}}}"
      ]
     },
     "execution_count": 8,
     "metadata": {},
     "output_type": "execute_result"
    }
   ],
   "source": [
    "table_datasets[0]"
   ]
  },
  {
   "cell_type": "markdown",
   "metadata": {},
   "source": [
    "Tabular datasets will always be resolvable to the `CSV` filetype. The slug will be:\n",
    "\n",
    "`https://data.cityofnewyork.us/api/views/<ENDPOINT_ID>/rows.csv?accessType=DOWNLOAD`"
   ]
  },
  {
   "cell_type": "code",
   "execution_count": 10,
   "metadata": {
    "collapsed": false
   },
   "outputs": [],
   "source": [
    "ex_slug = \"https://data.cityofnewyork.us/api/views/\" + table_endpoints[0] + \"/rows.csv?accessType=DOWNLOAD\""
   ]
  },
  {
   "cell_type": "code",
   "execution_count": 11,
   "metadata": {
    "collapsed": false
   },
   "outputs": [
    {
     "data": {
      "text/plain": [
       "'https://data.cityofnewyork.us/api/views/mqdy-gu73/rows.csv?accessType=DOWNLOAD'"
      ]
     },
     "execution_count": 11,
     "metadata": {},
     "output_type": "execute_result"
    }
   ],
   "source": [
    "ex_slug"
   ]
  },
  {
   "cell_type": "markdown",
   "metadata": {},
   "source": [
    "To verify that this is true, can we can send `HEAD` requests to each of these slugs in turn, and make sure that we get back a request denied, no `HEAD` allowed token in response?"
   ]
  },
  {
   "cell_type": "code",
   "execution_count": 12,
   "metadata": {
    "collapsed": false
   },
   "outputs": [
    {
     "data": {
      "text/plain": [
       "{'X-Socrata-Region': 'aws-us-east-1-fedramp-prod', 'X-Error-Message': 'HEAD is not supported', 'Access-Control-Allow-Origin': '*', 'Cache-Control': 'private, no-cache, must-revalidate', 'X-Error-Code': 'invalid_request', 'Age': '0', 'X-Socrata-RequestId': 'aw6msqrhrs1esjw9vft453ipa', 'Connection': 'keep-alive', 'Date': 'Sun, 22 Jan 2017 22:46:06 GMT', 'Server': 'nginx'}"
      ]
     },
     "execution_count": 12,
     "metadata": {},
     "output_type": "execute_result"
    }
   ],
   "source": [
    "import requests\n",
    "requests.head(ex_slug).headers"
   ]
  },
  {
   "cell_type": "code",
   "execution_count": 13,
   "metadata": {
    "collapsed": false
   },
   "outputs": [
    {
     "data": {
      "text/plain": [
       "True"
      ]
     },
     "execution_count": 13,
     "metadata": {},
     "output_type": "execute_result"
    }
   ],
   "source": [
    "requests.head(ex_slug).headers['X-Error-Message'] == 'HEAD is not supported'"
   ]
  },
  {
   "cell_type": "code",
   "execution_count": 14,
   "metadata": {
    "collapsed": false
   },
   "outputs": [
    {
     "data": {
      "text/plain": [
       "{'X-Socrata-Region': 'aws-us-east-1-fedramp-prod', 'X-Error-Message': 'HEAD is not supported', 'Access-Control-Allow-Origin': '*', 'Cache-Control': 'private, no-cache, must-revalidate', 'X-Error-Code': 'invalid_request', 'Age': '0', 'X-Socrata-RequestId': '4amy9sq2vrro0pezr6ycmfn99', 'Connection': 'keep-alive', 'Date': 'Sun, 22 Jan 2017 22:46:48 GMT', 'Server': 'nginx'}"
      ]
     },
     "execution_count": 14,
     "metadata": {},
     "output_type": "execute_result"
    }
   ],
   "source": [
    "requests.head(\"https://data.cityofnewyork.us/api/views/gibberish\").headers"
   ]
  },
  {
   "cell_type": "markdown",
   "metadata": {},
   "source": [
    "No! Just going to have to take it on faith ATM."
   ]
  },
  {
   "cell_type": "code",
   "execution_count": 15,
   "metadata": {
    "collapsed": true
   },
   "outputs": [],
   "source": [
    "nyc_table_datasets = dict()"
   ]
  },
  {
   "cell_type": "code",
   "execution_count": 21,
   "metadata": {
    "collapsed": false
   },
   "outputs": [
    {
     "data": {
      "text/plain": [
       "9"
      ]
     },
     "execution_count": 21,
     "metadata": {},
     "output_type": "execute_result"
    }
   ],
   "source": [
    "len(table_datasets[0]['resource']['columns_field_name'])"
   ]
  },
  {
   "cell_type": "code",
   "execution_count": 25,
   "metadata": {
    "collapsed": false
   },
   "outputs": [
    {
     "data": {
      "text/plain": [
       "'mqdy-gu73'"
      ]
     },
     "execution_count": 25,
     "metadata": {},
     "output_type": "execute_result"
    }
   ],
   "source": [
    "table_datasets[0]['resource']['id']"
   ]
  },
  {
   "cell_type": "code",
   "execution_count": 26,
   "metadata": {
    "collapsed": true
   },
   "outputs": [],
   "source": [
    "ex_endpoint_uri = \"https://data.cityofnewyork.us/d/\" + table_datasets[0]['resource']['id']"
   ]
  },
  {
   "cell_type": "code",
   "execution_count": 27,
   "metadata": {
    "collapsed": false
   },
   "outputs": [
    {
     "data": {
      "text/plain": [
       "'https://data.cityofnewyork.us/d/mqdy-gu73'"
      ]
     },
     "execution_count": 27,
     "metadata": {},
     "output_type": "execute_result"
    }
   ],
   "source": [
    "ex_endpoint_uri"
   ]
  },
  {
   "cell_type": "markdown",
   "metadata": {},
   "source": [
    "One more thing that we can get without downloading the dataset is the number of rows. Or can we?"
   ]
  },
  {
   "cell_type": "code",
   "execution_count": 30,
   "metadata": {
    "collapsed": false
   },
   "outputs": [],
   "source": [
    "from bs4 import BeautifulSoup\n",
    "soup = BeautifulSoup(requests.get(ex_endpoint_uri).text, \"html.parser\")"
   ]
  },
  {
   "cell_type": "code",
   "execution_count": 35,
   "metadata": {
    "collapsed": false
   },
   "outputs": [
    {
     "data": {
      "text/plain": [
       "[]"
      ]
     },
     "execution_count": 35,
     "metadata": {},
     "output_type": "execute_result"
    }
   ],
   "source": [
    "soup.findAll('span', {'class': 'pager-label'})"
   ]
  },
  {
   "cell_type": "code",
   "execution_count": 36,
   "metadata": {
    "collapsed": false
   },
   "outputs": [
    {
     "data": {
      "text/plain": [
       "[<span class=\"site-name\"></span>,\n",
       " <span></span>,\n",
       " <span class=\"socrata-icon-search collapsible-search-toggle\" onclick=\"toggleCollapsibleSearch(this)\" role=\"button\" title=\"Search\">\n",
       " </span>,\n",
       " <span class=\"socrata-icon-search\" title=\"Search\"></span>,\n",
       " <span class=\"searchbox-label\">Search</span>,\n",
       " <span></span>,\n",
       " <span class=\"monosocial\">twitterbird</span>,\n",
       " <span class=\"monosocial\">tumblr</span>,\n",
       " <span></span>,\n",
       " <span><span>Access Data</span><span class=\"socrata-icon-arrow-down\"></span></span>,\n",
       " <span>Access Data</span>,\n",
       " <span class=\"socrata-icon-arrow-down\"></span>,\n",
       " <span><span>Developers</span><span class=\"socrata-icon-arrow-down\"></span></span>,\n",
       " <span>Developers</span>,\n",
       " <span class=\"socrata-icon-arrow-down\"></span>,\n",
       " <span><span>About</span><span class=\"socrata-icon-arrow-down\"></span></span>,\n",
       " <span>About</span>,\n",
       " <span class=\"socrata-icon-arrow-down\"></span>,\n",
       " <span><span>NYC</span><span class=\"socrata-icon-arrow-down\"></span></span>,\n",
       " <span>NYC</span>,\n",
       " <span class=\"socrata-icon-arrow-down\"></span>,\n",
       " <span class=\"socrata-icon-hamburger\"></span>,\n",
       " <span class=\"socrata-icon-close-2\"></span>,\n",
       " <span class=\"nav-menu-title\">Access Data</span>,\n",
       " <span class=\"nav-menu-title\">Developers</span>,\n",
       " <span class=\"nav-menu-title\">About</span>,\n",
       " <span class=\"nav-menu-title\">NYC</span>,\n",
       " <span class=\"searchbox-label\">Search</span>,\n",
       " <span class=\"socrata-icon-search\" title=\"Search\"></span>,\n",
       " <span class=\"monosocial\">twitterbird</span>,\n",
       " <span class=\"monosocial\">tumblr</span>,\n",
       " <span class=\"meta-title\"> </span>,\n",
       " <span class=\"date\"> </span>,\n",
       " <span class=\"meta-title\"> </span>,\n",
       " <span class=\"attribution\"> </span>,\n",
       " <span class=\"site-name\"></span>,\n",
       " <span class=\"monosocial\">twitterbird</span>,\n",
       " <span class=\"monosocial\">tumblr</span>]"
      ]
     },
     "execution_count": 36,
     "metadata": {},
     "output_type": "execute_result"
    }
   ],
   "source": [
    "soup.findAll('span')"
   ]
  },
  {
   "cell_type": "markdown",
   "metadata": {},
   "source": [
    "Examining `soup` we see that it looks like all of the actual information on the page (besides boilerplate) is rendered at runtime by a script. Accessing the full render would require making use of Selenium, which is...not something I want to do.\n",
    "\n",
    "Well. Since we can't get the number of rows for any other dataset anyway, it looks like we're basically stuck. We can only transmit the basic information."
   ]
  },
  {
   "cell_type": "code",
   "execution_count": 41,
   "metadata": {
    "collapsed": true
   },
   "outputs": [],
   "source": [
    "nyc_table_datasets = []"
   ]
  },
  {
   "cell_type": "code",
   "execution_count": 42,
   "metadata": {
    "collapsed": false
   },
   "outputs": [],
   "source": [
    "for dataset in table_datasets:\n",
    "    endpoint = dataset['resource']['id']\n",
    "    slug = \"https://data.cityofnewyork.us/api/views/\" + endpoint + \"/rows.csv?accessType=DOWNLOAD\"\n",
    "    nyc_table_datasets.append({'endpoint': endpoint, 'resource': slug, 'dataset': '.'})"
   ]
  },
  {
   "cell_type": "code",
   "execution_count": 45,
   "metadata": {
    "collapsed": false
   },
   "outputs": [
    {
     "data": {
      "text/plain": [
       "[{'dataset': '.',\n",
       "  'endpoint': 'mqdy-gu73',\n",
       "  'resource': 'https://data.cityofnewyork.us/api/views/mqdy-gu73/rows.csv?accessType=DOWNLOAD'},\n",
       " {'dataset': '.',\n",
       "  'endpoint': 'mdcw-n682',\n",
       "  'resource': 'https://data.cityofnewyork.us/api/views/mdcw-n682/rows.csv?accessType=DOWNLOAD'},\n",
       " {'dataset': '.',\n",
       "  'endpoint': 'i296-73x5',\n",
       "  'resource': 'https://data.cityofnewyork.us/api/views/i296-73x5/rows.csv?accessType=DOWNLOAD'},\n",
       " {'dataset': '.',\n",
       "  'endpoint': 'nyis-y4yr',\n",
       "  'resource': 'https://data.cityofnewyork.us/api/views/nyis-y4yr/rows.csv?accessType=DOWNLOAD'},\n",
       " {'dataset': '.',\n",
       "  'endpoint': 'eabe-havv',\n",
       "  'resource': 'https://data.cityofnewyork.us/api/views/eabe-havv/rows.csv?accessType=DOWNLOAD'}]"
      ]
     },
     "execution_count": 45,
     "metadata": {},
     "output_type": "execute_result"
    }
   ],
   "source": [
    "nyc_table_datasets[:5]"
   ]
  },
  {
   "cell_type": "code",
   "execution_count": 49,
   "metadata": {
    "collapsed": false
   },
   "outputs": [
    {
     "name": "stdout",
     "output_type": "stream",
     "text": [
      " Volume in drive C is SSD_80GB\n",
      " Volume Serial Number is 9279-00B2\n",
      "\n",
      " Directory of C:\\Users\\Alex\\Desktop\\urban-data-concordance\\data\\nyc\\glossaries\n",
      "\n",
      "01/22/2017  06:20 PM    <DIR>          .\n",
      "01/22/2017  06:20 PM    <DIR>          ..\n",
      "01/22/2017  03:15 PM            35,462 nyc-link-resources.json\n",
      "               1 File(s)         35,462 bytes\n",
      "               2 Dir(s)   2,174,885,888 bytes free\n"
     ]
    }
   ],
   "source": [
    "%ls \"../data/nyc/glossaries/\""
   ]
  },
  {
   "cell_type": "code",
   "execution_count": 51,
   "metadata": {
    "collapsed": false
   },
   "outputs": [],
   "source": [
    "with open(\"../data/nyc/glossaries/nyc-table-datasets.json\", \"w\") as fp:\n",
    "    json.dump(nyc_table_datasets, fp, indent=4)"
   ]
  }
 ],
 "metadata": {
  "kernelspec": {
   "display_name": "Python 3",
   "language": "python",
   "name": "python3"
  },
  "language_info": {
   "codemirror_mode": {
    "name": "ipython",
    "version": 3
   },
   "file_extension": ".py",
   "mimetype": "text/x-python",
   "name": "python",
   "nbconvert_exporter": "python",
   "pygments_lexer": "ipython3",
   "version": "3.5.2"
  }
 },
 "nbformat": 4,
 "nbformat_minor": 2
}
