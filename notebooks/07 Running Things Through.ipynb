{
 "cells": [
  {
   "cell_type": "code",
   "execution_count": 4,
   "metadata": {
    "collapsed": true,
    "deletable": true,
    "editable": true
   },
   "outputs": [],
   "source": [
    "import sys; sys.path.append(\"../src/\")\n",
    "from glossarizers import socrata_glossarizer"
   ]
  },
  {
   "cell_type": "code",
   "execution_count": 3,
   "metadata": {
    "collapsed": false,
    "deletable": true,
    "editable": true
   },
   "outputs": [
    {
     "name": "stderr",
     "output_type": "stream",
     "text": [
      "\r",
      "  0%|          | 0/1149 [00:00<?, ?it/s]"
     ]
    },
    {
     "name": "stdout",
     "output_type": "stream",
     "text": [
      "WARNING: HTTPError was raised.\n"
     ]
    },
    {
     "name": "stderr",
     "output_type": "stream",
     "text": [
      "100%|██████████| 1149/1149 [00:00<00:00, 31905.88it/s]\n"
     ]
    }
   ],
   "source": [
    "socrata_glossarizer.write_resource_representation(domain='data.cityofnewyork.us',\n",
    "                                                  out='../data/nyc/resource lists/table-new.json',\n",
    "                                                  credentials='../auth/nyc-open-data.json',\n",
    "                                                  endpoint_type='table')"
   ]
  },
  {
   "cell_type": "code",
   "execution_count": 4,
   "metadata": {
    "collapsed": false,
    "deletable": true,
    "editable": true
   },
   "outputs": [
    {
     "name": "stderr",
     "output_type": "stream",
     "text": [
      "\r",
      "  0%|          | 0/101 [00:00<?, ?it/s]"
     ]
    },
    {
     "name": "stdout",
     "output_type": "stream",
     "text": [
      "WARNING: HTTPError was raised.\n"
     ]
    },
    {
     "name": "stderr",
     "output_type": "stream",
     "text": [
      "100%|██████████| 101/101 [02:20<00:00,  1.35s/it]\n"
     ]
    }
   ],
   "source": [
    "socrata_glossarizer.write_resource_representation(domain='data.cityofnewyork.us',\n",
    "                                                  out='../data/nyc/resource lists/blob-new.json',\n",
    "                                                  credentials='../auth/nyc-open-data.json',\n",
    "                                                  endpoint_type='blob')"
   ]
  },
  {
   "cell_type": "code",
   "execution_count": 3,
   "metadata": {
    "collapsed": false,
    "deletable": true,
    "editable": true
   },
   "outputs": [
    {
     "name": "stderr",
     "output_type": "stream",
     "text": [
      "\r",
      "  0%|          | 0/181 [00:00<?, ?it/s]"
     ]
    },
    {
     "name": "stdout",
     "output_type": "stream",
     "text": [
      "WARNING: HTTPError was raised.\n"
     ]
    },
    {
     "name": "stderr",
     "output_type": "stream",
     "text": [
      "100%|██████████| 181/181 [04:46<00:00,  1.43s/it]\n"
     ]
    }
   ],
   "source": [
    "socrata_glossarizer.write_resource_representation(domain='data.cityofnewyork.us',\n",
    "                                                  out='../data/nyc/resource lists/link-new.json',\n",
    "                                                  credentials='../auth/nyc-open-data.json',\n",
    "                                                  endpoint_type='link')"
   ]
  },
  {
   "cell_type": "code",
   "execution_count": 6,
   "metadata": {
    "collapsed": false,
    "deletable": true,
    "editable": true
   },
   "outputs": [
    {
     "name": "stderr",
     "output_type": "stream",
     "text": [
      "100%|██████████| 168/168 [00:00<00:00, 37821.00it/s]"
     ]
    },
    {
     "name": "stdout",
     "output_type": "stream",
     "text": [
      "WARNING: HTTPError was raised.\n"
     ]
    },
    {
     "name": "stderr",
     "output_type": "stream",
     "text": [
      "\n"
     ]
    }
   ],
   "source": [
    "socrata_glossarizer.write_resource_representation(domain='data.cityofnewyork.us',\n",
    "                                                  out='../data/nyc/resource lists/geospatial-dataset-new.json',\n",
    "                                                  credentials='../auth/nyc-open-data.json',\n",
    "                                                  endpoint_type='geospatial dataset')"
   ]
  },
  {
   "cell_type": "markdown",
   "metadata": {
    "deletable": true,
    "editable": true
   },
   "source": [
    "Table needs to be run multiple times in order to deal with network failures on page loads on the Socrata side."
   ]
  },
  {
   "cell_type": "code",
   "execution_count": 3,
   "metadata": {
    "collapsed": false,
    "deletable": true,
    "editable": true,
    "scrolled": false
   },
   "outputs": [
    {
     "name": "stderr",
     "output_type": "stream",
     "text": [
      "  1%|          | 1/99 [01:00<1:38:03, 60.04s/it]"
     ]
    },
    {
     "name": "stdout",
     "output_type": "stream",
     "text": [
      "WARNING: the 'https://data.cityofnewyork.us/d/dpc8-z3jc' endpoint took longer than the https://data.cityofnewyork.us/d/dpc8-z3jc-section timeout to process.\n"
     ]
    },
    {
     "name": "stderr",
     "output_type": "stream",
     "text": [
      " 42%|████▏     | 42/99 [01:38<01:04,  1.14s/it] "
     ]
    },
    {
     "name": "stdout",
     "output_type": "stream",
     "text": [
      "WARNING: an error was raised while processing the 'https://data.cityofnewyork.us/d/p7p7-wvdw' endpoint.\n"
     ]
    },
    {
     "name": "stderr",
     "output_type": "stream",
     "text": [
      "100%|██████████| 99/99 [01:54<00:00,  8.50it/s]\n"
     ]
    }
   ],
   "source": [
    "# TODO: Finish this run.\n",
    "socrata_glossarizer.write_glossary(domain='opendata.cityofnewyork.us',\n",
    "                                   endpoint_type='link',\n",
    "                                   resource_filename='../data/nyc/resource lists/link-new.json',\n",
    "                                   glossary_filename='../data/nyc/glossaries/link-new.json',\n",
    "                                   timeout=60)"
   ]
  },
  {
   "cell_type": "code",
   "execution_count": 4,
   "metadata": {
    "collapsed": false,
    "deletable": true,
    "editable": true
   },
   "outputs": [
    {
     "name": "stderr",
     "output_type": "stream",
     "text": [
      "  2%|▏         | 2/101 [01:02<32:42, 19.82s/it]"
     ]
    },
    {
     "name": "stdout",
     "output_type": "stream",
     "text": [
      "WARNING: an error was raised while processing the 'https://data.cityofnewyork.us/d/utnf-u4xf' endpoint.\n"
     ]
    },
    {
     "name": "stderr",
     "output_type": "stream",
     "text": [
      "  6%|▌         | 6/101 [02:30<44:20, 28.01s/it]"
     ]
    },
    {
     "name": "stdout",
     "output_type": "stream",
     "text": [
      "WARNING: the 'https://data.cityofnewyork.us/d/mxbm-493w' endpoint took longer than the https://data.cityofnewyork.us/d/mxbm-493w-section timeout to process.\n"
     ]
    },
    {
     "name": "stderr",
     "output_type": "stream",
     "text": [
      "\r",
      "  7%|▋         | 7/101 [03:30<58:55, 37.61s/it]"
     ]
    },
    {
     "name": "stdout",
     "output_type": "stream",
     "text": [
      "WARNING: the 'https://data.cityofnewyork.us/d/as38-8eb5' endpoint took longer than the https://data.cityofnewyork.us/d/as38-8eb5-section timeout to process.\n"
     ]
    },
    {
     "name": "stderr",
     "output_type": "stream",
     "text": [
      "\r",
      "  8%|▊         | 8/101 [04:30<1:08:42, 44.33s/it]"
     ]
    },
    {
     "name": "stdout",
     "output_type": "stream",
     "text": [
      "WARNING: the 'https://data.cityofnewyork.us/d/vtzg-7562' endpoint took longer than the https://data.cityofnewyork.us/d/vtzg-7562-section timeout to process.\n"
     ]
    },
    {
     "name": "stderr",
     "output_type": "stream",
     "text": [
      "\r",
      "  9%|▉         | 9/101 [05:30<1:15:11, 49.03s/it]"
     ]
    },
    {
     "name": "stdout",
     "output_type": "stream",
     "text": [
      "WARNING: the 'https://data.cityofnewyork.us/d/hybb-af8n' endpoint took longer than the https://data.cityofnewyork.us/d/hybb-af8n-section timeout to process.\n"
     ]
    },
    {
     "name": "stderr",
     "output_type": "stream",
     "text": [
      "\r",
      " 10%|▉         | 10/101 [06:30<1:19:21, 52.33s/it]"
     ]
    },
    {
     "name": "stdout",
     "output_type": "stream",
     "text": [
      "WARNING: the 'https://data.cityofnewyork.us/d/57g5-etyj' endpoint took longer than the https://data.cityofnewyork.us/d/57g5-etyj-section timeout to process.\n"
     ]
    },
    {
     "name": "stderr",
     "output_type": "stream",
     "text": [
      "\r",
      " 11%|█         | 11/101 [07:30<1:21:56, 54.63s/it]"
     ]
    },
    {
     "name": "stdout",
     "output_type": "stream",
     "text": [
      "WARNING: the 'https://data.cityofnewyork.us/d/fpz8-jqf4' endpoint took longer than the https://data.cityofnewyork.us/d/fpz8-jqf4-section timeout to process.\n"
     ]
    },
    {
     "name": "stderr",
     "output_type": "stream",
     "text": [
      " 15%|█▍        | 15/101 [08:34<45:11, 31.53s/it]  "
     ]
    },
    {
     "name": "stdout",
     "output_type": "stream",
     "text": [
      "WARNING: the 'https://data.cityofnewyork.us/d/xd8h-7j2h' endpoint took longer than the https://data.cityofnewyork.us/d/xd8h-7j2h-section timeout to process.\n"
     ]
    },
    {
     "name": "stderr",
     "output_type": "stream",
     "text": [
      "\r",
      " 16%|█▌        | 16/101 [09:34<56:46, 40.07s/it]"
     ]
    },
    {
     "name": "stdout",
     "output_type": "stream",
     "text": [
      "WARNING: the 'https://data.cityofnewyork.us/d/49mj-4gmb' endpoint took longer than the https://data.cityofnewyork.us/d/49mj-4gmb-section timeout to process.\n"
     ]
    },
    {
     "name": "stderr",
     "output_type": "stream",
     "text": [
      "\r",
      " 17%|█▋        | 17/101 [10:34<1:04:28, 46.06s/it]"
     ]
    },
    {
     "name": "stdout",
     "output_type": "stream",
     "text": [
      "WARNING: the 'https://data.cityofnewyork.us/d/dja4-zgtf' endpoint took longer than the https://data.cityofnewyork.us/d/dja4-zgtf-section timeout to process.\n"
     ]
    },
    {
     "name": "stderr",
     "output_type": "stream",
     "text": [
      "\r",
      " 18%|█▊        | 18/101 [11:34<1:09:29, 50.24s/it]"
     ]
    },
    {
     "name": "stdout",
     "output_type": "stream",
     "text": [
      "WARNING: the 'https://data.cityofnewyork.us/d/3nr6-bnks' endpoint took longer than the https://data.cityofnewyork.us/d/3nr6-bnks-section timeout to process.\n"
     ]
    },
    {
     "name": "stderr",
     "output_type": "stream",
     "text": [
      " 21%|██        | 21/101 [12:38<48:10, 36.13s/it]  "
     ]
    },
    {
     "name": "stdout",
     "output_type": "stream",
     "text": [
      "WARNING: the 'https://data.cityofnewyork.us/d/wt4d-p43d' endpoint took longer than the https://data.cityofnewyork.us/d/wt4d-p43d-section timeout to process.\n"
     ]
    },
    {
     "name": "stderr",
     "output_type": "stream",
     "text": [
      " 52%|█████▏    | 53/101 [14:19<14:40, 18.33s/it]"
     ]
    },
    {
     "name": "stdout",
     "output_type": "stream",
     "text": [
      "WARNING: the 'https://data.cityofnewyork.us/d/3cdm-p29e' endpoint took longer than the https://data.cityofnewyork.us/d/3cdm-p29e-section timeout to process.\n"
     ]
    },
    {
     "name": "stderr",
     "output_type": "stream",
     "text": [
      "\r",
      " 53%|█████▎    | 54/101 [15:19<24:09, 30.84s/it]"
     ]
    },
    {
     "name": "stdout",
     "output_type": "stream",
     "text": [
      "WARNING: the 'https://data.cityofnewyork.us/d/q6p5-m7xb' endpoint took longer than the https://data.cityofnewyork.us/d/q6p5-m7xb-section timeout to process.\n"
     ]
    },
    {
     "name": "stderr",
     "output_type": "stream",
     "text": [
      " 56%|█████▋    | 57/101 [16:20<21:06, 28.78s/it]"
     ]
    },
    {
     "name": "stdout",
     "output_type": "stream",
     "text": [
      "WARNING: the 'https://data.cityofnewyork.us/d/aprw-p4ws' endpoint took longer than the https://data.cityofnewyork.us/d/aprw-p4ws-section timeout to process.\n"
     ]
    },
    {
     "name": "stderr",
     "output_type": "stream",
     "text": [
      "\r",
      " 57%|█████▋    | 58/101 [17:20<27:20, 38.15s/it]"
     ]
    },
    {
     "name": "stdout",
     "output_type": "stream",
     "text": [
      "WARNING: the 'https://data.cityofnewyork.us/d/sntb-k5vj' endpoint took longer than the https://data.cityofnewyork.us/d/sntb-k5vj-section timeout to process.\n"
     ]
    },
    {
     "name": "stderr",
     "output_type": "stream",
     "text": [
      "\r",
      " 58%|█████▊    | 59/101 [18:20<31:17, 44.71s/it]"
     ]
    },
    {
     "name": "stdout",
     "output_type": "stream",
     "text": [
      "WARNING: the 'https://data.cityofnewyork.us/d/cxyq-uhvk' endpoint took longer than the https://data.cityofnewyork.us/d/cxyq-uhvk-section timeout to process.\n"
     ]
    },
    {
     "name": "stderr",
     "output_type": "stream",
     "text": [
      "\r",
      " 59%|█████▉    | 60/101 [19:20<33:41, 49.30s/it]"
     ]
    },
    {
     "name": "stdout",
     "output_type": "stream",
     "text": [
      "WARNING: the 'https://data.cityofnewyork.us/d/ks56-wyey' endpoint took longer than the https://data.cityofnewyork.us/d/ks56-wyey-section timeout to process.\n"
     ]
    },
    {
     "name": "stderr",
     "output_type": "stream",
     "text": [
      "\r",
      " 60%|██████    | 61/101 [20:20<35:00, 52.51s/it]"
     ]
    },
    {
     "name": "stdout",
     "output_type": "stream",
     "text": [
      "WARNING: the 'https://data.cityofnewyork.us/d/cxzk-qz9w' endpoint took longer than the https://data.cityofnewyork.us/d/cxzk-qz9w-section timeout to process.\n"
     ]
    },
    {
     "name": "stderr",
     "output_type": "stream",
     "text": [
      " 66%|██████▋   | 67/101 [21:48<16:39, 29.38s/it]"
     ]
    },
    {
     "name": "stdout",
     "output_type": "stream",
     "text": [
      "WARNING: the 'https://data.cityofnewyork.us/d/smk3-tmxj' endpoint took longer than the https://data.cityofnewyork.us/d/smk3-tmxj-section timeout to process.\n"
     ]
    },
    {
     "name": "stderr",
     "output_type": "stream",
     "text": [
      " 71%|███████▏  | 72/101 [22:51<11:16, 23.34s/it]"
     ]
    },
    {
     "name": "stdout",
     "output_type": "stream",
     "text": [
      "WARNING: the 'https://data.cityofnewyork.us/d/hnxz-kkn5' endpoint took longer than the https://data.cityofnewyork.us/d/hnxz-kkn5-section timeout to process.\n"
     ]
    },
    {
     "name": "stderr",
     "output_type": "stream",
     "text": [
      " 77%|███████▋  | 78/101 [25:47<12:15, 32.00s/it]"
     ]
    },
    {
     "name": "stdout",
     "output_type": "stream",
     "text": [
      "WARNING: an error was raised while processing the 'https://data.cityofnewyork.us/d/na8n-6f5f' endpoint.\n"
     ]
    },
    {
     "name": "stderr",
     "output_type": "stream",
     "text": [
      " 80%|████████  | 81/101 [27:34<12:28, 37.43s/it]"
     ]
    },
    {
     "name": "stdout",
     "output_type": "stream",
     "text": [
      "WARNING: an error was raised while processing the 'https://data.cityofnewyork.us/d/yh7h-cx7a' endpoint.\n"
     ]
    },
    {
     "name": "stderr",
     "output_type": "stream",
     "text": [
      "100%|██████████| 101/101 [31:05<00:00,  5.68s/it]\n"
     ]
    }
   ],
   "source": [
    "# TODO: Finish this run.\n",
    "socrata_glossarizer.write_glossary(domain='opendata.cityofnewyork.us',\n",
    "                                   endpoint_type='blob',\n",
    "                                   resource_filename='../data/nyc/resource lists/blob-new.json',\n",
    "                                   glossary_filename='../data/nyc/glossaries/blob-new.json')"
   ]
  },
  {
   "cell_type": "code",
   "execution_count": 1,
   "metadata": {
    "collapsed": true,
    "deletable": true,
    "editable": true
   },
   "outputs": [],
   "source": [
    "# import datafy\n",
    "# datafy.get(\"http://www.hraadvisors.com/wp-content/uploads/2014/04/NYC_Tech_Ecosystem_Data1.zip\")"
   ]
  },
  {
   "cell_type": "code",
   "execution_count": null,
   "metadata": {
    "collapsed": true
   },
   "outputs": [],
   "source": [
    "# # TODO: Finish this run.\n",
    "# socrata_glossarizer.write_glossary(domain='opendata.cityofnewyork.us',\n",
    "#                                    endpoint_type='table',\n",
    "#                                    resource_filename='../data/nyc/resource lists/table-new.json',\n",
    "#                                    glossary_filename='../data/nyc/glossaries/table-new.json')"
   ]
  },
  {
   "cell_type": "code",
   "execution_count": 1,
   "metadata": {
    "collapsed": false
   },
   "outputs": [],
   "source": [
    "import sys; sys.path.append(\"../src/\")\n",
    "from glossarizers import ckan_glossarizer"
   ]
  },
  {
   "cell_type": "code",
   "execution_count": null,
   "metadata": {
    "collapsed": false
   },
   "outputs": [
    {
     "name": "stdout",
     "output_type": "stream",
     "text": [
      "> /home/alex/Desktop/urban-physiology/src/glossarizers/ckan_glossarizer.py(13)write_resource_representation()\n",
      "-> if preexisting_cache(out, use_cache):\n",
      "(Pdb) c\n"
     ]
    },
    {
     "name": "stderr",
     "output_type": "stream",
     "text": [
      " 98%|█████████▊| 1017/1043 [11:54<00:18,  1.43it/s] "
     ]
    }
   ],
   "source": [
    "ckan_glossarizer.write_resource_representation(out=\"../data/singapore/resource lists/resources.json\")"
   ]
  },
  {
   "cell_type": "code",
   "execution_count": null,
   "metadata": {
    "collapsed": true
   },
   "outputs": [],
   "source": []
  }
 ],
 "metadata": {
  "kernelspec": {
   "display_name": "Python 3",
   "language": "python",
   "name": "python3"
  },
  "language_info": {
   "codemirror_mode": {
    "name": "ipython",
    "version": 3
   },
   "file_extension": ".py",
   "mimetype": "text/x-python",
   "name": "python",
   "nbconvert_exporter": "python",
   "pygments_lexer": "ipython3",
   "version": "3.5.3"
  }
 },
 "nbformat": 4,
 "nbformat_minor": 2
}
