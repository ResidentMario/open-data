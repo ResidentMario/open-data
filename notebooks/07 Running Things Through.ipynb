{
 "cells": [
  {
   "cell_type": "code",
   "execution_count": 1,
   "metadata": {
    "collapsed": true,
    "deletable": true,
    "editable": true
   },
   "outputs": [],
   "source": [
    "import sys; sys.path.append(\"../src/\")"
   ]
  },
  {
   "cell_type": "code",
   "execution_count": 2,
   "metadata": {
    "collapsed": false,
    "deletable": true,
    "editable": true
   },
   "outputs": [],
   "source": [
    "from glossarizers import socrata_glossarizer"
   ]
  },
  {
   "cell_type": "code",
   "execution_count": 3,
   "metadata": {
    "collapsed": false,
    "deletable": true,
    "editable": true
   },
   "outputs": [
    {
     "name": "stderr",
     "output_type": "stream",
     "text": [
      "\r",
      "  0%|          | 0/1149 [00:00<?, ?it/s]"
     ]
    },
    {
     "name": "stdout",
     "output_type": "stream",
     "text": [
      "WARNING: HTTPError was raised.\n"
     ]
    },
    {
     "name": "stderr",
     "output_type": "stream",
     "text": [
      "100%|██████████| 1149/1149 [00:00<00:00, 31905.88it/s]\n"
     ]
    }
   ],
   "source": [
    "socrata_glossarizer.write_resource_representation(domain='data.cityofnewyork.us',\n",
    "                                                  out='../data/nyc/resource lists/table-new.json',\n",
    "                                                  credentials='../auth/nyc-open-data.json',\n",
    "                                                  endpoint_type='table')"
   ]
  },
  {
   "cell_type": "code",
   "execution_count": 4,
   "metadata": {
    "collapsed": false,
    "deletable": true,
    "editable": true
   },
   "outputs": [
    {
     "name": "stderr",
     "output_type": "stream",
     "text": [
      "\r",
      "  0%|          | 0/101 [00:00<?, ?it/s]"
     ]
    },
    {
     "name": "stdout",
     "output_type": "stream",
     "text": [
      "WARNING: HTTPError was raised.\n"
     ]
    },
    {
     "name": "stderr",
     "output_type": "stream",
     "text": [
      "100%|██████████| 101/101 [02:20<00:00,  1.35s/it]\n"
     ]
    }
   ],
   "source": [
    "socrata_glossarizer.write_resource_representation(domain='data.cityofnewyork.us',\n",
    "                                                  out='../data/nyc/resource lists/blob-new.json',\n",
    "                                                  credentials='../auth/nyc-open-data.json',\n",
    "                                                  endpoint_type='blob')"
   ]
  },
  {
   "cell_type": "code",
   "execution_count": 5,
   "metadata": {
    "collapsed": false,
    "deletable": true,
    "editable": true
   },
   "outputs": [
    {
     "name": "stderr",
     "output_type": "stream",
     "text": [
      "\r",
      "  0%|          | 0/181 [00:00<?, ?it/s]"
     ]
    },
    {
     "name": "stdout",
     "output_type": "stream",
     "text": [
      "WARNING: HTTPError was raised.\n"
     ]
    },
    {
     "name": "stderr",
     "output_type": "stream",
     "text": [
      "100%|██████████| 181/181 [04:02<00:00,  1.34s/it]\n"
     ]
    }
   ],
   "source": [
    "socrata_glossarizer.write_resource_representation(domain='data.cityofnewyork.us',\n",
    "                                                  out='../data/nyc/resource lists/link-new.json',\n",
    "                                                  credentials='../auth/nyc-open-data.json',\n",
    "                                                  endpoint_type='link')"
   ]
  },
  {
   "cell_type": "code",
   "execution_count": 6,
   "metadata": {
    "collapsed": false,
    "deletable": true,
    "editable": true
   },
   "outputs": [
    {
     "name": "stderr",
     "output_type": "stream",
     "text": [
      "100%|██████████| 168/168 [00:00<00:00, 37821.00it/s]"
     ]
    },
    {
     "name": "stdout",
     "output_type": "stream",
     "text": [
      "WARNING: HTTPError was raised.\n"
     ]
    },
    {
     "name": "stderr",
     "output_type": "stream",
     "text": [
      "\n"
     ]
    }
   ],
   "source": [
    "socrata_glossarizer.write_resource_representation(domain='data.cityofnewyork.us',\n",
    "                                                  out='../data/nyc/resource lists/geospatial-dataset-new.json',\n",
    "                                                  credentials='../auth/nyc-open-data.json',\n",
    "                                                  endpoint_type='geospatial dataset')"
   ]
  },
  {
   "cell_type": "code",
   "execution_count": null,
   "metadata": {
    "collapsed": false,
    "deletable": true,
    "editable": true
   },
   "outputs": [
    {
     "name": "stdout",
     "output_type": "stream",
     "text": [
      "> /home/alex/Desktop/urban-physiology/src/glossarizers/socrata_glossarizer.py(417)write_glossary()\n",
      "-> resource_list, glossary = load_glossary_todo(resource_filename, glossary_filename, use_cache)\n",
      "(Pdb) c\n"
     ]
    },
    {
     "name": "stderr",
     "output_type": "stream",
     "text": [
      "  0%|          | 4/1149 [00:17<1:36:44,  5.07s/it]"
     ]
    },
    {
     "name": "stdout",
     "output_type": "stream",
     "text": [
      "WARNING: the 'https://data.cityofnewyork.us/d/madj-gkhr' endpoint could not be processed.\n"
     ]
    },
    {
     "name": "stderr",
     "output_type": "stream",
     "text": [
      "  1%|          | 12/1149 [00:40<1:31:32,  4.83s/it]"
     ]
    },
    {
     "name": "stdout",
     "output_type": "stream",
     "text": [
      "WARNING: the 'https://data.cityofnewyork.us/d/vwpc-kje2' endpoint could not be processed.\n"
     ]
    },
    {
     "name": "stderr",
     "output_type": "stream",
     "text": [
      "  1%|          | 14/1149 [00:54<1:58:02,  6.24s/it]"
     ]
    },
    {
     "name": "stdout",
     "output_type": "stream",
     "text": [
      "WARNING: the 'https://data.cityofnewyork.us/d/8vv7-7wx3' endpoint could not be processed.\n"
     ]
    },
    {
     "name": "stderr",
     "output_type": "stream",
     "text": [
      "  2%|▏         | 28/1149 [01:35<1:50:45,  5.93s/it]"
     ]
    },
    {
     "name": "stdout",
     "output_type": "stream",
     "text": [
      "WARNING: the 'https://data.cityofnewyork.us/d/td5q-ry6d' endpoint could not be processed.\n"
     ]
    },
    {
     "name": "stderr",
     "output_type": "stream",
     "text": [
      "  3%|▎         | 39/1149 [02:13<1:36:25,  5.21s/it]"
     ]
    },
    {
     "name": "stdout",
     "output_type": "stream",
     "text": [
      "WARNING: the 'https://data.cityofnewyork.us/d/cspg-yi7g' endpoint could not be processed.\n"
     ]
    },
    {
     "name": "stderr",
     "output_type": "stream",
     "text": [
      "  6%|▌         | 71/1149 [03:18<1:20:58,  4.51s/it]"
     ]
    },
    {
     "name": "stdout",
     "output_type": "stream",
     "text": [
      "WARNING: the 'https://data.cityofnewyork.us/d/v6j6-k9uc' endpoint could not be processed.\n"
     ]
    },
    {
     "name": "stderr",
     "output_type": "stream",
     "text": [
      "\r",
      "  6%|▋         | 72/1149 [03:30<2:00:00,  6.69s/it]"
     ]
    },
    {
     "name": "stdout",
     "output_type": "stream",
     "text": [
      "WARNING: the 'https://data.cityofnewyork.us/d/pq5i-thsu' endpoint could not be processed.\n"
     ]
    },
    {
     "name": "stderr",
     "output_type": "stream",
     "text": [
      "  6%|▋         | 74/1149 [03:44<2:07:25,  7.11s/it]"
     ]
    },
    {
     "name": "stdout",
     "output_type": "stream",
     "text": [
      "WARNING: the 'https://data.cityofnewyork.us/d/vr8p-8shw' endpoint could not be processed.\n"
     ]
    },
    {
     "name": "stderr",
     "output_type": "stream",
     "text": [
      " 10%|█         | 115/1149 [04:57<1:18:32,  4.56s/it]"
     ]
    },
    {
     "name": "stdout",
     "output_type": "stream",
     "text": [
      "WARNING: the 'https://data.cityofnewyork.us/d/feu5-w2e2' endpoint could not be processed.\n"
     ]
    },
    {
     "name": "stderr",
     "output_type": "stream",
     "text": [
      " 10%|█         | 118/1149 [05:12<1:36:26,  5.61s/it]"
     ]
    },
    {
     "name": "stdout",
     "output_type": "stream",
     "text": [
      "WARNING: the 'https://data.cityofnewyork.us/d/6teu-xtgp' endpoint could not be processed.\n"
     ]
    },
    {
     "name": "stderr",
     "output_type": "stream",
     "text": [
      " 11%|█         | 128/1149 [05:28<29:07,  1.71s/it]  "
     ]
    }
   ],
   "source": [
    "socrata_glossarizer.write_glossary(domain='opendata.cityofnewyork.us',\n",
    "                                   endpoint_type='table',\n",
    "                                   resource_filename='../data/nyc/resource lists/table-new.json',\n",
    "                                   glossary_filename='../data/nyc/glossary/table-new.json')"
   ]
  },
  {
   "cell_type": "code",
   "execution_count": null,
   "metadata": {
    "collapsed": true,
    "deletable": true,
    "editable": true
   },
   "outputs": [],
   "source": []
  }
 ],
 "metadata": {
  "kernelspec": {
   "display_name": "Python 3",
   "language": "python",
   "name": "python3"
  },
  "language_info": {
   "codemirror_mode": {
    "name": "ipython",
    "version": 3
   },
   "file_extension": ".py",
   "mimetype": "text/x-python",
   "name": "python",
   "nbconvert_exporter": "python",
   "pygments_lexer": "ipython3",
   "version": "3.5.3"
  }
 },
 "nbformat": 4,
 "nbformat_minor": 2
}
