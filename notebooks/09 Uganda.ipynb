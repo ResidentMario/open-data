{
 "cells": [
  {
   "cell_type": "code",
   "execution_count": 1,
   "metadata": {
    "collapsed": true,
    "deletable": true,
    "editable": true
   },
   "outputs": [],
   "source": [
    "import sys; sys.path.append(\"../src/\")\n",
    "from glossarizers import ckan_glossarizer"
   ]
  },
  {
   "cell_type": "code",
   "execution_count": null,
   "metadata": {
    "collapsed": false,
    "deletable": true,
    "editable": true
   },
   "outputs": [
    {
     "name": "stdout",
     "output_type": "stream",
     "text": [
      "> /home/alex/Desktop/urban-physiology/src/glossarizers/ckan_glossarizer.py(13)write_resource_representation()\n",
      "-> if preexisting_cache(out, use_cache):\n",
      "(Pdb) n\n",
      "> /home/alex/Desktop/urban-physiology/src/glossarizers/ckan_glossarizer.py(16)write_resource_representation()\n",
      "-> package_list_slug = \"{0}://{1}/api/3/action/package_list\".format(protocol, domain)\n",
      "(Pdb) n\n",
      "> /home/alex/Desktop/urban-physiology/src/glossarizers/ckan_glossarizer.py(17)write_resource_representation()\n",
      "-> package_list = requests.get(package_list_slug).json()\n",
      "(Pdb) n\n",
      "> /home/alex/Desktop/urban-physiology/src/glossarizers/ckan_glossarizer.py(19)write_resource_representation()\n",
      "-> if 'success' not in package_list or package_list['success'] != True:\n",
      "(Pdb) n\n",
      "> /home/alex/Desktop/urban-physiology/src/glossarizers/ckan_glossarizer.py(22)write_resource_representation()\n",
      "-> resources = package_list['result']\n",
      "(Pdb) n\n",
      "> /home/alex/Desktop/urban-physiology/src/glossarizers/ckan_glossarizer.py(24)write_resource_representation()\n",
      "-> roi_repr = []\n",
      "(Pdb) n\n",
      "> /home/alex/Desktop/urban-physiology/src/glossarizers/ckan_glossarizer.py(26)write_resource_representation()\n",
      "-> try:\n",
      "(Pdb) n\n",
      "> /home/alex/Desktop/urban-physiology/src/glossarizers/ckan_glossarizer.py(27)write_resource_representation()\n",
      "-> for resource in tqdm(resources):\n",
      "(Pdb) n\n"
     ]
    },
    {
     "name": "stderr",
     "output_type": "stream",
     "text": [
      "\r",
      "  0%|          | 0/395 [00:00<?, ?it/s]"
     ]
    },
    {
     "name": "stdout",
     "output_type": "stream",
     "text": [
      "> /home/alex/Desktop/urban-physiology/src/glossarizers/ckan_glossarizer.py(29)write_resource_representation()\n",
      "-> metadata = requests.get(\"{0}://{1}/api/3/action/package_show?id={2}\".format(protocol,\n",
      "(Pdb) n\n",
      "> /home/alex/Desktop/urban-physiology/src/glossarizers/ckan_glossarizer.py(30)write_resource_representation()\n",
      "-> domain,\n",
      "(Pdb) n\n",
      "> /home/alex/Desktop/urban-physiology/src/glossarizers/ckan_glossarizer.py(31)write_resource_representation()\n",
      "-> resource)).json()\n",
      "(Pdb) n\n",
      "> /home/alex/Desktop/urban-physiology/src/glossarizers/ckan_glossarizer.py(33)write_resource_representation()\n",
      "-> try:\n",
      "(Pdb) n\n",
      "> /home/alex/Desktop/urban-physiology/src/glossarizers/ckan_glossarizer.py(34)write_resource_representation()\n",
      "-> license = metadata['result']['license']\n",
      "(Pdb) n\n",
      "KeyError: 'license'\n",
      "> /home/alex/Desktop/urban-physiology/src/glossarizers/ckan_glossarizer.py(34)write_resource_representation()\n",
      "-> license = metadata['result']['license']\n",
      "(Pdb) n\n",
      "> /home/alex/Desktop/urban-physiology/src/glossarizers/ckan_glossarizer.py(35)write_resource_representation()\n",
      "-> except KeyError:\n",
      "(Pdb) n\n",
      "> /home/alex/Desktop/urban-physiology/src/glossarizers/ckan_glossarizer.py(36)write_resource_representation()\n",
      "-> license = metadata['result']['license_title']\n",
      "(Pdb) n\n",
      "> /home/alex/Desktop/urban-physiology/src/glossarizers/ckan_glossarizer.py(37)write_resource_representation()\n",
      "-> publisher = metadata['result']['publisher']['name']\n",
      "(Pdb) metadata['result']['publisher']\n",
      "*** KeyError: 'publisher'\n",
      "(Pdb) metadata['result']\n",
      "{'isopen': True, 'url': '2014 Census Data', 'relationships_as_object': [], 'organization': {'approval_status': 'approved', 'image_url': '20150216-143018.382166ubos.jpeg', 'is_organization': True, 'revision_id': '8a118cb2-33df-4311-aeea-899018b0716b', 'description': 'UBOS is the principal data collecting, processing, analysing and disseminating agency responsible for coordinating and supervising the National Statistical System.\\r\\n\\r\\nwww.ubos.org', 'state': 'active', 'name': 'uganda-buro-of-statistics', 'id': '38fbf0e4-b7a0-46b1-89c0-ec281664ec08', 'created': '2015-02-16T17:30:18.456354', 'type': 'organization', 'title': 'Uganda Bureau of Statistics'}, 'metadata_created': '2017-02-15T09:02:54.210714', 'tags': [{'name': 'Population', 'id': '719d652c-3884-4b1f-b0ee-8e9cb6e69857', 'display_name': 'Population', 'vocabulary_id': None, 'state': 'active'}], 'author': 'Lydia Namubiru', 'creator_user_id': '9c07ebdc-840f-4e18-a29f-fa063aee8938', 'owner_org': '38fbf0e4-b7a0-46b1-89c0-ec281664ec08', 'revision_id': '92e09177-0896-4db0-92d5-49f0b24a8be2', 'id': '24f24456-719c-4ae8-b013-6f173f4cf8bc', 'version': '', 'author_email': 'lnamubiru@acme-ug.org', 'num_tags': 1, 'groups': [], 'name': '2014-census-data', 'relationships_as_subject': [], 'maintainer': 'Brian Ssenabulya', 'license_title': 'Creative Commons Attribution', 'notes': 'This dataset shows the different demographic and socio-economic aspects that were covered in the 2014 National Population and Housing Census conducted by UBOS.', 'resources': [{'cache_last_updated': None, 'name': 'Population by broad age groups in Uganda', 'created': '2017-02-15T12:08:46.363086', 'cache_url': None, 'url_type': 'upload', 'package_id': '24f24456-719c-4ae8-b013-6f173f4cf8bc', 'mimetype_inner': None, 'format': 'CSV', 'revision_id': '50980ce8-40a2-43b9-9d81-334c90580ece', 'webstore_last_updated': None, 'id': '11ecf2cb-c27d-4e6f-98de-191148da877b', 'last_modified': '2017-02-15T09:08:46.335486', 'hash': '', 'resource_type': None, 'size': None, 'webstore_url': None, 'position': 0, 'mimetype': None, 'url': 'http://catalog.data.ug/dataset/24f24456-719c-4ae8-b013-6f173f4cf8bc/resource/11ecf2cb-c27d-4e6f-98de-191148da877b/download/2014-census-data--population-by-broad-age-groups-and-sub-counties-in-each-district---sheet1.csv', 'state': 'active', 'datastore_active': True, 'description': 'This data shows the population by broad age groups and sub-counties in each district of Uganda. The data is extracted from the 2014 Census reports.'}, {'cache_last_updated': None, 'name': 'Education characteristics of the population in each district', 'created': '2017-02-15T12:14:53.471194', 'cache_url': None, 'url_type': 'upload', 'package_id': '24f24456-719c-4ae8-b013-6f173f4cf8bc', 'mimetype_inner': None, 'format': 'CSV', 'revision_id': 'a91a6158-3b1e-412c-858e-2646e6bd2842', 'webstore_last_updated': None, 'id': '442f8ac7-4349-4f58-8153-b9285cef532b', 'last_modified': '2017-02-15T09:14:53.432031', 'hash': '', 'resource_type': None, 'size': None, 'webstore_url': None, 'position': 1, 'mimetype': None, 'url': 'http://catalog.data.ug/dataset/24f24456-719c-4ae8-b013-6f173f4cf8bc/resource/442f8ac7-4349-4f58-8153-b9285cef532b/download/2014-uganda-education-characteristics-of-the-population-by-district.csv', 'state': 'active', 'datastore_active': True, 'description': 'The data shows the education characteristics of the population by age group and sub-counties in each district.'}, {'cache_last_updated': None, 'name': 'Marital and childbearing status among female children by selected age group', 'created': '2017-02-15T12:18:36.319395', 'cache_url': None, 'url_type': 'upload', 'package_id': '24f24456-719c-4ae8-b013-6f173f4cf8bc', 'mimetype_inner': None, 'format': 'CSV', 'revision_id': 'a55af23b-ac81-4ac2-b55f-f6d096d90c1d', 'webstore_last_updated': None, 'id': '10992967-a9c1-4543-b29d-37ef10e9faeb', 'last_modified': '2017-02-15T09:18:36.291548', 'hash': '', 'resource_type': None, 'size': None, 'webstore_url': None, 'position': 2, 'mimetype': None, 'url': 'http://catalog.data.ug/dataset/24f24456-719c-4ae8-b013-6f173f4cf8bc/resource/10992967-a9c1-4543-b29d-37ef10e9faeb/download/2014-marital-and-childbearing-status-among-female-children-by-district-in-uganda.csv', 'state': 'active', 'datastore_active': False, 'description': 'The data shows the marital and childbearing status among female children by selected age group and sub-counties in each of the districts of Uganda'}, {'cache_last_updated': None, 'name': 'Ownership of a birth certificate for children aged less than 5 years', 'created': '2017-02-15T12:24:04.859376', 'cache_url': None, 'url_type': 'upload', 'package_id': '24f24456-719c-4ae8-b013-6f173f4cf8bc', 'mimetype_inner': None, 'format': 'CSV', 'revision_id': '258a7c7c-6184-4f7e-9c8b-76e29c5b5e03', 'webstore_last_updated': None, 'id': 'f1b6986b-6c6d-45d9-999a-3447b67a77d0', 'last_modified': '2017-02-15T09:24:04.816924', 'hash': '', 'resource_type': None, 'size': None, 'webstore_url': None, 'position': 3, 'mimetype': None, 'url': 'http://catalog.data.ug/dataset/24f24456-719c-4ae8-b013-6f173f4cf8bc/resource/f1b6986b-6c6d-45d9-999a-3447b67a77d0/download/2014-ownership-of-a-birth-certificate-for-children-aged-less-than-5years-by-district.csv', 'state': 'active', 'datastore_active': True, 'description': 'The data shows the ownership of a birth certificate for children aged less than 5 years by sub-counties in each of the districts in Uganda.'}, {'cache_last_updated': None, 'name': 'Working status of the population by selected age groups', 'created': '2017-02-15T12:27:41.040696', 'cache_url': None, 'url_type': 'upload', 'package_id': '24f24456-719c-4ae8-b013-6f173f4cf8bc', 'mimetype_inner': None, 'format': 'CSV', 'revision_id': 'b0bacada-7cb7-430a-b069-022b4827ddcd', 'webstore_last_updated': None, 'id': '848b4484-c218-4561-9fc8-205f91a74501', 'last_modified': '2017-02-15T09:27:40.995726', 'hash': '', 'resource_type': None, 'size': None, 'webstore_url': None, 'position': 4, 'mimetype': None, 'url': 'http://catalog.data.ug/dataset/24f24456-719c-4ae8-b013-6f173f4cf8bc/resource/848b4484-c218-4561-9fc8-205f91a74501/download/2014-census-dataworking-status-of-the-population-in-uganda-by-district.csv', 'state': 'active', 'datastore_active': False, 'description': 'The data shows the working status of the population by selected age groups and sub-counties in each district of Uganda.'}, {'cache_last_updated': None, 'name': 'Orphan hood and disability status by selected age groups In Uganda', 'created': '2017-02-15T12:31:10.595132', 'cache_url': None, 'url_type': 'upload', 'package_id': '24f24456-719c-4ae8-b013-6f173f4cf8bc', 'mimetype_inner': None, 'format': 'CSV', 'revision_id': 'b38028e0-8be0-404c-b9d7-e00dbf49ae3a', 'webstore_last_updated': None, 'id': '9a27b73a-cb1a-4ba7-8b2a-db9c437401ff', 'last_modified': '2017-02-15T09:31:10.558948', 'hash': '', 'resource_type': None, 'size': None, 'webstore_url': None, 'position': 5, 'mimetype': None, 'url': 'http://catalog.data.ug/dataset/24f24456-719c-4ae8-b013-6f173f4cf8bc/resource/9a27b73a-cb1a-4ba7-8b2a-db9c437401ff/download/2014-orphanhood-and-disability-status-in-uganda-by-district.csv', 'state': 'active', 'datastore_active': False, 'description': 'The data shows orphan hood and disability status by selected age groups and sub-counties in each of the districts in Uganda.'}, {'cache_last_updated': None, 'name': 'Number of households by main source of livelihood and remittances from abroad by district.', 'created': '2017-02-15T12:35:52.174528', 'cache_url': None, 'url_type': 'upload', 'package_id': '24f24456-719c-4ae8-b013-6f173f4cf8bc', 'mimetype_inner': None, 'format': 'CSV', 'revision_id': '0d1e8d51-38fe-461b-92a2-908b1722f9cc', 'webstore_last_updated': None, 'id': '3f6df874-fd7f-4a5a-85ce-92b1b34e3b07', 'last_modified': '2017-02-15T09:35:52.124565', 'hash': '', 'resource_type': None, 'size': None, 'webstore_url': None, 'position': 6, 'mimetype': None, 'url': 'http://catalog.data.ug/dataset/24f24456-719c-4ae8-b013-6f173f4cf8bc/resource/3f6df874-fd7f-4a5a-85ce-92b1b34e3b07/download/2014-census-datanumber-of-households-by-main-source-of-livelihood-and-remittances-by-district.csv', 'state': 'active', 'datastore_active': True, 'description': 'The data shows the number of households by main source of livelihood and remittances from abroad by sub-county in each district in Uganda.'}, {'cache_last_updated': None, 'name': 'Ownership of household assets and mosquito nets by district', 'created': '2017-02-15T12:39:54.525147', 'cache_url': None, 'url_type': 'upload', 'package_id': '24f24456-719c-4ae8-b013-6f173f4cf8bc', 'mimetype_inner': None, 'format': 'CSV', 'revision_id': '5a6192a7-0ea4-4e19-b8b6-ca97bac470af', 'webstore_last_updated': None, 'id': 'faa8db25-a227-4baf-ac6d-774d76a1fb0a', 'last_modified': '2017-02-15T09:39:54.489565', 'hash': '', 'resource_type': None, 'size': None, 'webstore_url': None, 'position': 7, 'mimetype': None, 'url': 'http://catalog.data.ug/dataset/24f24456-719c-4ae8-b013-6f173f4cf8bc/resource/faa8db25-a227-4baf-ac6d-774d76a1fb0a/download/2014-census-dataownership-of-household-assets-and-mosquito-nets-in-uganda-by-district.csv', 'state': 'active', 'datastore_active': True, 'description': 'The data shows the ownership of household assets and mosquito nets by sub-county in each district of Uganda.'}, {'cache_last_updated': None, 'name': 'Number of households with access to selected basic needs by district.', 'created': '2017-02-15T12:44:15.963410', 'cache_url': None, 'url_type': 'upload', 'package_id': '24f24456-719c-4ae8-b013-6f173f4cf8bc', 'mimetype_inner': None, 'format': 'CSV', 'revision_id': '0c1c188d-c8e8-488f-a668-71a48dadd407', 'webstore_last_updated': None, 'id': '50ba168c-51a2-43eb-b243-e352a300b9db', 'last_modified': '2017-02-15T09:44:15.921026', 'hash': '', 'resource_type': None, 'size': None, 'webstore_url': None, 'position': 8, 'mimetype': None, 'url': 'http://catalog.data.ug/dataset/24f24456-719c-4ae8-b013-6f173f4cf8bc/resource/50ba168c-51a2-43eb-b243-e352a300b9db/download/2014-census-datanumber-of-households-with-access-to-selected-basic-needs.csv', 'state': 'active', 'datastore_active': True, 'description': 'The data shows the number of households with access to selected basic needs by sub-county in each district.'}, {'cache_last_updated': None, 'name': 'Number of households by type of construction materials for the dwelling unit.', 'created': '2017-02-15T12:48:54.986240', 'cache_url': None, 'url_type': 'upload', 'package_id': '24f24456-719c-4ae8-b013-6f173f4cf8bc', 'mimetype_inner': None, 'format': 'CSV', 'revision_id': '4b4f99cc-6f07-4e7d-9271-90f7a16141d6', 'webstore_last_updated': None, 'id': '667bbae6-5530-43ef-8e2c-eb9af3907030', 'last_modified': '2017-02-15T09:48:54.945871', 'hash': '', 'resource_type': None, 'size': None, 'webstore_url': None, 'position': 9, 'mimetype': None, 'url': 'http://catalog.data.ug/dataset/24f24456-719c-4ae8-b013-6f173f4cf8bc/resource/667bbae6-5530-43ef-8e2c-eb9af3907030/download/2014-census-datanumber-of-households-by-type-of-construction-materials-for-the-dwelling-unit.csv', 'state': 'active', 'datastore_active': False, 'description': 'The data shows the number of households by type of construction materials for the dwelling unit in each district of Uganda.'}, {'cache_last_updated': None, 'name': 'Number of households and main source of energy for lighting.', 'created': '2017-02-15T12:52:36.740737', 'cache_url': None, 'url_type': 'upload', 'package_id': '24f24456-719c-4ae8-b013-6f173f4cf8bc', 'mimetype_inner': None, 'format': 'CSV', 'revision_id': '5dcb89e9-293f-4a50-a2a1-c44e389884c5', 'webstore_last_updated': None, 'id': 'f0fca760-85dc-4eb4-8744-6e4f4823ab5b', 'last_modified': '2017-02-15T09:52:36.699771', 'hash': '', 'resource_type': None, 'size': None, 'webstore_url': None, 'position': 10, 'mimetype': None, 'url': 'http://catalog.data.ug/dataset/24f24456-719c-4ae8-b013-6f173f4cf8bc/resource/f0fca760-85dc-4eb4-8744-6e4f4823ab5b/download/2014-census-datanumber-of-households-and-main-source-of-energy-for-lighting.csv', 'state': 'active', 'datastore_active': True, 'description': 'The data shows the number of households and the main source of energy for lighting by sub-county in each district.'}, {'cache_last_updated': None, 'name': 'Number of households,source of drinking water and toilet facility.', 'created': '2017-02-15T12:57:34.753420', 'cache_url': None, 'url_type': 'upload', 'package_id': '24f24456-719c-4ae8-b013-6f173f4cf8bc', 'mimetype_inner': None, 'format': 'CSV', 'revision_id': '8c38dfed-05ad-4069-ab15-76eaac941dde', 'webstore_last_updated': None, 'id': '81d78f4a-28a6-4433-a688-1a58a46fa4d4', 'last_modified': '2017-02-15T09:57:34.705713', 'hash': '', 'resource_type': None, 'size': None, 'webstore_url': None, 'position': 11, 'mimetype': None, 'url': 'http://catalog.data.ug/dataset/24f24456-719c-4ae8-b013-6f173f4cf8bc/resource/81d78f4a-28a6-4433-a688-1a58a46fa4d4/download/2014-census-datanumber-of-householdssource-of-drinking-water-and-toilet-facility.csv', 'state': 'active', 'datastore_active': True, 'description': 'The data shows the number of households, source of drinking water and toilet facility by sub-county in each district.'}, {'cache_last_updated': None, 'name': 'Total population by sex, sex ratio and population density.', 'created': '2017-02-15T13:03:16.870894', 'cache_url': None, 'url_type': 'upload', 'package_id': '24f24456-719c-4ae8-b013-6f173f4cf8bc', 'mimetype_inner': None, 'format': 'CSV', 'revision_id': '0170585a-e614-45f2-9eae-96ab997c2579', 'webstore_last_updated': None, 'id': 'a7aff54f-a3e1-408c-94b4-cb28dde3c7dd', 'last_modified': '2017-02-15T10:03:16.809986', 'hash': '', 'resource_type': None, 'size': None, 'webstore_url': None, 'position': 12, 'mimetype': None, 'url': 'http://catalog.data.ug/dataset/24f24456-719c-4ae8-b013-6f173f4cf8bc/resource/a7aff54f-a3e1-408c-94b4-cb28dde3c7dd/download/2014-uganda-population-by-sex-sex-ratio-by-district.csv', 'state': 'active', 'datastore_active': True, 'description': 'The data shows the total population by sex, sex ratio and population density by sub-county in each district.'}], 'license_url': 'http://www.opendefinition.org/licenses/cc-by', 'type': 'dataset', 'title': '2014 Census Data', 'metadata_modified': '2017-02-15T10:26:35.978534', 'state': 'active', 'num_resources': 13, 'license_id': 'cc-by', 'private': False, 'extras': [], 'maintainer_email': 'bssenabulya@acme-ug.org'}\n",
      "(Pdb) metadata['result'].keys()\n",
      "dict_keys(['isopen', 'url', 'relationships_as_object', 'organization', 'metadata_created', 'tags', 'author', 'creator_user_id', 'owner_org', 'revision_id', 'id', 'version', 'author_email', 'num_tags', 'groups', 'name', 'relationships_as_subject', 'maintainer', 'license_title', 'notes', 'resources', 'license_url', 'type', 'title', 'metadata_modified', 'state', 'num_resources', 'license_id', 'private', 'extras', 'maintainer_email'])\n",
      "(Pdb) metadata['result']['author']\n",
      "'Lydia Namubiru'\n",
      "(Pdb) metadata['result']['owner_org']\n",
      "'38fbf0e4-b7a0-46b1-89c0-ec281664ec08'\n"
     ]
    }
   ],
   "source": [
    "ckan_glossarizer.write_resource_representation(domain=\"catalog.data.ug\",\n",
    "                                               out=\"../data/uganda/resource lists/resources-new.json\",\n",
    "                                               protocol=\"http\")"
   ]
  },
  {
   "cell_type": "code",
   "execution_count": null,
   "metadata": {
    "collapsed": true
   },
   "outputs": [],
   "source": []
  }
 ],
 "metadata": {
  "kernelspec": {
   "display_name": "Python 3",
   "language": "python",
   "name": "python3"
  },
  "language_info": {
   "codemirror_mode": {
    "name": "ipython",
    "version": 3
   },
   "file_extension": ".py",
   "mimetype": "text/x-python",
   "name": "python",
   "nbconvert_exporter": "python",
   "pygments_lexer": "ipython3",
   "version": "3.5.3"
  }
 },
 "nbformat": 4,
 "nbformat_minor": 2
}
