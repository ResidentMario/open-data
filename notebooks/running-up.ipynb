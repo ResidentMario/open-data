{
 "cells": [
  {
   "cell_type": "code",
   "execution_count": 1,
   "metadata": {
    "collapsed": true
   },
   "outputs": [],
   "source": [
    "import sys; sys.path.append(\"../src\")"
   ]
  },
  {
   "cell_type": "code",
   "execution_count": 2,
   "metadata": {
    "collapsed": false
   },
   "outputs": [],
   "source": [
    "from glossarizers import socrata_glossarizer"
   ]
  },
  {
   "cell_type": "code",
   "execution_count": null,
   "metadata": {
    "collapsed": false
   },
   "outputs": [
    {
     "name": "stdout",
     "output_type": "stream",
     "text": [
      "> /home/alex/Desktop/urban-physiology/src/glossarizers/socrata_glossarizer.py(198)write_glossary()\n",
      "-> resource_list, glossary = load_glossary_todo(resource_filename, glossary_filename, use_cache)\n",
      "(Pdb) n\n",
      "> /home/alex/Desktop/urban-physiology/src/glossarizers/socrata_glossarizer.py(201)write_glossary()\n",
      "-> try:\n",
      "(Pdb) n\n",
      "> /home/alex/Desktop/urban-physiology/src/glossarizers/socrata_glossarizer.py(208)write_glossary()\n",
      "-> if endpoint_type == \"table\":\n",
      "(Pdb) n\n",
      "> /home/alex/Desktop/urban-physiology/src/glossarizers/socrata_glossarizer.py(255)write_glossary()\n",
      "-> import limited_process\n",
      "(Pdb) n\n",
      "> /home/alex/Desktop/urban-physiology/src/glossarizers/socrata_glossarizer.py(256)write_glossary()\n",
      "-> q = limited_process.q()\n",
      "(Pdb) n\n",
      "> /home/alex/Desktop/urban-physiology/src/glossarizers/socrata_glossarizer.py(258)write_glossary()\n",
      "-> for i, resource in tqdm(list(enumerate(resource_list))):\n",
      "(Pdb) n\n"
     ]
    },
    {
     "name": "stderr",
     "output_type": "stream",
     "text": [
      "0it [00:00, ?it/s]\n"
     ]
    },
    {
     "name": "stdout",
     "output_type": "stream",
     "text": [
      "Internal StopIteration\n",
      "> /home/alex/Desktop/urban-physiology/src/glossarizers/socrata_glossarizer.py(258)write_glossary()\n",
      "-> for i, resource in tqdm(list(enumerate(resource_list))):\n",
      "(Pdb) resource_list\n",
      "[]\n"
     ]
    }
   ],
   "source": [
    "socrata_glossarizer.write_glossary(resource_filename=\"../data/nyc/resource lists/blob.json\",\n",
    "                                   glossary_filename=\"test-output.json\",\n",
    "                                   endpoint_type=\"blob\")"
   ]
  },
  {
   "cell_type": "code",
   "execution_count": null,
   "metadata": {
    "collapsed": true
   },
   "outputs": [],
   "source": []
  }
 ],
 "metadata": {
  "kernelspec": {
   "display_name": "Python 3",
   "language": "python",
   "name": "python3"
  },
  "language_info": {
   "codemirror_mode": {
    "name": "ipython",
    "version": 3
   },
   "file_extension": ".py",
   "mimetype": "text/x-python",
   "name": "python",
   "nbconvert_exporter": "python",
   "pygments_lexer": "ipython3",
   "version": "3.5.3"
  }
 },
 "nbformat": 4,
 "nbformat_minor": 2
}
