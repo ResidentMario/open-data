{
 "cells": [
  {
   "cell_type": "code",
   "execution_count": 1,
   "metadata": {
    "collapsed": true
   },
   "outputs": [],
   "source": [
    "import sys; sys.path.append(\"../src\")"
   ]
  },
  {
   "cell_type": "code",
   "execution_count": 2,
   "metadata": {
    "collapsed": false
   },
   "outputs": [],
   "source": [
    "from glossarizers import socrata_glossarizer"
   ]
  },
  {
   "cell_type": "code",
   "execution_count": 5,
   "metadata": {
    "collapsed": false,
    "scrolled": false
   },
   "outputs": [
    {
     "name": "stderr",
     "output_type": "stream",
     "text": [
      "\n",
      "  0%|          | 0/97 [00:00<?, ?it/s]\u001b[A\n",
      "\n",
      "Process Process-9:\n",
      "Traceback (most recent call last):\n",
      "  File \"/home/alex/miniconda3/envs/urban-physiology/lib/python3.5/multiprocessing/process.py\", line 249, in _bootstrap\n",
      "    self.run()\n",
      "  File \"/home/alex/miniconda3/envs/urban-physiology/lib/python3.5/multiprocessing/process.py\", line 93, in run\n",
      "    self._target(*self._args, **self._kwargs)\n",
      "  File \"../src/glossarizers/socrata_glossarizer.py\", line 163, in _size_up\n",
      "    return q.put(apply(datafy.get(uri, **kwargs)))\n",
      "  File \"/home/alex/miniconda3/envs/urban-physiology/lib/python3.5/site-packages/datafy/datafy.py\", line 159, in get\n",
      "    ret += get(\"file:///{0}/{1}\".format(temp_foldername, filename), type_hints=(mime, ext), localized=True)\n",
      "  File \"/home/alex/miniconda3/envs/urban-physiology/lib/python3.5/site-packages/datafy/datafy.py\", line 144, in get\n",
      "    z = zipfile.ZipFile(io.BytesIO(r.content))\n",
      "  File \"/home/alex/miniconda3/envs/urban-physiology/lib/python3.5/zipfile.py\", line 1026, in __init__\n",
      "    self._RealGetContents()\n",
      "  File \"/home/alex/miniconda3/envs/urban-physiology/lib/python3.5/zipfile.py\", line 1094, in _RealGetContents\n",
      "    raise BadZipFile(\"File is not a zip file\")\n",
      "zipfile.BadZipFile: File is not a zip file\n",
      "  7%|▋         | 7/97 [06:21<1:23:08, 55.43s/it]Process Process-16:\n",
      "Traceback (most recent call last):\n",
      "  File \"/home/alex/miniconda3/envs/urban-physiology/lib/python3.5/multiprocessing/process.py\", line 249, in _bootstrap\n",
      "    self.run()\n",
      "  File \"/home/alex/miniconda3/envs/urban-physiology/lib/python3.5/multiprocessing/process.py\", line 93, in run\n",
      "    self._target(*self._args, **self._kwargs)\n",
      "  File \"../src/glossarizers/socrata_glossarizer.py\", line 163, in _size_up\n",
      "    return q.put(apply(datafy.get(uri, **kwargs)))\n",
      "  File \"/home/alex/miniconda3/envs/urban-physiology/lib/python3.5/site-packages/datafy/datafy.py\", line 158, in get\n",
      "    mime = magic.from_file('{0}/{1}'.format(temp_foldername, filename), mime=True)\n",
      "  File \"/home/alex/miniconda3/envs/urban-physiology/lib/python3.5/site-packages/magic.py\", line 131, in from_file\n",
      "    return m.from_file(filename)\n",
      "  File \"/home/alex/miniconda3/envs/urban-physiology/lib/python3.5/site-packages/magic.py\", line 81, in from_file\n",
      "    with open(filename):\n",
      "IsADirectoryError: [Errno 21] Is a directory: '912446/COLP2016.gdb/'\n",
      "  8%|▊         | 8/97 [06:23<58:48, 39.65s/it]  "
     ]
    },
    {
     "name": "stdout",
     "output_type": "stream",
     "text": [
      "{'data': <Response [200]>, 'filepath': '.', 'extension': 'xlsx', 'mimetype': 'application/vnd.openxmlformats-officedocument.spreadsheetml.sheet'}\n"
     ]
    },
    {
     "name": "stderr",
     "output_type": "stream",
     "text": [
      "\r",
      "  9%|▉         | 9/97 [06:24<40:56, 27.92s/it]"
     ]
    },
    {
     "name": "stdout",
     "output_type": "stream",
     "text": [
      "{'data': <Response [200]>, 'filepath': '.', 'extension': 'xlsx', 'mimetype': 'application/vnd.openxmlformats-officedocument.spreadsheetml.sheet'}\n"
     ]
    },
    {
     "name": "stderr",
     "output_type": "stream",
     "text": [
      " 14%|█▍        | 14/97 [10:25<1:09:40, 50.37s/it]"
     ]
    },
    {
     "name": "stdout",
     "output_type": "stream",
     "text": [
      "{'data': <Response [200]>, 'filepath': '.', 'extension': 'xlsx', 'mimetype': 'application/vnd.openxmlformats-officedocument.spreadsheetml.sheet'}\n"
     ]
    },
    {
     "name": "stderr",
     "output_type": "stream",
     "text": [
      "\r",
      " 15%|█▌        | 15/97 [10:26<48:49, 35.73s/it]  "
     ]
    },
    {
     "name": "stdout",
     "output_type": "stream",
     "text": [
      "{'data': <Response [200]>, 'filepath': '.', 'extension': 'xlsx', 'mimetype': 'application/vnd.openxmlformats-officedocument.spreadsheetml.sheet'}\n"
     ]
    },
    {
     "name": "stderr",
     "output_type": "stream",
     "text": [
      " 18%|█▊        | 17/97 [11:30<48:15, 36.20s/it]"
     ]
    },
    {
     "name": "stdout",
     "output_type": "stream",
     "text": [
      "{'data': <Response [200]>, 'filepath': '.', 'extension': 'xlsx', 'mimetype': 'application/vnd.openxmlformats-officedocument.spreadsheetml.sheet'}\n"
     ]
    },
    {
     "name": "stderr",
     "output_type": "stream",
     "text": [
      "\r",
      " 19%|█▊        | 18/97 [11:30<33:32, 25.48s/it]"
     ]
    },
    {
     "name": "stdout",
     "output_type": "stream",
     "text": [
      "{'data': <Response [200]>, 'filepath': '.', 'extension': 'xlsx', 'mimetype': 'application/vnd.openxmlformats-officedocument.spreadsheetml.sheet'}\n"
     ]
    },
    {
     "name": "stderr",
     "output_type": "stream",
     "text": [
      "\r",
      " 20%|█▉        | 19/97 [11:31<23:28, 18.05s/it]"
     ]
    },
    {
     "name": "stdout",
     "output_type": "stream",
     "text": [
      "{'data': <Response [200]>, 'filepath': '.', 'extension': 'xlsx', 'mimetype': 'application/vnd.openxmlformats-officedocument.spreadsheetml.sheet'}\n"
     ]
    },
    {
     "name": "stderr",
     "output_type": "stream",
     "text": [
      "\r",
      " 21%|██        | 20/97 [11:32<16:30, 12.87s/it]"
     ]
    },
    {
     "name": "stdout",
     "output_type": "stream",
     "text": [
      "{'data': <Response [404]>, 'filepath': 'Annual Procurement Indicator Report/Open Data- Appendix A Agency Procurement By Method_FY15.xlsx', 'extension': 'xlsx', 'mimetype': 'application/vnd.openxmlformats-officedocument.spreadsheetml.sheet'}\n",
      "{'data': <Response [404]>, 'filepath': 'Annual Procurement Indicator Report/Open Data- Appendix B Agency Procurement By Industry_FY15.xlsx', 'extension': 'xlsx', 'mimetype': 'application/vnd.openxmlformats-officedocument.spreadsheetml.sheet'}\n",
      "{'data': <Response [404]>, 'filepath': 'Annual Procurement Indicator Report/Open Data- Appendix C Agency Procurement By Size of Contract_FY15.xlsx', 'extension': 'xlsx', 'mimetype': 'application/vnd.openxmlformats-officedocument.spreadsheetml.sheet'}\n",
      "{'data': <Response [404]>, 'filepath': 'Annual Procurement Indicator Report/Open Data- Appendix D Discretionary Awards_FY15.xlsx', 'extension': 'xlsx', 'mimetype': 'application/vnd.openxmlformats-officedocument.spreadsheetml.sheet'}\n",
      "{'data': <Response [404]>, 'filepath': 'Annual Procurement Indicator Report/Open Data- Appendix E EPP_FY15.xlsx', 'extension': 'xlsx', 'mimetype': 'application/vnd.openxmlformats-officedocument.spreadsheetml.sheet'}\n",
      "{'data': <Response [404]>, 'filepath': 'Annual Procurement Indicator Report/Open Data- Appendix F Preferred Source Procurements_FY15.xlsx', 'extension': 'xlsx', 'mimetype': 'application/vnd.openxmlformats-officedocument.spreadsheetml.sheet'}\n",
      "{'data': <Response [404]>, 'filepath': 'Annual Procurement Indicator Report/Open Data- Appendix G New York State Food Purchasing_FY15.xlsx', 'extension': 'xlsx', 'mimetype': 'application/vnd.openxmlformats-officedocument.spreadsheetml.sheet'}\n",
      "{'data': <Response [404]>, 'filepath': 'Annual Procurement Indicator Report/Open Data Appendix H MWBE Prime Utilization_FY15.xlsx', 'extension': 'xlsx', 'mimetype': 'application/vnd.openxmlformats-officedocument.spreadsheetml.sheet'}\n",
      "{'data': <Response [404]>, 'filepath': 'Annual Procurement Indicator Report/Open Data Appendix H MWBE Prime Utilization_FY15_PrimeUtil_By_Agency.xlsx', 'extension': 'xlsx', 'mimetype': 'application/vnd.openxmlformats-officedocument.spreadsheetml.sheet'}\n",
      "{'data': <Response [404]>, 'filepath': 'Annual Procurement Indicator Report/Open Data Appendix H MWBE Prime Utilization_FY15_PrimeUtil_By_Industry_and_Size.xlsx', 'extension': 'xlsx', 'mimetype': 'application/vnd.openxmlformats-officedocument.spreadsheetml.sheet'}\n",
      "{'data': <Response [404]>, 'filepath': 'Annual Procurement Indicator Report/Open Data- Appendix I MWBE Participation Goals_FY15.xlsx', 'extension': 'xlsx', 'mimetype': 'application/vnd.openxmlformats-officedocument.spreadsheetml.sheet'}\n",
      "{'data': <Response [404]>, 'filepath': 'Annual Procurement Indicator Report/Open Data- Appendix I MWBE Participation Goals_FY15_PrimesWithGoals_LL1_Agency.xlsx', 'extension': 'xlsx', 'mimetype': 'application/vnd.openxmlformats-officedocument.spreadsheetml.sheet'}\n",
      "{'data': <Response [404]>, 'filepath': 'Annual Procurement Indicator Report/Open Data- Appendix I MWBE Participation Goals_FY15_PrimesWithGoals_LL29_Agency.xlsx', 'extension': 'xlsx', 'mimetype': 'application/vnd.openxmlformats-officedocument.spreadsheetml.sheet'}\n",
      "{'data': <Response [404]>, 'filepath': 'Annual Procurement Indicator Report/Open Data- Appendix J MWBE Subcontracting on Primes_FY15.xlsx', 'extension': 'xlsx', 'mimetype': 'application/vnd.openxmlformats-officedocument.spreadsheetml.sheet'}\n",
      "{'data': <Response [404]>, 'filepath': 'Annual Procurement Indicator Report/Open Data- Appendix J MWBE Subcontracting on Primes_FY15_SubsOnOpenPrimes_Agency_LL1.xlsx', 'extension': 'xlsx', 'mimetype': 'application/vnd.openxmlformats-officedocument.spreadsheetml.sheet'}\n",
      "{'data': <Response [404]>, 'filepath': 'Annual Procurement Indicator Report/Open Data- Appendix J MWBE Subcontracting on Primes_FY15_SubsOnOpenPrimes_Agency_LL29.xlsx', 'extension': 'xlsx', 'mimetype': 'application/vnd.openxmlformats-officedocument.spreadsheetml.sheet'}\n",
      "{'data': <Response [404]>, 'filepath': 'Annual Procurement Indicator Report/Open Data- Appendix K MWBE Large Scale Registrations_FY15.xlsx', 'extension': 'xlsx', 'mimetype': 'application/vnd.openxmlformats-officedocument.spreadsheetml.sheet'}\n",
      "{'data': <Response [404]>, 'filepath': 'Annual Procurement Indicator Report/Open Data- Prompt Payment Interest Rates_2013-2015.xlsx', 'extension': 'xlsx', 'mimetype': 'application/vnd.openxmlformats-officedocument.spreadsheetml.sheet'}\n"
     ]
    },
    {
     "name": "stderr",
     "output_type": "stream",
     "text": [
      "\r",
      " 22%|██▏       | 21/97 [11:33<11:47,  9.31s/it]"
     ]
    },
    {
     "name": "stdout",
     "output_type": "stream",
     "text": [
      "{'data': <Response [404]>, 'filepath': 'Local Law 1 City Council Report/Open Data Appendix H MWBE Prime Utilization_FY15.xlsx', 'extension': 'xlsx', 'mimetype': 'application/vnd.openxmlformats-officedocument.spreadsheetml.sheet'}\n",
      "{'data': <Response [404]>, 'filepath': 'Local Law 1 City Council Report/Open Data Appendix H MWBE Prime Utilization_FY15_PrimeUtil_By_Agency.xlsx', 'extension': 'xlsx', 'mimetype': 'application/vnd.openxmlformats-officedocument.spreadsheetml.sheet'}\n",
      "{'data': <Response [404]>, 'filepath': 'Local Law 1 City Council Report/Open Data Appendix H MWBE Prime Utilization_FY15_PrimeUtil_By_Industry_and_Size.xlsx', 'extension': 'xlsx', 'mimetype': 'application/vnd.openxmlformats-officedocument.spreadsheetml.sheet'}\n",
      "{'data': <Response [404]>, 'filepath': 'Local Law 1 City Council Report/Open Data- Appendix I MWBE Participation Goals_FY15.xlsx', 'extension': 'xlsx', 'mimetype': 'application/vnd.openxmlformats-officedocument.spreadsheetml.sheet'}\n",
      "{'data': <Response [404]>, 'filepath': 'Local Law 1 City Council Report/Open Data- Appendix I MWBE Participation Goals_FY15_PrimesWithGoals_LL1_Agency.xlsx', 'extension': 'xlsx', 'mimetype': 'application/vnd.openxmlformats-officedocument.spreadsheetml.sheet'}\n",
      "{'data': <Response [404]>, 'filepath': 'Local Law 1 City Council Report/Open Data- Appendix I MWBE Participation Goals_FY15_PrimesWithGoals_LL29_Agency.xlsx', 'extension': 'xlsx', 'mimetype': 'application/vnd.openxmlformats-officedocument.spreadsheetml.sheet'}\n",
      "{'data': <Response [404]>, 'filepath': 'Local Law 1 City Council Report/Open Data- Appendix J MWBE Subcontracting on Primes_FY15.xlsx', 'extension': 'xlsx', 'mimetype': 'application/vnd.openxmlformats-officedocument.spreadsheetml.sheet'}\n",
      "{'data': <Response [404]>, 'filepath': 'Local Law 1 City Council Report/Open Data- Appendix J MWBE Subcontracting on Primes_FY15_SubsOnOpenPrimes_Agency_LL1.xlsx', 'extension': 'xlsx', 'mimetype': 'application/vnd.openxmlformats-officedocument.spreadsheetml.sheet'}\n",
      "{'data': <Response [404]>, 'filepath': 'Local Law 1 City Council Report/Open Data- Appendix J MWBE Subcontracting on Primes_FY15_SubsOnOpenPrimes_Agency_LL29.xlsx', 'extension': 'xlsx', 'mimetype': 'application/vnd.openxmlformats-officedocument.spreadsheetml.sheet'}\n",
      "{'data': <Response [404]>, 'filepath': 'Local Law 1 City Council Report/Open Data- Appendix K MWBE Large Scale Registrations_FY15.xlsx', 'extension': 'xlsx', 'mimetype': 'application/vnd.openxmlformats-officedocument.spreadsheetml.sheet'}\n"
     ]
    },
    {
     "name": "stderr",
     "output_type": "stream",
     "text": [
      " 23%|██▎       | 22/97 [11:33<08:22,  6.71s/it]Process Process-31:\n",
      "Traceback (most recent call last):\n",
      "  File \"/home/alex/miniconda3/envs/urban-physiology/lib/python3.5/multiprocessing/process.py\", line 249, in _bootstrap\n",
      "    self.run()\n",
      "  File \"/home/alex/miniconda3/envs/urban-physiology/lib/python3.5/multiprocessing/process.py\", line 93, in run\n",
      "    self._target(*self._args, **self._kwargs)\n",
      "  File \"../src/glossarizers/socrata_glossarizer.py\", line 163, in _size_up\n",
      "    return q.put(apply(datafy.get(uri, **kwargs)))\n",
      "  File \"/home/alex/miniconda3/envs/urban-physiology/lib/python3.5/site-packages/datafy/datafy.py\", line 158, in get\n",
      "    mime = magic.from_file('{0}/{1}'.format(temp_foldername, filename), mime=True)\n",
      "  File \"/home/alex/miniconda3/envs/urban-physiology/lib/python3.5/site-packages/magic.py\", line 131, in from_file\n",
      "    return m.from_file(filename)\n",
      "  File \"/home/alex/miniconda3/envs/urban-physiology/lib/python3.5/site-packages/magic.py\", line 81, in from_file\n",
      "    with open(filename):\n",
      "IsADirectoryError: [Errno 21] Is a directory: '901167/Detention_and_Placement_Incident_Reports/Detention and Placement Incident Reports/'\n",
      " 24%|██▎       | 23/97 [11:34<06:02,  4.89s/it]"
     ]
    },
    {
     "name": "stdout",
     "output_type": "stream",
     "text": [
      "{'data': <Response [404]>, 'filepath': 'Detention and Placement Abuseneglect reports/Annual Child Abuse Allegations  FY15.xls', 'extension': 'xls', 'mimetype': 'application/vnd.ms-excel'}\n",
      "{'data': <Response [404]>, 'filepath': 'Detention and Placement Abuseneglect reports/Annual Child Abuse Allegations  FY16.xls', 'extension': 'xls', 'mimetype': 'application/vnd.ms-excel'}\n"
     ]
    },
    {
     "name": "stderr",
     "output_type": "stream",
     "text": [
      "\r",
      " 25%|██▍       | 24/97 [11:34<04:20,  3.56s/it]"
     ]
    },
    {
     "name": "stdout",
     "output_type": "stream",
     "text": [
      "{'data': <Response [404]>, 'filepath': 'Detention and Placement  Demographic reports/City Council Demographic Report FY15 detention.xls', 'extension': 'xls', 'mimetype': 'application/vnd.ms-excel'}\n",
      "{'data': <Response [404]>, 'filepath': 'Detention and Placement  Demographic reports/NSP demographics report to City Council FY 2015.xlsx', 'extension': 'xlsx', 'mimetype': 'application/vnd.openxmlformats-officedocument.spreadsheetml.sheet'}\n",
      "{'data': <Response [404]>, 'filepath': 'Detention and Placement  Demographic reports/City Council Detention Demographic Report FY16 (updated 10-6-16).xls', 'extension': 'xls', 'mimetype': 'application/vnd.ms-excel'}\n",
      "{'data': <Response [404]>, 'filepath': 'Detention and Placement  Demographic reports/CTH demographics report to City Council FY 2016.xlsx', 'extension': 'xlsx', 'mimetype': 'application/vnd.openxmlformats-officedocument.spreadsheetml.sheet'}\n"
     ]
    },
    {
     "name": "stderr",
     "output_type": "stream",
     "text": [
      "\r",
      " 26%|██▌       | 25/97 [11:35<03:12,  2.67s/it]"
     ]
    },
    {
     "name": "stdout",
     "output_type": "stream",
     "text": [
      "{'data': <Response [404]>, 'filepath': 'Arts Survey Data_ 2012-2013_ODP.csv', 'extension': 'csv', 'mimetype': 'text/plain'}\n",
      "{'data': <Response [404]>, 'filepath': 'Arts Survey Data_ 2013-2014_ODP.csv', 'extension': 'csv', 'mimetype': 'text/plain'}\n",
      "{'data': <Response [404]>, 'filepath': 'Arts Survey Data_ 2011-2012_ODP.csv', 'extension': 'csv', 'mimetype': 'text/plain'}\n"
     ]
    },
    {
     "name": "stderr",
     "output_type": "stream",
     "text": [
      " 27%|██▋       | 26/97 [11:37<02:54,  2.46s/it]Process Process-35:\n",
      "Traceback (most recent call last):\n",
      "  File \"/home/alex/miniconda3/envs/urban-physiology/lib/python3.5/multiprocessing/process.py\", line 249, in _bootstrap\n",
      "    self.run()\n",
      "  File \"/home/alex/miniconda3/envs/urban-physiology/lib/python3.5/multiprocessing/process.py\", line 93, in run\n",
      "    self._target(*self._args, **self._kwargs)\n",
      "  File \"../src/glossarizers/socrata_glossarizer.py\", line 163, in _size_up\n",
      "    return q.put(apply(datafy.get(uri, **kwargs)))\n",
      "  File \"/home/alex/miniconda3/envs/urban-physiology/lib/python3.5/site-packages/datafy/datafy.py\", line 158, in get\n",
      "    mime = magic.from_file('{0}/{1}'.format(temp_foldername, filename), mime=True)\n",
      "  File \"/home/alex/miniconda3/envs/urban-physiology/lib/python3.5/site-packages/magic.py\", line 131, in from_file\n",
      "    return m.from_file(filename)\n",
      "  File \"/home/alex/miniconda3/envs/urban-physiology/lib/python3.5/site-packages/magic.py\", line 81, in from_file\n",
      "    with open(filename):\n",
      "IsADirectoryError: [Errno 21] Is a directory: '2586/New York City Street Reconstruction 10 Year Plan (1)/'\n",
      " 28%|██▊       | 27/97 [11:38<02:28,  2.13s/it]"
     ]
    },
    {
     "name": "stdout",
     "output_type": "stream",
     "text": [
      "{'data': <Response [404]>, 'filepath': 'RPL.txt', 'extension': 'txt', 'mimetype': 'text/plain'}\n"
     ]
    },
    {
     "name": "stderr",
     "output_type": "stream",
     "text": [
      "\r",
      " 29%|██▉       | 28/97 [11:39<01:57,  1.71s/it]"
     ]
    },
    {
     "name": "stdout",
     "output_type": "stream",
     "text": [
      "{'data': <Response [404]>, 'filepath': 'TaxIncentive20150519.txt', 'extension': 'txt', 'mimetype': 'text/plain'}\n",
      "{'data': <Response [404]>, 'filepath': 'UnitIncomeRent20150519.txt', 'extension': 'txt', 'mimetype': 'text/plain'}\n",
      "{'data': <Response [404]>, 'filepath': 'DeveloperSelection20150519.txt', 'extension': 'txt', 'mimetype': 'text/plain'}\n",
      "{'data': <Response [404]>, 'filepath': 'DevelopmentTeam20150519.txt', 'extension': 'txt', 'mimetype': 'text/plain'}\n",
      "{'data': <Response [404]>, 'filepath': 'Fund20150519.txt', 'extension': 'txt', 'mimetype': 'text/plain'}\n",
      "{'data': <Response [404]>, 'filepath': 'LIHTC20150519.txt', 'extension': 'txt', 'mimetype': 'text/plain'}\n",
      "{'data': <Response [404]>, 'filepath': 'LocalLaw4420150519.xml', 'extension': 'xml', 'mimetype': 'application/xml'}\n",
      "{'data': <Response [404]>, 'filepath': 'OtherCityFinancialAssistance20150519.txt', 'extension': 'txt', 'mimetype': 'text/plain'}\n",
      "{'data': <Response [404]>, 'filepath': 'Project20150519.txt', 'extension': 'txt', 'mimetype': 'text/plain'}\n",
      "{'data': <Response [404]>, 'filepath': 'ProjectBuilding20150519.txt', 'extension': 'txt', 'mimetype': 'text/plain'}\n",
      "{'data': <Response [404]>, 'filepath': 'RentAffordability20150519.txt', 'extension': 'txt', 'mimetype': 'text/plain'}\n"
     ]
    },
    {
     "name": "stderr",
     "output_type": "stream",
     "text": [
      "\r",
      " 30%|██▉       | 29/97 [11:40<01:39,  1.46s/it]"
     ]
    },
    {
     "name": "stdout",
     "output_type": "stream",
     "text": [
      "{'data': <Response [404]>, 'filepath': 'Bytes of the Big Apple Street Name Dictionary.pdf', 'extension': 'pdf', 'mimetype': 'application/pdf'}\n",
      "{'data': <Response [404]>, 'filepath': 'snd17Acow.txt', 'extension': 'txt', 'mimetype': 'text/plain'}\n",
      "{'data': <Response [404]>, 'filepath': 'SND_metadata.pdf', 'extension': 'pdf', 'mimetype': 'application/pdf'}\n"
     ]
    },
    {
     "name": "stderr",
     "output_type": "stream",
     "text": [
      "\r",
      " 31%|███       | 30/97 [11:41<01:37,  1.46s/it]"
     ]
    },
    {
     "name": "stdout",
     "output_type": "stream",
     "text": [
      "{'data': <Response [404]>, 'filepath': 'bobaadr.txt', 'extension': 'txt', 'mimetype': 'text/plain'}\n",
      "{'data': <Response [404]>, 'filepath': 'bobabbl.txt', 'extension': 'txt', 'mimetype': 'text/plain'}\n",
      "{'data': <Response [404]>, 'filepath': 'Bytes of the Big Apple Property Address Directory.pdf', 'extension': 'pdf', 'mimetype': 'application/pdf'}\n",
      "{'data': <Response [404]>, 'filepath': 'Bytes of the Big Apple Street Name Dictionary.pdf', 'extension': 'pdf', 'mimetype': 'application/pdf'}\n",
      "{'data': <Response [404]>, 'filepath': 'snd17Acow.txt', 'extension': 'txt', 'mimetype': 'text/plain'}\n",
      "{'data': <Response [404]>, 'filepath': 'SND_metadata.pdf', 'extension': 'pdf', 'mimetype': 'application/pdf'}\n"
     ]
    },
    {
     "name": "stderr",
     "output_type": "stream",
     "text": [
      "\r",
      " 32%|███▏      | 31/97 [11:58<06:32,  5.94s/it]"
     ]
    },
    {
     "name": "stdout",
     "output_type": "stream",
     "text": [
      "{'data': <Response [404]>, 'filepath': 'Annual Report/Exhibit 01 Agency Summary 2014.doc', 'extension': 'doc', 'mimetype': 'application/msword'}\n",
      "{'data': <Response [404]>, 'filepath': 'Annual Report/Exhibit 03 Training Classes.docx', 'extension': 'docx', 'mimetype': 'application/vnd.openxmlformats-officedocument.wordprocessingml.document'}\n",
      "{'data': <Response [404]>, 'filepath': 'Annual Report/Exhibit 04 Training Agencies.docx', 'extension': 'docx', 'mimetype': 'application/vnd.openxmlformats-officedocument.wordprocessingml.document'}\n",
      "{'data': <Response [404]>, 'filepath': 'Annual Report/Exhibit 06 Advice Summary.doc', 'extension': 'doc', 'mimetype': 'application/msword'}\n",
      "{'data': <Response [404]>, 'filepath': 'Annual Report/Exhibit 07 Advice Requests.doc', 'extension': 'doc', 'mimetype': 'application/msword'}\n",
      "{'data': <Response [404]>, 'filepath': 'Annual Report/Exhibit 08 Advice Outputs.doc', 'extension': 'doc', 'mimetype': 'application/msword'}\n"
     ]
    },
    {
     "name": "stderr",
     "output_type": "stream",
     "text": [
      "\r",
      " 33%|███▎      | 32/97 [11:58<04:42,  4.34s/it]"
     ]
    },
    {
     "name": "stdout",
     "output_type": "stream",
     "text": [
      "{'data': <Response [200]>, 'filepath': '.', 'extension': 'xlsx', 'mimetype': 'application/vnd.openxmlformats-officedocument.spreadsheetml.sheet'}\n"
     ]
    },
    {
     "name": "stderr",
     "output_type": "stream",
     "text": [
      "\r",
      " 34%|███▍      | 33/97 [11:59<03:23,  3.18s/it]"
     ]
    },
    {
     "name": "stdout",
     "output_type": "stream",
     "text": [
      "{'data': <Response [200]>, 'filepath': '.', 'extension': 'xlsx', 'mimetype': 'application/vnd.openxmlformats-officedocument.spreadsheetml.sheet'}\n"
     ]
    },
    {
     "name": "stderr",
     "output_type": "stream",
     "text": [
      " 35%|███▌      | 34/97 [12:00<02:42,  2.58s/it]Process Process-43:\n",
      "Traceback (most recent call last):\n",
      "  File \"/home/alex/miniconda3/envs/urban-physiology/lib/python3.5/multiprocessing/process.py\", line 249, in _bootstrap\n",
      "    self.run()\n",
      "  File \"/home/alex/miniconda3/envs/urban-physiology/lib/python3.5/multiprocessing/process.py\", line 93, in run\n",
      "    self._target(*self._args, **self._kwargs)\n",
      "  File \"../src/glossarizers/socrata_glossarizer.py\", line 163, in _size_up\n",
      "    return q.put(apply(datafy.get(uri, **kwargs)))\n",
      "  File \"/home/alex/miniconda3/envs/urban-physiology/lib/python3.5/site-packages/datafy/datafy.py\", line 158, in get\n",
      "    mime = magic.from_file('{0}/{1}'.format(temp_foldername, filename), mime=True)\n",
      "  File \"/home/alex/miniconda3/envs/urban-physiology/lib/python3.5/site-packages/magic.py\", line 131, in from_file\n",
      "    return m.from_file(filename)\n",
      "  File \"/home/alex/miniconda3/envs/urban-physiology/lib/python3.5/site-packages/magic.py\", line 81, in from_file\n",
      "    with open(filename):\n",
      "IsADirectoryError: [Errno 21] Is a directory: '789038/NYCWRP Shapefiles/'\n",
      " 36%|███▌      | 35/97 [12:02<02:35,  2.51s/it]"
     ]
    },
    {
     "name": "stdout",
     "output_type": "stream",
     "text": [
      "{'data': <Response [404]>, 'filepath': 'puma_housing_10to12_acs.xls', 'extension': 'xls', 'mimetype': 'application/vnd.ms-office'}\n",
      "{'data': <Response [404]>, 'filepath': 'puma_socio_10to12_acs.xls', 'extension': 'xls', 'mimetype': 'application/vnd.ms-office'}\n",
      "{'data': <Response [404]>, 'filepath': 'puma_demo_10to12_acs.xls', 'extension': 'xls', 'mimetype': 'application/vnd.ms-office'}\n",
      "{'data': <Response [404]>, 'filepath': 'puma_econ_10to12_acs.xls', 'extension': 'xls', 'mimetype': 'application/vnd.ms-office'}\n"
     ]
    },
    {
     "name": "stderr",
     "output_type": "stream",
     "text": [
      "\r",
      " 37%|███▋      | 36/97 [12:03<02:01,  1.99s/it]"
     ]
    },
    {
     "name": "stdout",
     "output_type": "stream",
     "text": [
      "{'data': <Response [404]>, 'filepath': 'acs_select_housing_08to12_ntas.xlsx', 'extension': 'xlsx', 'mimetype': 'application/vnd.openxmlformats-officedocument.spreadsheetml.sheet'}\n",
      "{'data': <Response [404]>, 'filepath': 'acs_socio_08to12_ntas.xlsx', 'extension': 'xlsx', 'mimetype': 'application/vnd.openxmlformats-officedocument.spreadsheetml.sheet'}\n",
      "{'data': <Response [404]>, 'filepath': 'acs_demo_08to12_ntas.xlsx', 'extension': 'xlsx', 'mimetype': 'application/vnd.openxmlformats-officedocument.spreadsheetml.sheet'}\n",
      "{'data': <Response [404]>, 'filepath': 'acs_select_econ_08to12_ntas.xlsx', 'extension': 'xlsx', 'mimetype': 'application/vnd.openxmlformats-officedocument.spreadsheetml.sheet'}\n"
     ]
    },
    {
     "name": "stderr",
     "output_type": "stream",
     "text": [
      "\r",
      " 38%|███▊      | 37/97 [12:06<02:13,  2.22s/it]"
     ]
    },
    {
     "name": "stdout",
     "output_type": "stream",
     "text": [
      "{'data': <Response [200]>, 'filepath': '.', 'extension': 'xlsx', 'mimetype': 'application/vnd.openxmlformats-officedocument.spreadsheetml.sheet'}\n"
     ]
    },
    {
     "name": "stderr",
     "output_type": "stream",
     "text": [
      "\r",
      " 39%|███▉      | 38/97 [12:06<01:42,  1.73s/it]"
     ]
    },
    {
     "name": "stdout",
     "output_type": "stream",
     "text": [
      "{'data': <Response [200]>, 'filepath': '.', 'extension': 'xlsx', 'mimetype': 'application/vnd.openxmlformats-officedocument.spreadsheetml.sheet'}\n"
     ]
    },
    {
     "name": "stderr",
     "output_type": "stream",
     "text": [
      "\r",
      " 40%|████      | 39/97 [12:07<01:26,  1.50s/it]"
     ]
    },
    {
     "name": "stdout",
     "output_type": "stream",
     "text": [
      "{'data': <Response [404]>, 'filepath': 'TIMS_DCPBikeCounts_Off_Street_2014.xlsx', 'extension': 'xlsx', 'mimetype': 'application/vnd.openxmlformats-officedocument.spreadsheetml.sheet'}\n",
      "{'data': <Response [404]>, 'filepath': 'TIMS_DCPBikeCounts_ON_Street_2014.xlsx', 'extension': 'xlsx', 'mimetype': 'application/vnd.openxmlformats-officedocument.spreadsheetml.sheet'}\n"
     ]
    },
    {
     "name": "stderr",
     "output_type": "stream",
     "text": [
      "\r",
      " 41%|████      | 40/97 [12:08<01:07,  1.18s/it]"
     ]
    },
    {
     "name": "stdout",
     "output_type": "stream",
     "text": [
      "{'data': <Response [404]>, 'filepath': 'City Council Report Q4 15.xls', 'extension': 'xls', 'mimetype': 'application/vnd.ms-excel'}\n",
      "{'data': <Response [404]>, 'filepath': 'City_20Council_20Report_20Q2_2015.xls', 'extension': 'xls', 'mimetype': 'application/vnd.ms-excel'}\n",
      "{'data': <Response [404]>, 'filepath': 'City Council Report 2015 Annual.xls', 'extension': 'xls', 'mimetype': 'application/vnd.ms-excel'}\n",
      "{'data': <Response [404]>, 'filepath': 'City Council Report Q1 16.xls', 'extension': 'xls', 'mimetype': 'application/vnd.ms-excel'}\n"
     ]
    },
    {
     "name": "stderr",
     "output_type": "stream",
     "text": [
      "\r",
      " 42%|████▏     | 41/97 [12:09<01:09,  1.25s/it]"
     ]
    },
    {
     "name": "stdout",
     "output_type": "stream",
     "text": [
      "{'data': <Response [404]>, 'filepath': 'Appendix_A_ProcurementsByIndustry.xlsx', 'extension': 'xlsx', 'mimetype': 'application/vnd.openxmlformats-officedocument.spreadsheetml.sheet'}\n",
      "{'data': <Response [404]>, 'filepath': 'Appendix_B_ProcurementsBySize.xlsx', 'extension': 'xlsx', 'mimetype': 'application/vnd.openxmlformats-officedocument.spreadsheetml.sheet'}\n",
      "{'data': <Response [404]>, 'filepath': 'Appendix_C_ProcurementsByMethod.xlsx', 'extension': 'xlsx', 'mimetype': 'application/vnd.openxmlformats-officedocument.spreadsheetml.sheet'}\n",
      "{'data': <Response [404]>, 'filepath': 'Appendix_D_AgencyCompetitiveness.xlsx', 'extension': 'xlsx', 'mimetype': 'application/vnd.openxmlformats-officedocument.spreadsheetml.sheet'}\n",
      "{'data': <Response [404]>, 'filepath': 'Appendix_E_EPP.xlsx', 'extension': 'xlsx', 'mimetype': 'application/vnd.openxmlformats-officedocument.spreadsheetml.sheet'}\n",
      "{'data': <Response [404]>, 'filepath': 'Appendix_F_FCRC.xlsx', 'extension': 'xlsx', 'mimetype': 'application/vnd.openxmlformats-officedocument.spreadsheetml.sheet'}\n",
      "{'data': <Response [404]>, 'filepath': 'Appendix_G_MWBE_UtilizationByAgency.xlsx', 'extension': 'xlsx', 'mimetype': 'application/vnd.openxmlformats-officedocument.spreadsheetml.sheet'}\n",
      "{'data': <Response [404]>, 'filepath': 'Appendix_H_MWBE_UtilizationByIndustry.xlsx', 'extension': 'xlsx', 'mimetype': 'application/vnd.openxmlformats-officedocument.spreadsheetml.sheet'}\n",
      "{'data': <Response [404]>, 'filepath': 'Appendix_I_MWBE_ParticipationGoals.xlsx', 'extension': 'xlsx', 'mimetype': 'application/vnd.openxmlformats-officedocument.spreadsheetml.sheet'}\n",
      "{'data': <Response [404]>, 'filepath': 'Appendix_J_MWBE_LargeScale.xlsx', 'extension': 'xlsx', 'mimetype': 'application/vnd.openxmlformats-officedocument.spreadsheetml.sheet'}\n",
      "{'data': <Response [404]>, 'filepath': 'Appendix_K_MWBE_Waivers.xlsx', 'extension': 'xlsx', 'mimetype': 'application/vnd.openxmlformats-officedocument.spreadsheetml.sheet'}\n",
      "{'data': <Response [404]>, 'filepath': 'Appendix_L_MWBE_Modifications.xlsx', 'extension': 'xlsx', 'mimetype': 'application/vnd.openxmlformats-officedocument.spreadsheetml.sheet'}\n",
      "{'data': <Response [404]>, 'filepath': 'Appendix_M_ApprenticeshipConstructionPrimes.xlsx', 'extension': 'xlsx', 'mimetype': 'application/vnd.openxmlformats-officedocument.spreadsheetml.sheet'}\n",
      "{'data': <Response [404]>, 'filepath': 'Appendix_N_ApprenticeshipSubs.xlsx', 'extension': 'xlsx', 'mimetype': 'application/vnd.openxmlformats-officedocument.spreadsheetml.sheet'}\n",
      "{'data': <Response [404]>, 'filepath': 'Appendix_O_NYSFoodPurchasing.xlsx', 'extension': 'xlsx', 'mimetype': 'application/vnd.openxmlformats-officedocument.spreadsheetml.sheet'}\n",
      "{'data': <Response [404]>, 'filepath': 'Appendix_P_VendorDisputes.xlsx', 'extension': 'xlsx', 'mimetype': 'application/vnd.openxmlformats-officedocument.spreadsheetml.sheet'}\n",
      "{'data': <Response [404]>, 'filepath': 'Backup of Appendix_J_MWBE_LargeScale.xlk', 'extension': 'xlk', 'mimetype': 'application/vnd.openxmlformats-officedocument.spreadsheetml.sheet'}\n"
     ]
    },
    {
     "name": "stderr",
     "output_type": "stream",
     "text": [
      "\r",
      " 43%|████▎     | 42/97 [12:10<01:01,  1.11s/it]"
     ]
    },
    {
     "name": "stdout",
     "output_type": "stream",
     "text": [
      "{'data': <Response [200]>, 'filepath': '.', 'extension': 'xlsx', 'mimetype': 'application/vnd.openxmlformats-officedocument.spreadsheetml.sheet'}\n"
     ]
    },
    {
     "name": "stderr",
     "output_type": "stream",
     "text": [
      "\r",
      " 44%|████▍     | 43/97 [12:11<00:52,  1.03it/s]"
     ]
    },
    {
     "name": "stdout",
     "output_type": "stream",
     "text": [
      "{'data': <Response [200]>, 'filepath': '.', 'extension': 'xlsx', 'mimetype': 'application/vnd.openxmlformats-officedocument.spreadsheetml.sheet'}\n"
     ]
    },
    {
     "name": "stderr",
     "output_type": "stream",
     "text": [
      "\r",
      " 45%|████▌     | 44/97 [12:11<00:45,  1.17it/s]"
     ]
    },
    {
     "name": "stdout",
     "output_type": "stream",
     "text": [
      "{'data': <Response [200]>, 'filepath': '.', 'extension': 'xlsx', 'mimetype': 'application/vnd.openxmlformats-officedocument.spreadsheetml.sheet'}\n"
     ]
    },
    {
     "name": "stderr",
     "output_type": "stream",
     "text": [
      "\r",
      " 46%|████▋     | 45/97 [12:12<00:42,  1.22it/s]"
     ]
    },
    {
     "name": "stdout",
     "output_type": "stream",
     "text": [
      "{'data': <Response [200]>, 'filepath': '.', 'extension': 'xlsx', 'mimetype': 'application/vnd.openxmlformats-officedocument.spreadsheetml.sheet'}\n"
     ]
    },
    {
     "name": "stderr",
     "output_type": "stream",
     "text": [
      "\r",
      " 47%|████▋     | 46/97 [12:12<00:36,  1.40it/s]"
     ]
    },
    {
     "name": "stdout",
     "output_type": "stream",
     "text": [
      "{'data': <Response [200]>, 'filepath': '.', 'extension': 'xlsx', 'mimetype': 'application/vnd.openxmlformats-officedocument.spreadsheetml.sheet'}\n"
     ]
    },
    {
     "name": "stderr",
     "output_type": "stream",
     "text": [
      "\r",
      " 48%|████▊     | 47/97 [12:13<00:34,  1.45it/s]"
     ]
    },
    {
     "name": "stdout",
     "output_type": "stream",
     "text": [
      "{'data': <Response [200]>, 'filepath': '.', 'extension': 'xls', 'mimetype': 'application/vnd.ms-excel'}\n"
     ]
    },
    {
     "name": "stderr",
     "output_type": "stream",
     "text": [
      " 52%|█████▏    | 50/97 [14:14<24:14, 30.95s/it]"
     ]
    },
    {
     "name": "stdout",
     "output_type": "stream",
     "text": [
      "{'data': <Response [200]>, 'filepath': '.', 'extension': 'xlsx', 'mimetype': 'application/vnd.openxmlformats-officedocument.spreadsheetml.sheet'}\n"
     ]
    },
    {
     "name": "stderr",
     "output_type": "stream",
     "text": [
      "\r",
      " 53%|█████▎    | 51/97 [14:14<16:42, 21.78s/it]"
     ]
    },
    {
     "name": "stdout",
     "output_type": "stream",
     "text": [
      "{'data': <Response [200]>, 'filepath': '.', 'extension': 'xlsx', 'mimetype': 'application/vnd.openxmlformats-officedocument.spreadsheetml.sheet'}\n"
     ]
    },
    {
     "name": "stderr",
     "output_type": "stream",
     "text": [
      " 59%|█████▉    | 57/97 [19:15<35:02, 52.56s/it]"
     ]
    },
    {
     "name": "stdout",
     "output_type": "stream",
     "text": [
      "{'data': <Response [200]>, 'filepath': '.', 'extension': 'xlsx', 'mimetype': 'application/vnd.openxmlformats-officedocument.spreadsheetml.sheet'}\n"
     ]
    },
    {
     "name": "stderr",
     "output_type": "stream",
     "text": [
      "\r",
      " 60%|█████▉    | 58/97 [19:16<24:01, 36.96s/it]"
     ]
    },
    {
     "name": "stdout",
     "output_type": "stream",
     "text": [
      "{'data': <Response [404]>, 'filepath': 'ZIP_CODE_040114.shx', 'extension': 'shx', 'mimetype': 'application/octet-stream'}\n",
      "{'data': <Response [404]>, 'filepath': 'ZIP_CODE_040114.dbf', 'extension': 'dbf', 'mimetype': 'application/x-dbf'}\n",
      "{'data': <Response [404]>, 'filepath': 'ZIP_CODE_040114.prj', 'extension': 'prj', 'mimetype': 'text/plain'}\n",
      "{'data': <Response [404]>, 'filepath': 'ZIP_CODE_040114.sbn', 'extension': 'sbn', 'mimetype': 'application/octet-stream'}\n",
      "{'data': <Response [404]>, 'filepath': 'ZIP_CODE_040114.sbx', 'extension': 'sbx', 'mimetype': 'application/octet-stream'}\n",
      "{'data': <Response [404]>, 'filepath': 'ZIP_CODE_040114.shp', 'extension': 'shp', 'mimetype': 'application/octet-stream'}\n",
      "{'data': <Response [404]>, 'filepath': 'ZIP_CODE_040114.shp.xml', 'extension': 'xml', 'mimetype': 'application/xml'}\n"
     ]
    },
    {
     "name": "stderr",
     "output_type": "stream",
     "text": [
      "\r",
      " 61%|██████    | 59/97 [19:17<16:39, 26.31s/it]"
     ]
    },
    {
     "name": "stdout",
     "output_type": "stream",
     "text": [
      "{'data': <Response [404]>, 'filepath': 'zoning.gdb/a00000001.gdbindexes', 'extension': 'gdbindexes', 'mimetype': 'application/octet-stream'}\n",
      "{'data': <Response [404]>, 'filepath': 'zoning.gdb/a00000001.gdbtable', 'extension': 'gdbtable', 'mimetype': 'application/octet-stream'}\n",
      "{'data': <Response [404]>, 'filepath': 'zoning.gdb/a00000001.gdbtablx', 'extension': 'gdbtablx', 'mimetype': 'application/octet-stream'}\n",
      "{'data': <Response [404]>, 'filepath': 'zoning.gdb/a00000001.TablesByName.atx', 'extension': 'atx', 'mimetype': 'application/octet-stream'}\n",
      "{'data': <Response [404]>, 'filepath': 'zoning.gdb/a00000002.gdbtable', 'extension': 'gdbtable', 'mimetype': 'application/octet-stream'}\n",
      "{'data': <Response [404]>, 'filepath': 'zoning.gdb/a00000002.gdbtablx', 'extension': 'gdbtablx', 'mimetype': 'application/octet-stream'}\n",
      "{'data': <Response [404]>, 'filepath': 'zoning.gdb/a00000003.gdbindexes', 'extension': 'gdbindexes', 'mimetype': 'application/octet-stream'}\n",
      "{'data': <Response [404]>, 'filepath': 'zoning.gdb/a00000003.gdbtable', 'extension': 'gdbtable', 'mimetype': 'application/octet-stream'}\n",
      "{'data': <Response [404]>, 'filepath': 'zoning.gdb/a00000003.gdbtablx', 'extension': 'gdbtablx', 'mimetype': 'application/octet-stream'}\n",
      "{'data': <Response [404]>, 'filepath': 'zoning.gdb/a00000004.CatItemsByPhysicalName.atx', 'extension': 'atx', 'mimetype': 'application/octet-stream'}\n",
      "{'data': <Response [404]>, 'filepath': 'zoning.gdb/a00000004.CatItemsByType.atx', 'extension': 'atx', 'mimetype': 'application/octet-stream'}\n",
      "{'data': <Response [404]>, 'filepath': 'zoning.gdb/a00000004.FDO_UUID.atx', 'extension': 'atx', 'mimetype': 'application/octet-stream'}\n",
      "{'data': <Response [404]>, 'filepath': 'zoning.gdb/a00000004.freelist', 'extension': 'freelist', 'mimetype': 'application/octet-stream'}\n",
      "{'data': <Response [404]>, 'filepath': 'zoning.gdb/a00000004.gdbindexes', 'extension': 'gdbindexes', 'mimetype': 'application/octet-stream'}\n",
      "{'data': <Response [404]>, 'filepath': 'zoning.gdb/a00000004.gdbtable', 'extension': 'gdbtable', 'mimetype': 'application/octet-stream'}\n",
      "{'data': <Response [404]>, 'filepath': 'zoning.gdb/a00000004.gdbtablx', 'extension': 'gdbtablx', 'mimetype': 'application/octet-stream'}\n",
      "{'data': <Response [404]>, 'filepath': 'zoning.gdb/a00000004.spx', 'extension': 'spx', 'mimetype': 'application/octet-stream'}\n",
      "{'data': <Response [404]>, 'filepath': 'zoning.gdb/a00000005.CatItemTypesByName.atx', 'extension': 'atx', 'mimetype': 'application/octet-stream'}\n",
      "{'data': <Response [404]>, 'filepath': 'zoning.gdb/a00000005.CatItemTypesByParentTypeID.atx', 'extension': 'atx', 'mimetype': 'application/octet-stream'}\n",
      "{'data': <Response [404]>, 'filepath': 'zoning.gdb/a00000005.CatItemTypesByUUID.atx', 'extension': 'atx', 'mimetype': 'application/octet-stream'}\n",
      "{'data': <Response [404]>, 'filepath': 'zoning.gdb/a00000005.gdbindexes', 'extension': 'gdbindexes', 'mimetype': 'application/octet-stream'}\n",
      "{'data': <Response [404]>, 'filepath': 'zoning.gdb/a00000005.gdbtable', 'extension': 'gdbtable', 'mimetype': 'application/octet-stream'}\n",
      "{'data': <Response [404]>, 'filepath': 'zoning.gdb/a00000005.gdbtablx', 'extension': 'gdbtablx', 'mimetype': 'application/octet-stream'}\n",
      "{'data': <Response [404]>, 'filepath': 'zoning.gdb/a00000006.CatRelsByDestinationID.atx', 'extension': 'atx', 'mimetype': 'application/octet-stream'}\n",
      "{'data': <Response [404]>, 'filepath': 'zoning.gdb/a00000006.CatRelsByOriginID.atx', 'extension': 'atx', 'mimetype': 'application/octet-stream'}\n",
      "{'data': <Response [404]>, 'filepath': 'zoning.gdb/a00000006.CatRelsByType.atx', 'extension': 'atx', 'mimetype': 'application/octet-stream'}\n",
      "{'data': <Response [404]>, 'filepath': 'zoning.gdb/a00000006.FDO_UUID.atx', 'extension': 'atx', 'mimetype': 'application/octet-stream'}\n",
      "{'data': <Response [404]>, 'filepath': 'zoning.gdb/a00000006.gdbindexes', 'extension': 'gdbindexes', 'mimetype': 'application/octet-stream'}\n",
      "{'data': <Response [404]>, 'filepath': 'zoning.gdb/a00000006.gdbtable', 'extension': 'gdbtable', 'mimetype': 'application/octet-stream'}\n",
      "{'data': <Response [404]>, 'filepath': 'zoning.gdb/a00000006.gdbtablx', 'extension': 'gdbtablx', 'mimetype': 'application/octet-stream'}\n",
      "{'data': <Response [404]>, 'filepath': 'zoning.gdb/a00000007.CatRelTypesByBackwardLabel.atx', 'extension': 'atx', 'mimetype': 'application/octet-stream'}\n",
      "{'data': <Response [404]>, 'filepath': 'zoning.gdb/a00000007.CatRelTypesByDestItemTypeID.atx', 'extension': 'atx', 'mimetype': 'application/octet-stream'}\n",
      "{'data': <Response [404]>, 'filepath': 'zoning.gdb/a00000007.CatRelTypesByForwardLabel.atx', 'extension': 'atx', 'mimetype': 'application/octet-stream'}\n",
      "{'data': <Response [404]>, 'filepath': 'zoning.gdb/a00000007.CatRelTypesByName.atx', 'extension': 'atx', 'mimetype': 'application/octet-stream'}\n",
      "{'data': <Response [404]>, 'filepath': 'zoning.gdb/a00000007.CatRelTypesByOriginItemTypeID.atx', 'extension': 'atx', 'mimetype': 'application/octet-stream'}\n",
      "{'data': <Response [404]>, 'filepath': 'zoning.gdb/a00000007.CatRelTypesByUUID.atx', 'extension': 'atx', 'mimetype': 'application/octet-stream'}\n",
      "{'data': <Response [404]>, 'filepath': 'zoning.gdb/a00000007.gdbindexes', 'extension': 'gdbindexes', 'mimetype': 'application/octet-stream'}\n",
      "{'data': <Response [404]>, 'filepath': 'zoning.gdb/a00000007.gdbtable', 'extension': 'gdbtable', 'mimetype': 'application/octet-stream'}\n",
      "{'data': <Response [404]>, 'filepath': 'zoning.gdb/a00000007.gdbtablx', 'extension': 'gdbtablx', 'mimetype': 'application/octet-stream'}\n",
      "{'data': <Response [404]>, 'filepath': 'zoning.gdb/a00000009.gdbindexes', 'extension': 'gdbindexes', 'mimetype': 'application/octet-stream'}\n",
      "{'data': <Response [404]>, 'filepath': 'zoning.gdb/a00000009.gdbtable', 'extension': 'gdbtable', 'mimetype': 'application/octet-stream'}\n",
      "{'data': <Response [404]>, 'filepath': 'zoning.gdb/a00000009.gdbtablx', 'extension': 'gdbtablx', 'mimetype': 'application/octet-stream'}\n",
      "{'data': <Response [404]>, 'filepath': 'zoning.gdb/a00000009.spx', 'extension': 'spx', 'mimetype': 'application/octet-stream'}\n",
      "{'data': <Response [404]>, 'filepath': 'zoning.gdb/a0000000a.gdbindexes', 'extension': 'gdbindexes', 'mimetype': 'application/octet-stream'}\n",
      "{'data': <Response [404]>, 'filepath': 'zoning.gdb/a0000000a.gdbtable', 'extension': 'gdbtable', 'mimetype': 'application/octet-stream'}\n",
      "{'data': <Response [404]>, 'filepath': 'zoning.gdb/a0000000a.gdbtablx', 'extension': 'gdbtablx', 'mimetype': 'application/octet-stream'}\n",
      "{'data': <Response [404]>, 'filepath': 'zoning.gdb/a0000000a.spx', 'extension': 'spx', 'mimetype': 'application/octet-stream'}\n",
      "{'data': <Response [404]>, 'filepath': 'zoning.gdb/a0000000b.gdbindexes', 'extension': 'gdbindexes', 'mimetype': 'application/octet-stream'}\n",
      "{'data': <Response [404]>, 'filepath': 'zoning.gdb/a0000000b.gdbtable', 'extension': 'gdbtable', 'mimetype': 'application/octet-stream'}\n",
      "{'data': <Response [404]>, 'filepath': 'zoning.gdb/a0000000b.gdbtablx', 'extension': 'gdbtablx', 'mimetype': 'application/octet-stream'}\n",
      "{'data': <Response [404]>, 'filepath': 'zoning.gdb/a0000000b.spx', 'extension': 'spx', 'mimetype': 'application/octet-stream'}\n",
      "{'data': <Response [404]>, 'filepath': 'zoning.gdb/a0000000c.gdbindexes', 'extension': 'gdbindexes', 'mimetype': 'application/octet-stream'}\n",
      "{'data': <Response [404]>, 'filepath': 'zoning.gdb/a0000000c.gdbtable', 'extension': 'gdbtable', 'mimetype': 'application/octet-stream'}\n",
      "{'data': <Response [404]>, 'filepath': 'zoning.gdb/a0000000c.gdbtablx', 'extension': 'gdbtablx', 'mimetype': 'application/octet-stream'}\n",
      "{'data': <Response [404]>, 'filepath': 'zoning.gdb/a0000000c.spx', 'extension': 'spx', 'mimetype': 'application/octet-stream'}\n",
      "{'data': <Response [404]>, 'filepath': 'zoning.gdb/a0000000d.gdbindexes', 'extension': 'gdbindexes', 'mimetype': 'application/octet-stream'}\n",
      "{'data': <Response [404]>, 'filepath': 'zoning.gdb/a0000000d.gdbtable', 'extension': 'gdbtable', 'mimetype': 'application/octet-stream'}\n",
      "{'data': <Response [404]>, 'filepath': 'zoning.gdb/a0000000d.gdbtablx', 'extension': 'gdbtablx', 'mimetype': 'application/octet-stream'}\n",
      "{'data': <Response [404]>, 'filepath': 'zoning.gdb/a0000000d.spx', 'extension': 'spx', 'mimetype': 'application/octet-stream'}\n",
      "{'data': <Response [404]>, 'filepath': 'zoning.gdb/a0000000e.gdbindexes', 'extension': 'gdbindexes', 'mimetype': 'application/octet-stream'}\n",
      "{'data': <Response [404]>, 'filepath': 'zoning.gdb/a0000000e.gdbtable', 'extension': 'gdbtable', 'mimetype': 'application/octet-stream'}\n",
      "{'data': <Response [404]>, 'filepath': 'zoning.gdb/a0000000e.gdbtablx', 'extension': 'gdbtablx', 'mimetype': 'application/octet-stream'}\n",
      "{'data': <Response [404]>, 'filepath': 'zoning.gdb/a0000000e.spx', 'extension': 'spx', 'mimetype': 'application/octet-stream'}\n",
      "{'data': <Response [404]>, 'filepath': 'zoning.gdb/gdb', 'extension': 'gdb/gdb', 'mimetype': 'application/octet-stream'}\n",
      "{'data': <Response [404]>, 'filepath': 'zoning.gdb/timestamps', 'extension': 'gdb/timestamps', 'mimetype': 'application/octet-stream'}\n"
     ]
    },
    {
     "name": "stderr",
     "output_type": "stream",
     "text": [
      "\r",
      " 62%|██████▏   | 60/97 [19:20<11:54, 19.31s/it]"
     ]
    },
    {
     "name": "stdout",
     "output_type": "stream",
     "text": [
      "{'data': <Response [404]>, 'filepath': 'sidewalkcafe.gdb/a00000001.gdbindexes', 'extension': 'gdbindexes', 'mimetype': 'application/octet-stream'}\n",
      "{'data': <Response [404]>, 'filepath': 'sidewalkcafe.gdb/a00000001.gdbtable', 'extension': 'gdbtable', 'mimetype': 'application/octet-stream'}\n",
      "{'data': <Response [404]>, 'filepath': 'sidewalkcafe.gdb/a00000001.gdbtablx', 'extension': 'gdbtablx', 'mimetype': 'application/octet-stream'}\n",
      "{'data': <Response [404]>, 'filepath': 'sidewalkcafe.gdb/a00000001.TablesByName.atx', 'extension': 'atx', 'mimetype': 'application/octet-stream'}\n",
      "{'data': <Response [404]>, 'filepath': 'sidewalkcafe.gdb/a00000002.gdbtable', 'extension': 'gdbtable', 'mimetype': 'application/octet-stream'}\n",
      "{'data': <Response [404]>, 'filepath': 'sidewalkcafe.gdb/a00000002.gdbtablx', 'extension': 'gdbtablx', 'mimetype': 'application/octet-stream'}\n",
      "{'data': <Response [404]>, 'filepath': 'sidewalkcafe.gdb/a00000003.gdbindexes', 'extension': 'gdbindexes', 'mimetype': 'application/octet-stream'}\n",
      "{'data': <Response [404]>, 'filepath': 'sidewalkcafe.gdb/a00000003.gdbtable', 'extension': 'gdbtable', 'mimetype': 'application/octet-stream'}\n",
      "{'data': <Response [404]>, 'filepath': 'sidewalkcafe.gdb/a00000003.gdbtablx', 'extension': 'gdbtablx', 'mimetype': 'application/octet-stream'}\n",
      "{'data': <Response [404]>, 'filepath': 'sidewalkcafe.gdb/a00000004.CatItemsByPhysicalName.atx', 'extension': 'atx', 'mimetype': 'application/octet-stream'}\n",
      "{'data': <Response [404]>, 'filepath': 'sidewalkcafe.gdb/a00000004.CatItemsByType.atx', 'extension': 'atx', 'mimetype': 'application/octet-stream'}\n",
      "{'data': <Response [404]>, 'filepath': 'sidewalkcafe.gdb/a00000004.FDO_UUID.atx', 'extension': 'atx', 'mimetype': 'application/octet-stream'}\n",
      "{'data': <Response [404]>, 'filepath': 'sidewalkcafe.gdb/a00000004.freelist', 'extension': 'freelist', 'mimetype': 'application/octet-stream'}\n",
      "{'data': <Response [404]>, 'filepath': 'sidewalkcafe.gdb/a00000004.gdbindexes', 'extension': 'gdbindexes', 'mimetype': 'application/octet-stream'}\n",
      "{'data': <Response [404]>, 'filepath': 'sidewalkcafe.gdb/a00000004.gdbtable', 'extension': 'gdbtable', 'mimetype': 'application/octet-stream'}\n",
      "{'data': <Response [404]>, 'filepath': 'sidewalkcafe.gdb/a00000004.gdbtablx', 'extension': 'gdbtablx', 'mimetype': 'application/octet-stream'}\n",
      "{'data': <Response [404]>, 'filepath': 'sidewalkcafe.gdb/a00000004.spx', 'extension': 'spx', 'mimetype': 'application/octet-stream'}\n",
      "{'data': <Response [404]>, 'filepath': 'sidewalkcafe.gdb/a00000005.CatItemTypesByName.atx', 'extension': 'atx', 'mimetype': 'application/octet-stream'}\n",
      "{'data': <Response [404]>, 'filepath': 'sidewalkcafe.gdb/a00000005.CatItemTypesByParentTypeID.atx', 'extension': 'atx', 'mimetype': 'application/octet-stream'}\n",
      "{'data': <Response [404]>, 'filepath': 'sidewalkcafe.gdb/a00000005.CatItemTypesByUUID.atx', 'extension': 'atx', 'mimetype': 'application/octet-stream'}\n",
      "{'data': <Response [404]>, 'filepath': 'sidewalkcafe.gdb/a00000005.gdbindexes', 'extension': 'gdbindexes', 'mimetype': 'application/octet-stream'}\n",
      "{'data': <Response [404]>, 'filepath': 'sidewalkcafe.gdb/a00000005.gdbtable', 'extension': 'gdbtable', 'mimetype': 'application/octet-stream'}\n",
      "{'data': <Response [404]>, 'filepath': 'sidewalkcafe.gdb/a00000005.gdbtablx', 'extension': 'gdbtablx', 'mimetype': 'application/octet-stream'}\n",
      "{'data': <Response [404]>, 'filepath': 'sidewalkcafe.gdb/a00000006.CatRelsByDestinationID.atx', 'extension': 'atx', 'mimetype': 'application/octet-stream'}\n",
      "{'data': <Response [404]>, 'filepath': 'sidewalkcafe.gdb/a00000006.CatRelsByOriginID.atx', 'extension': 'atx', 'mimetype': 'application/octet-stream'}\n",
      "{'data': <Response [404]>, 'filepath': 'sidewalkcafe.gdb/a00000006.CatRelsByType.atx', 'extension': 'atx', 'mimetype': 'application/octet-stream'}\n",
      "{'data': <Response [404]>, 'filepath': 'sidewalkcafe.gdb/a00000006.FDO_UUID.atx', 'extension': 'atx', 'mimetype': 'application/octet-stream'}\n",
      "{'data': <Response [404]>, 'filepath': 'sidewalkcafe.gdb/a00000006.gdbindexes', 'extension': 'gdbindexes', 'mimetype': 'application/octet-stream'}\n",
      "{'data': <Response [404]>, 'filepath': 'sidewalkcafe.gdb/a00000006.gdbtable', 'extension': 'gdbtable', 'mimetype': 'application/octet-stream'}\n",
      "{'data': <Response [404]>, 'filepath': 'sidewalkcafe.gdb/a00000006.gdbtablx', 'extension': 'gdbtablx', 'mimetype': 'application/octet-stream'}\n",
      "{'data': <Response [404]>, 'filepath': 'sidewalkcafe.gdb/a00000007.CatRelTypesByBackwardLabel.atx', 'extension': 'atx', 'mimetype': 'application/octet-stream'}\n",
      "{'data': <Response [404]>, 'filepath': 'sidewalkcafe.gdb/a00000007.CatRelTypesByDestItemTypeID.atx', 'extension': 'atx', 'mimetype': 'application/octet-stream'}\n",
      "{'data': <Response [404]>, 'filepath': 'sidewalkcafe.gdb/a00000007.CatRelTypesByForwardLabel.atx', 'extension': 'atx', 'mimetype': 'application/octet-stream'}\n",
      "{'data': <Response [404]>, 'filepath': 'sidewalkcafe.gdb/a00000007.CatRelTypesByName.atx', 'extension': 'atx', 'mimetype': 'application/octet-stream'}\n",
      "{'data': <Response [404]>, 'filepath': 'sidewalkcafe.gdb/a00000007.CatRelTypesByOriginItemTypeID.atx', 'extension': 'atx', 'mimetype': 'application/octet-stream'}\n",
      "{'data': <Response [404]>, 'filepath': 'sidewalkcafe.gdb/a00000007.CatRelTypesByUUID.atx', 'extension': 'atx', 'mimetype': 'application/octet-stream'}\n",
      "{'data': <Response [404]>, 'filepath': 'sidewalkcafe.gdb/a00000007.gdbindexes', 'extension': 'gdbindexes', 'mimetype': 'application/octet-stream'}\n",
      "{'data': <Response [404]>, 'filepath': 'sidewalkcafe.gdb/a00000007.gdbtable', 'extension': 'gdbtable', 'mimetype': 'application/octet-stream'}\n",
      "{'data': <Response [404]>, 'filepath': 'sidewalkcafe.gdb/a00000007.gdbtablx', 'extension': 'gdbtablx', 'mimetype': 'application/octet-stream'}\n",
      "{'data': <Response [404]>, 'filepath': 'sidewalkcafe.gdb/a00000009.gdbindexes', 'extension': 'gdbindexes', 'mimetype': 'application/octet-stream'}\n",
      "{'data': <Response [404]>, 'filepath': 'sidewalkcafe.gdb/a00000009.gdbtable', 'extension': 'gdbtable', 'mimetype': 'application/octet-stream'}\n",
      "{'data': <Response [404]>, 'filepath': 'sidewalkcafe.gdb/a00000009.gdbtablx', 'extension': 'gdbtablx', 'mimetype': 'application/octet-stream'}\n",
      "{'data': <Response [404]>, 'filepath': 'sidewalkcafe.gdb/a00000009.spx', 'extension': 'spx', 'mimetype': 'application/octet-stream'}\n",
      "{'data': <Response [404]>, 'filepath': 'sidewalkcafe.gdb/gdb', 'extension': 'gdb/gdb', 'mimetype': 'application/octet-stream'}\n",
      "{'data': <Response [404]>, 'filepath': 'sidewalkcafe.gdb/timestamps', 'extension': 'gdb/timestamps', 'mimetype': 'application/octet-stream'}\n"
     ]
    },
    {
     "name": "stderr",
     "output_type": "stream",
     "text": [
      "\r",
      " 63%|██████▎   | 61/97 [19:22<08:26, 14.06s/it]"
     ]
    },
    {
     "name": "stdout",
     "output_type": "stream",
     "text": [
      "{'data': <Response [404]>, 'filepath': 'lion/lion.gdb/a00000001.freelist', 'extension': 'freelist', 'mimetype': 'application/octet-stream'}\n",
      "{'data': <Response [404]>, 'filepath': 'lion/lion.gdb/a00000001.gdbindexes', 'extension': 'gdbindexes', 'mimetype': 'application/octet-stream'}\n",
      "{'data': <Response [404]>, 'filepath': 'lion/lion.gdb/a00000001.gdbtable', 'extension': 'gdbtable', 'mimetype': 'application/octet-stream'}\n",
      "{'data': <Response [404]>, 'filepath': 'lion/lion.gdb/a00000001.gdbtablx', 'extension': 'gdbtablx', 'mimetype': 'application/octet-stream'}\n",
      "{'data': <Response [404]>, 'filepath': 'lion/lion.gdb/a00000001.TablesByName.atx', 'extension': 'atx', 'mimetype': 'application/octet-stream'}\n",
      "{'data': <Response [404]>, 'filepath': 'lion/lion.gdb/a00000002.gdbtable', 'extension': 'gdbtable', 'mimetype': 'application/octet-stream'}\n",
      "{'data': <Response [404]>, 'filepath': 'lion/lion.gdb/a00000002.gdbtablx', 'extension': 'gdbtablx', 'mimetype': 'application/octet-stream'}\n",
      "{'data': <Response [404]>, 'filepath': 'lion/lion.gdb/a00000003.gdbindexes', 'extension': 'gdbindexes', 'mimetype': 'application/octet-stream'}\n",
      "{'data': <Response [404]>, 'filepath': 'lion/lion.gdb/a00000003.gdbtable', 'extension': 'gdbtable', 'mimetype': 'application/octet-stream'}\n",
      "{'data': <Response [404]>, 'filepath': 'lion/lion.gdb/a00000003.gdbtablx', 'extension': 'gdbtablx', 'mimetype': 'application/octet-stream'}\n",
      "{'data': <Response [404]>, 'filepath': 'lion/lion.gdb/a00000004.CatItemsByPhysicalName.atx', 'extension': 'atx', 'mimetype': 'application/octet-stream'}\n",
      "{'data': <Response [404]>, 'filepath': 'lion/lion.gdb/a00000004.CatItemsByType.atx', 'extension': 'atx', 'mimetype': 'application/octet-stream'}\n",
      "{'data': <Response [404]>, 'filepath': 'lion/lion.gdb/a00000004.FDO_UUID.atx', 'extension': 'atx', 'mimetype': 'application/octet-stream'}\n",
      "{'data': <Response [404]>, 'filepath': 'lion/lion.gdb/a00000004.freelist', 'extension': 'freelist', 'mimetype': 'application/octet-stream'}\n",
      "{'data': <Response [404]>, 'filepath': 'lion/lion.gdb/a00000004.gdbindexes', 'extension': 'gdbindexes', 'mimetype': 'application/octet-stream'}\n",
      "{'data': <Response [404]>, 'filepath': 'lion/lion.gdb/a00000004.gdbtable', 'extension': 'gdbtable', 'mimetype': 'application/octet-stream'}\n",
      "{'data': <Response [404]>, 'filepath': 'lion/lion.gdb/a00000004.gdbtablx', 'extension': 'gdbtablx', 'mimetype': 'application/octet-stream'}\n",
      "{'data': <Response [404]>, 'filepath': 'lion/lion.gdb/a00000004.spx', 'extension': 'spx', 'mimetype': 'application/octet-stream'}\n",
      "{'data': <Response [404]>, 'filepath': 'lion/lion.gdb/a00000005.CatItemTypesByName.atx', 'extension': 'atx', 'mimetype': 'application/octet-stream'}\n",
      "{'data': <Response [404]>, 'filepath': 'lion/lion.gdb/a00000005.CatItemTypesByParentTypeID.atx', 'extension': 'atx', 'mimetype': 'application/octet-stream'}\n",
      "{'data': <Response [404]>, 'filepath': 'lion/lion.gdb/a00000005.CatItemTypesByUUID.atx', 'extension': 'atx', 'mimetype': 'application/octet-stream'}\n",
      "{'data': <Response [404]>, 'filepath': 'lion/lion.gdb/a00000005.gdbindexes', 'extension': 'gdbindexes', 'mimetype': 'application/octet-stream'}\n",
      "{'data': <Response [404]>, 'filepath': 'lion/lion.gdb/a00000005.gdbtable', 'extension': 'gdbtable', 'mimetype': 'application/octet-stream'}\n",
      "{'data': <Response [404]>, 'filepath': 'lion/lion.gdb/a00000005.gdbtablx', 'extension': 'gdbtablx', 'mimetype': 'application/octet-stream'}\n",
      "{'data': <Response [404]>, 'filepath': 'lion/lion.gdb/a00000006.CatRelsByDestinationID.atx', 'extension': 'atx', 'mimetype': 'application/octet-stream'}\n",
      "{'data': <Response [404]>, 'filepath': 'lion/lion.gdb/a00000006.CatRelsByOriginID.atx', 'extension': 'atx', 'mimetype': 'application/octet-stream'}\n",
      "{'data': <Response [404]>, 'filepath': 'lion/lion.gdb/a00000006.CatRelsByType.atx', 'extension': 'atx', 'mimetype': 'application/octet-stream'}\n",
      "{'data': <Response [404]>, 'filepath': 'lion/lion.gdb/a00000006.FDO_UUID.atx', 'extension': 'atx', 'mimetype': 'application/octet-stream'}\n",
      "{'data': <Response [404]>, 'filepath': 'lion/lion.gdb/a00000006.freelist', 'extension': 'freelist', 'mimetype': 'application/octet-stream'}\n",
      "{'data': <Response [404]>, 'filepath': 'lion/lion.gdb/a00000006.gdbindexes', 'extension': 'gdbindexes', 'mimetype': 'application/octet-stream'}\n",
      "{'data': <Response [404]>, 'filepath': 'lion/lion.gdb/a00000006.gdbtable', 'extension': 'gdbtable', 'mimetype': 'application/octet-stream'}\n",
      "{'data': <Response [404]>, 'filepath': 'lion/lion.gdb/a00000006.gdbtablx', 'extension': 'gdbtablx', 'mimetype': 'application/octet-stream'}\n",
      "{'data': <Response [404]>, 'filepath': 'lion/lion.gdb/a00000007.CatRelTypesByBackwardLabel.atx', 'extension': 'atx', 'mimetype': 'application/octet-stream'}\n",
      "{'data': <Response [404]>, 'filepath': 'lion/lion.gdb/a00000007.CatRelTypesByDestItemTypeID.atx', 'extension': 'atx', 'mimetype': 'application/octet-stream'}\n",
      "{'data': <Response [404]>, 'filepath': 'lion/lion.gdb/a00000007.CatRelTypesByForwardLabel.atx', 'extension': 'atx', 'mimetype': 'application/octet-stream'}\n",
      "{'data': <Response [404]>, 'filepath': 'lion/lion.gdb/a00000007.CatRelTypesByName.atx', 'extension': 'atx', 'mimetype': 'application/octet-stream'}\n",
      "{'data': <Response [404]>, 'filepath': 'lion/lion.gdb/a00000007.CatRelTypesByOriginItemTypeID.atx', 'extension': 'atx', 'mimetype': 'application/octet-stream'}\n",
      "{'data': <Response [404]>, 'filepath': 'lion/lion.gdb/a00000007.CatRelTypesByUUID.atx', 'extension': 'atx', 'mimetype': 'application/octet-stream'}\n",
      "{'data': <Response [404]>, 'filepath': 'lion/lion.gdb/a00000007.gdbindexes', 'extension': 'gdbindexes', 'mimetype': 'application/octet-stream'}\n",
      "{'data': <Response [404]>, 'filepath': 'lion/lion.gdb/a00000007.gdbtable', 'extension': 'gdbtable', 'mimetype': 'application/octet-stream'}\n",
      "{'data': <Response [404]>, 'filepath': 'lion/lion.gdb/a00000007.gdbtablx', 'extension': 'gdbtablx', 'mimetype': 'application/octet-stream'}\n",
      "{'data': <Response [404]>, 'filepath': 'lion/lion.gdb/a0000000a.gdbindexes', 'extension': 'gdbindexes', 'mimetype': 'application/octet-stream'}\n",
      "{'data': <Response [404]>, 'filepath': 'lion/lion.gdb/a0000000a.gdbtable', 'extension': 'gdbtable', 'mimetype': 'application/octet-stream'}\n",
      "{'data': <Response [404]>, 'filepath': 'lion/lion.gdb/a0000000a.gdbtablx', 'extension': 'gdbtablx', 'mimetype': 'application/octet-stream'}\n",
      "{'data': <Response [404]>, 'filepath': 'lion/lion.gdb/a0000000a.spx', 'extension': 'spx', 'mimetype': 'application/octet-stream'}\n",
      "{'data': <Response [404]>, 'filepath': 'lion/lion.gdb/a0000000b.gdbindexes', 'extension': 'gdbindexes', 'mimetype': 'application/octet-stream'}\n",
      "{'data': <Response [404]>, 'filepath': 'lion/lion.gdb/a0000000b.gdbtable', 'extension': 'gdbtable', 'mimetype': 'application/octet-stream'}\n",
      "{'data': <Response [404]>, 'filepath': 'lion/lion.gdb/a0000000b.gdbtablx', 'extension': 'gdbtablx', 'mimetype': 'application/octet-stream'}\n",
      "{'data': <Response [404]>, 'filepath': 'lion/lion.gdb/a0000000c.gdbindexes', 'extension': 'gdbindexes', 'mimetype': 'application/octet-stream'}\n",
      "{'data': <Response [404]>, 'filepath': 'lion/lion.gdb/a0000000c.gdbtable', 'extension': 'gdbtable', 'mimetype': 'application/octet-stream'}\n",
      "{'data': <Response [404]>, 'filepath': 'lion/lion.gdb/a0000000c.gdbtablx', 'extension': 'gdbtablx', 'mimetype': 'application/octet-stream'}\n",
      "{'data': <Response [404]>, 'filepath': 'lion/lion.gdb/a0000000d.freelist', 'extension': 'freelist', 'mimetype': 'application/octet-stream'}\n",
      "{'data': <Response [404]>, 'filepath': 'lion/lion.gdb/a0000000d.gdbindexes', 'extension': 'gdbindexes', 'mimetype': 'application/octet-stream'}\n",
      "{'data': <Response [404]>, 'filepath': 'lion/lion.gdb/a0000000d.gdbtable', 'extension': 'gdbtable', 'mimetype': 'application/octet-stream'}\n",
      "{'data': <Response [404]>, 'filepath': 'lion/lion.gdb/a0000000d.gdbtablx', 'extension': 'gdbtablx', 'mimetype': 'application/octet-stream'}\n",
      "{'data': <Response [404]>, 'filepath': 'lion/lion.gdb/a0000000d.spx', 'extension': 'spx', 'mimetype': 'application/octet-stream'}\n",
      "{'data': <Response [404]>, 'filepath': 'lion/lion.gdb/gdb', 'extension': 'gdb/gdb', 'mimetype': 'application/octet-stream'}\n",
      "{'data': <Response [404]>, 'filepath': 'lion/lion.gdb/timestamps', 'extension': 'gdb/timestamps', 'mimetype': 'application/octet-stream'}\n",
      "{'data': <Response [404]>, 'filepath': 'lion/LION - Street Name Labels.lyr', 'extension': 'lyr', 'mimetype': 'application/CDFV2-unknown'}\n",
      "{'data': <Response [404]>, 'filepath': 'lion/LION Streets - Generic.lyr', 'extension': 'lyr', 'mimetype': 'application/CDFV2-unknown'}\n",
      "{'data': <Response [404]>, 'filepath': 'lion/LION Streets - Roadbeds.lyr', 'extension': 'lyr', 'mimetype': 'application/CDFV2-unknown'}\n",
      "{'data': <Response [404]>, 'filepath': 'lion/LION - Generic.lyr', 'extension': 'lyr', 'mimetype': 'application/CDFV2-unknown'}\n",
      "{'data': <Response [404]>, 'filepath': 'lion/LION - Roadbeds.lyr', 'extension': 'lyr', 'mimetype': 'application/CDFV2-unknown'}\n",
      "{'data': <Response [404]>, 'filepath': 'lion/LION - Nodes.lyr', 'extension': 'lyr', 'mimetype': 'application/CDFV2-unknown'}\n",
      "{'data': <Response [404]>, 'filepath': 'lion/LION - Street Direction Arrows (ArcGIS 10x).lyr', 'extension': 'lyr', 'mimetype': 'application/CDFV2-unknown'}\n",
      "{'data': <Response [404]>, 'filepath': 'lion/LION - Street Direction Arrows (Requires Maplex).lyr', 'extension': 'lyr', 'mimetype': 'application/CDFV2-unknown'}\n",
      "{'data': <Response [404]>, 'filepath': 'lion/TrafficRepArrows.style', 'extension': 'style', 'mimetype': 'application/x-msaccess'}\n",
      "{'data': <Response [404]>, 'filepath': 'lion/ReadMe.txt', 'extension': 'txt', 'mimetype': 'text/plain'}\n"
     ]
    },
    {
     "name": "stderr",
     "output_type": "stream",
     "text": [
      " 65%|██████▍   | 63/97 [20:43<16:40, 29.43s/it]Process Process-72:\n",
      "Traceback (most recent call last):\n",
      "  File \"/home/alex/miniconda3/envs/urban-physiology/lib/python3.5/multiprocessing/process.py\", line 249, in _bootstrap\n",
      "    self.run()\n",
      "  File \"/home/alex/miniconda3/envs/urban-physiology/lib/python3.5/multiprocessing/process.py\", line 93, in run\n",
      "    self._target(*self._args, **self._kwargs)\n",
      "  File \"../src/glossarizers/socrata_glossarizer.py\", line 163, in _size_up\n",
      "    return q.put(apply(datafy.get(uri, **kwargs)))\n",
      "  File \"/home/alex/miniconda3/envs/urban-physiology/lib/python3.5/site-packages/datafy/datafy.py\", line 158, in get\n",
      "    mime = magic.from_file('{0}/{1}'.format(temp_foldername, filename), mime=True)\n",
      "  File \"/home/alex/miniconda3/envs/urban-physiology/lib/python3.5/site-packages/magic.py\", line 131, in from_file\n",
      "    return m.from_file(filename)\n",
      "  File \"/home/alex/miniconda3/envs/urban-physiology/lib/python3.5/site-packages/magic.py\", line 81, in from_file\n",
      "    with open(filename):\n",
      "IsADirectoryError: [Errno 21] Is a directory: '527208/2012_2013_School_Zones_8May2013/'\n",
      " 66%|██████▌   | 64/97 [20:44<11:30, 20.92s/it]"
     ]
    },
    {
     "name": "stdout",
     "output_type": "stream",
     "text": [
      "{'data': <Response [200]>, 'filepath': '.', 'extension': 'xlsx', 'mimetype': 'application/vnd.openxmlformats-officedocument.spreadsheetml.sheet'}\n"
     ]
    },
    {
     "name": "stderr",
     "output_type": "stream",
     "text": [
      " 67%|██████▋   | 65/97 [20:45<07:57, 14.91s/it]Process Process-74:\n",
      "Traceback (most recent call last):\n",
      "  File \"/home/alex/miniconda3/envs/urban-physiology/lib/python3.5/multiprocessing/process.py\", line 249, in _bootstrap\n",
      "    self.run()\n",
      "  File \"/home/alex/miniconda3/envs/urban-physiology/lib/python3.5/multiprocessing/process.py\", line 93, in run\n",
      "    self._target(*self._args, **self._kwargs)\n",
      "  File \"../src/glossarizers/socrata_glossarizer.py\", line 163, in _size_up\n",
      "    return q.put(apply(datafy.get(uri, **kwargs)))\n",
      "  File \"/home/alex/miniconda3/envs/urban-physiology/lib/python3.5/site-packages/datafy/datafy.py\", line 158, in get\n",
      "    mime = magic.from_file('{0}/{1}'.format(temp_foldername, filename), mime=True)\n",
      "  File \"/home/alex/miniconda3/envs/urban-physiology/lib/python3.5/site-packages/magic.py\", line 131, in from_file\n",
      "    return m.from_file(filename)\n",
      "  File \"/home/alex/miniconda3/envs/urban-physiology/lib/python3.5/site-packages/magic.py\", line 81, in from_file\n",
      "    with open(filename):\n",
      "IsADirectoryError: [Errno 21] Is a directory: '434578/NYCCAS CSV Data Files/'\n",
      " 68%|██████▊   | 66/97 [20:46<05:30, 10.66s/it]"
     ]
    },
    {
     "name": "stdout",
     "output_type": "stream",
     "text": [
      "{'data': <Response [404]>, 'filepath': 'GI_assets_publicMap_construct.cpg', 'extension': 'cpg', 'mimetype': 'text/plain'}\n",
      "{'data': <Response [404]>, 'filepath': 'GI_assets_publicMap_construct.dbf', 'extension': 'dbf', 'mimetype': 'application/x-dbf'}\n",
      "{'data': <Response [404]>, 'filepath': 'GI_assets_publicMap_construct.prj', 'extension': 'prj', 'mimetype': 'text/plain'}\n",
      "{'data': <Response [404]>, 'filepath': 'GI_assets_publicMap_construct.sbn', 'extension': 'sbn', 'mimetype': 'application/octet-stream'}\n",
      "{'data': <Response [404]>, 'filepath': 'GI_assets_publicMap_construct.sbx', 'extension': 'sbx', 'mimetype': 'application/octet-stream'}\n",
      "{'data': <Response [404]>, 'filepath': 'GI_assets_publicMap_construct.shp', 'extension': 'shp', 'mimetype': 'application/octet-stream'}\n",
      "{'data': <Response [404]>, 'filepath': 'GI_assets_publicMap_construct.shx', 'extension': 'shx', 'mimetype': 'application/octet-stream'}\n"
     ]
    },
    {
     "name": "stderr",
     "output_type": "stream",
     "text": [
      " 70%|███████   | 68/97 [21:47<11:18, 23.40s/it]"
     ]
    },
    {
     "name": "stdout",
     "output_type": "stream",
     "text": [
      "{'data': <Response [404]>, 'filepath': 'landcover_2010_nyc_3ft.img', 'extension': 'img', 'mimetype': 'application/octet-stream'}\n",
      "{'data': <Response [404]>, 'filepath': 'landcover_2010_nyc_3ft.img.vat.dbf', 'extension': 'dbf', 'mimetype': 'application/x-dbf'}\n",
      "{'data': <Response [404]>, 'filepath': 'landcover_2010_nyc_3ft.img.xml', 'extension': 'xml', 'mimetype': 'application/xml'}\n",
      "{'data': <Response [404]>, 'filepath': 'landcover_2010_nyc_3ft.rrd', 'extension': 'rrd', 'mimetype': 'application/octet-stream'}\n",
      "{'data': <Response [404]>, 'filepath': 'landcover_2010_nyc_3ft_metadata.txt', 'extension': 'txt', 'mimetype': 'text/plain'}\n"
     ]
    },
    {
     "name": "stderr",
     "output_type": "stream",
     "text": [
      "\r",
      " 71%|███████   | 69/97 [22:43<15:27, 33.11s/it]"
     ]
    },
    {
     "name": "stdout",
     "output_type": "stream",
     "text": [
      "{'data': <Response [404]>, 'filepath': 'Greenstreets_20120627.dbf', 'extension': 'dbf', 'mimetype': 'application/x-dbf'}\n",
      "{'data': <Response [404]>, 'filepath': 'Greenstreets_20120627.prj', 'extension': 'prj', 'mimetype': 'text/plain'}\n",
      "{'data': <Response [404]>, 'filepath': 'Greenstreets_20120627.sbn', 'extension': 'sbn', 'mimetype': 'application/octet-stream'}\n",
      "{'data': <Response [404]>, 'filepath': 'Greenstreets_20120627.sbx', 'extension': 'sbx', 'mimetype': 'application/octet-stream'}\n",
      "{'data': <Response [404]>, 'filepath': 'Greenstreets_20120627.shp', 'extension': 'shp', 'mimetype': 'application/octet-stream'}\n",
      "{'data': <Response [404]>, 'filepath': 'Greenstreets_20120627.shp.xml', 'extension': 'xml', 'mimetype': 'application/xml'}\n",
      "{'data': <Response [404]>, 'filepath': 'Greenstreets_20120627.shx', 'extension': 'shx', 'mimetype': 'application/octet-stream'}\n"
     ]
    },
    {
     "name": "stderr",
     "output_type": "stream",
     "text": [
      "\r",
      " 72%|███████▏  | 70/97 [22:45<10:41, 23.75s/it]"
     ]
    },
    {
     "name": "stdout",
     "output_type": "stream",
     "text": [
      "{'data': <Response [404]>, 'filepath': 'AdoptATree_20120621.dbf', 'extension': 'dbf', 'mimetype': 'application/x-dbf'}\n",
      "{'data': <Response [404]>, 'filepath': 'AdoptATree_20120621.prj', 'extension': 'prj', 'mimetype': 'text/plain'}\n",
      "{'data': <Response [404]>, 'filepath': 'AdoptATree_20120621.sbn', 'extension': 'sbn', 'mimetype': 'application/octet-stream'}\n",
      "{'data': <Response [404]>, 'filepath': 'AdoptATree_20120621.sbx', 'extension': 'sbx', 'mimetype': 'application/octet-stream'}\n",
      "{'data': <Response [404]>, 'filepath': 'AdoptATree_20120621.shp', 'extension': 'shp', 'mimetype': 'application/octet-stream'}\n",
      "{'data': <Response [404]>, 'filepath': 'AdoptATree_20120621.shp.xml', 'extension': 'xml', 'mimetype': 'application/xml'}\n",
      "{'data': <Response [404]>, 'filepath': 'AdoptATree_20120621.shx', 'extension': 'shx', 'mimetype': 'application/octet-stream'}\n",
      "{'data': <Response [404]>, 'filepath': 'XYStew_20120621.dbf', 'extension': 'dbf', 'mimetype': 'application/x-dbf'}\n",
      "{'data': <Response [404]>, 'filepath': 'XYStew_20120621.prj', 'extension': 'prj', 'mimetype': 'text/plain'}\n",
      "{'data': <Response [404]>, 'filepath': 'XYStew_20120621.sbn', 'extension': 'sbn', 'mimetype': 'application/octet-stream'}\n",
      "{'data': <Response [404]>, 'filepath': 'XYStew_20120621.sbx', 'extension': 'sbx', 'mimetype': 'application/octet-stream'}\n",
      "{'data': <Response [404]>, 'filepath': 'XYStew_20120621.shp', 'extension': 'shp', 'mimetype': 'application/octet-stream'}\n",
      "{'data': <Response [404]>, 'filepath': 'XYStew_20120621.shx', 'extension': 'shx', 'mimetype': 'application/octet-stream'}\n"
     ]
    },
    {
     "name": "stderr",
     "output_type": "stream",
     "text": [
      "\r",
      " 73%|███████▎  | 71/97 [23:33<13:30, 31.19s/it]"
     ]
    },
    {
     "name": "stdout",
     "output_type": "stream",
     "text": [
      "{'data': <Response [200]>, 'filepath': '.', 'extension': 'xls', 'mimetype': 'application/vnd.ms-excel'}\n"
     ]
    },
    {
     "name": "stderr",
     "output_type": "stream",
     "text": [
      "\r",
      " 74%|███████▍  | 72/97 [23:34<09:09, 21.97s/it]"
     ]
    },
    {
     "name": "stdout",
     "output_type": "stream",
     "text": [
      "{'data': <Response [404]>, 'filepath': 'PAT_OB.SI.txt', 'extension': 'txt', 'mimetype': 'text/plain'}\n"
     ]
    },
    {
     "name": "stderr",
     "output_type": "stream",
     "text": [
      " 76%|███████▋  | 74/97 [24:55<12:45, 33.28s/it]"
     ]
    },
    {
     "name": "stdout",
     "output_type": "stream",
     "text": [
      "{'data': <Response [404]>, 'filepath': 'PAT_OB.manh.txt', 'extension': 'txt', 'mimetype': 'text/plain'}\n"
     ]
    },
    {
     "name": "stderr",
     "output_type": "stream",
     "text": [
      "\r",
      " 77%|███████▋  | 75/97 [25:19<11:08, 30.40s/it]"
     ]
    },
    {
     "name": "stdout",
     "output_type": "stream",
     "text": [
      "{'data': <Response [404]>, 'filepath': 'PAT_OB.bronx.txt', 'extension': 'txt', 'mimetype': 'text/plain'}\n"
     ]
    },
    {
     "name": "stderr",
     "output_type": "stream",
     "text": [
      " 79%|███████▉  | 77/97 [26:43<12:39, 38.00s/it]"
     ]
    },
    {
     "name": "stdout",
     "output_type": "stream",
     "text": [
      "{'data': <Response [404]>, 'filepath': '2009_bronx.xls', 'extension': 'xls', 'mimetype': 'application/vnd.ms-excel'}\n",
      "{'data': <Response [404]>, 'filepath': '2009_brooklyn.xls', 'extension': 'xls', 'mimetype': 'application/vnd.ms-excel'}\n",
      "{'data': <Response [404]>, 'filepath': '2009_manhattan.xls', 'extension': 'xls', 'mimetype': 'application/vnd.ms-excel'}\n",
      "{'data': <Response [404]>, 'filepath': '2009_queens.xls', 'extension': 'xls', 'mimetype': 'application/vnd.ms-excel'}\n",
      "{'data': <Response [404]>, 'filepath': '2009_statenisland.xls', 'extension': 'xls', 'mimetype': 'application/vnd.ms-excel'}\n",
      "{'data': <Response [404]>, 'filepath': '2010_bronx.xls', 'extension': 'xls', 'mimetype': 'application/vnd.ms-excel'}\n",
      "{'data': <Response [404]>, 'filepath': '2010_brooklyn.xls', 'extension': 'xls', 'mimetype': 'application/vnd.ms-excel'}\n",
      "{'data': <Response [404]>, 'filepath': '2010_manhattan.xls', 'extension': 'xls', 'mimetype': 'application/vnd.ms-excel'}\n",
      "{'data': <Response [404]>, 'filepath': '2010_queens.xls', 'extension': 'xls', 'mimetype': 'application/vnd.ms-excel'}\n",
      "{'data': <Response [404]>, 'filepath': '2010_statenisland.xls', 'extension': 'xls', 'mimetype': 'application/vnd.ms-excel'}\n",
      "{'data': <Response [404]>, 'filepath': '2011_bronx.xls', 'extension': 'xls', 'mimetype': 'application/vnd.ms-office'}\n",
      "{'data': <Response [404]>, 'filepath': '2011_brooklyn.xls', 'extension': 'xls', 'mimetype': 'application/vnd.ms-office'}\n",
      "{'data': <Response [404]>, 'filepath': '2011_manhattan.xls', 'extension': 'xls', 'mimetype': 'application/vnd.ms-office'}\n",
      "{'data': <Response [404]>, 'filepath': '2011_queens.xls', 'extension': 'xls', 'mimetype': 'application/vnd.ms-office'}\n",
      "{'data': <Response [404]>, 'filepath': '2011_statenisland.xls', 'extension': 'xls', 'mimetype': 'application/vnd.ms-office'}\n",
      "{'data': <Response [404]>, 'filepath': '2012_bronx.xls', 'extension': 'xls', 'mimetype': 'application/vnd.ms-excel'}\n",
      "{'data': <Response [404]>, 'filepath': '2012_brooklyn.xls', 'extension': 'xls', 'mimetype': 'application/vnd.ms-excel'}\n",
      "{'data': <Response [404]>, 'filepath': '2012_manhattan.xls', 'extension': 'xls', 'mimetype': 'application/vnd.ms-excel'}\n",
      "{'data': <Response [404]>, 'filepath': '2012_queens.xls', 'extension': 'xls', 'mimetype': 'application/vnd.ms-excel'}\n",
      "{'data': <Response [404]>, 'filepath': '2012_statenisland.xls', 'extension': 'xls', 'mimetype': 'application/vnd.ms-excel'}\n",
      "{'data': <Response [404]>, 'filepath': '2013_bronx.xls', 'extension': 'xls', 'mimetype': 'application/vnd.ms-excel'}\n",
      "{'data': <Response [404]>, 'filepath': '2013_brooklyn.xls', 'extension': 'xls', 'mimetype': 'application/vnd.ms-excel'}\n",
      "{'data': <Response [404]>, 'filepath': '2013_manhattan.xls', 'extension': 'xls', 'mimetype': 'application/vnd.ms-excel'}\n",
      "{'data': <Response [404]>, 'filepath': '2013_queens.xls', 'extension': 'xls', 'mimetype': 'application/vnd.ms-excel'}\n",
      "{'data': <Response [404]>, 'filepath': '2013_statenisland.xls', 'extension': 'xls', 'mimetype': 'application/vnd.ms-excel'}\n",
      "{'data': <Response [404]>, 'filepath': '2014_bronx.xls', 'extension': 'xls', 'mimetype': 'application/vnd.ms-excel'}\n",
      "{'data': <Response [404]>, 'filepath': '2014_brooklyn.xls', 'extension': 'xls', 'mimetype': 'application/vnd.ms-excel'}\n",
      "{'data': <Response [404]>, 'filepath': '2014_manhattan.xls', 'extension': 'xls', 'mimetype': 'application/vnd.ms-excel'}\n",
      "{'data': <Response [404]>, 'filepath': '2014_queens.xls', 'extension': 'xls', 'mimetype': 'application/vnd.ms-excel'}\n",
      "{'data': <Response [404]>, 'filepath': '2014_statenisland.xls', 'extension': 'xls', 'mimetype': 'application/vnd.ms-excel'}\n",
      "{'data': <Response [404]>, 'filepath': '2015_bronx.xls', 'extension': 'xls', 'mimetype': 'application/vnd.ms-excel'}\n",
      "{'data': <Response [404]>, 'filepath': '2015_brooklyn.xls', 'extension': 'xls', 'mimetype': 'application/vnd.ms-excel'}\n",
      "{'data': <Response [404]>, 'filepath': '2015_manhattan.xls', 'extension': 'xls', 'mimetype': 'application/vnd.ms-excel'}\n",
      "{'data': <Response [404]>, 'filepath': '2015_queens.xls', 'extension': 'xls', 'mimetype': 'application/vnd.ms-excel'}\n",
      "{'data': <Response [404]>, 'filepath': '2015_statenisland.xls', 'extension': 'xls', 'mimetype': 'application/vnd.ms-excel'}\n",
      "{'data': <Response [404]>, 'filepath': 'glossary_rsf071607.pdf', 'extension': 'pdf', 'mimetype': 'application/pdf'}\n",
      "{'data': <Response [404]>, 'filepath': 'sales_2007_bronx.xls', 'extension': 'xls', 'mimetype': 'application/vnd.ms-excel'}\n",
      "{'data': <Response [404]>, 'filepath': 'sales_2007_brooklyn.xls', 'extension': 'xls', 'mimetype': 'application/vnd.ms-excel'}\n",
      "{'data': <Response [404]>, 'filepath': 'sales_2007_manhattan.xls', 'extension': 'xls', 'mimetype': 'application/vnd.ms-excel'}\n",
      "{'data': <Response [404]>, 'filepath': 'sales_2007_queens.xls', 'extension': 'xls', 'mimetype': 'application/vnd.ms-excel'}\n",
      "{'data': <Response [404]>, 'filepath': 'sales_2007_statenisland.xls', 'extension': 'xls', 'mimetype': 'application/vnd.ms-excel'}\n",
      "{'data': <Response [404]>, 'filepath': 'sales_2008_bronx.xls', 'extension': 'xls', 'mimetype': 'application/vnd.ms-excel'}\n",
      "{'data': <Response [404]>, 'filepath': 'sales_2008_brooklyn.xls', 'extension': 'xls', 'mimetype': 'application/vnd.ms-excel'}\n",
      "{'data': <Response [404]>, 'filepath': 'sales_2008_manhattan.xls', 'extension': 'xls', 'mimetype': 'application/vnd.ms-excel'}\n",
      "{'data': <Response [404]>, 'filepath': 'sales_2008_queens.xls', 'extension': 'xls', 'mimetype': 'application/vnd.ms-excel'}\n",
      "{'data': <Response [404]>, 'filepath': 'sales_2008_statenisland.xls', 'extension': 'xls', 'mimetype': 'application/vnd.ms-excel'}\n",
      "{'data': <Response [404]>, 'filepath': 'sales_bronx_03.xls', 'extension': 'xls', 'mimetype': 'application/vnd.ms-excel'}\n",
      "{'data': <Response [404]>, 'filepath': 'sales_bronx_04.xls', 'extension': 'xls', 'mimetype': 'application/vnd.ms-excel'}\n",
      "{'data': <Response [404]>, 'filepath': 'sales_bronx_05.xls', 'extension': 'xls', 'mimetype': 'application/vnd.ms-excel'}\n",
      "{'data': <Response [404]>, 'filepath': 'sales_bronx_06.xls', 'extension': 'xls', 'mimetype': 'application/vnd.ms-excel'}\n",
      "{'data': <Response [404]>, 'filepath': 'sales_brooklyn_03.xls', 'extension': 'xls', 'mimetype': 'application/vnd.ms-excel'}\n",
      "{'data': <Response [404]>, 'filepath': 'sales_brooklyn_04.xls', 'extension': 'xls', 'mimetype': 'application/vnd.ms-excel'}\n",
      "{'data': <Response [404]>, 'filepath': 'sales_brooklyn_05.xls', 'extension': 'xls', 'mimetype': 'application/vnd.ms-excel'}\n",
      "{'data': <Response [404]>, 'filepath': 'sales_brooklyn_06.xls', 'extension': 'xls', 'mimetype': 'application/vnd.ms-excel'}\n",
      "{'data': <Response [404]>, 'filepath': 'sales_manhattan_03.xls', 'extension': 'xls', 'mimetype': 'application/vnd.ms-excel'}\n",
      "{'data': <Response [404]>, 'filepath': 'sales_manhattan_04.xls', 'extension': 'xls', 'mimetype': 'application/vnd.ms-excel'}\n",
      "{'data': <Response [404]>, 'filepath': 'sales_manhattan_05.xls', 'extension': 'xls', 'mimetype': 'application/vnd.ms-excel'}\n",
      "{'data': <Response [404]>, 'filepath': 'sales_manhattan_06.xls', 'extension': 'xls', 'mimetype': 'application/vnd.ms-excel'}\n",
      "{'data': <Response [404]>, 'filepath': 'sales_queens_03.xls', 'extension': 'xls', 'mimetype': 'application/vnd.ms-excel'}\n",
      "{'data': <Response [404]>, 'filepath': 'sales_queens_04.xls', 'extension': 'xls', 'mimetype': 'application/vnd.ms-excel'}\n",
      "{'data': <Response [404]>, 'filepath': 'sales_queens_05.xls', 'extension': 'xls', 'mimetype': 'application/vnd.ms-excel'}\n",
      "{'data': <Response [404]>, 'filepath': 'sales_queens_06.xls', 'extension': 'xls', 'mimetype': 'application/vnd.ms-excel'}\n",
      "{'data': <Response [404]>, 'filepath': 'sales_si_03.xls', 'extension': 'xls', 'mimetype': 'application/vnd.ms-excel'}\n",
      "{'data': <Response [404]>, 'filepath': 'sales_si_04.xls', 'extension': 'xls', 'mimetype': 'application/vnd.ms-excel'}\n",
      "{'data': <Response [404]>, 'filepath': 'sales_si_05.xls', 'extension': 'xls', 'mimetype': 'application/vnd.ms-excel'}\n",
      "{'data': <Response [404]>, 'filepath': 'sales_si_06.xls', 'extension': 'xls', 'mimetype': 'application/vnd.ms-excel'}\n"
     ]
    },
    {
     "name": "stderr",
     "output_type": "stream",
     "text": [
      "\r",
      " 80%|████████  | 78/97 [27:20<11:56, 37.73s/it]"
     ]
    },
    {
     "name": "stdout",
     "output_type": "stream",
     "text": [
      "{'data': <Response [200]>, 'filepath': '.', 'extension': 'xls', 'mimetype': 'application/vnd.ms-office'}\n"
     ]
    },
    {
     "name": "stderr",
     "output_type": "stream",
     "text": [
      "\r",
      " 81%|████████▏ | 79/97 [27:21<07:59, 26.66s/it]"
     ]
    },
    {
     "name": "stdout",
     "output_type": "stream",
     "text": [
      "{'data': <Response [200]>, 'filepath': '.', 'extension': 'mdb', 'mimetype': 'application/x-msaccess'}\n"
     ]
    },
    {
     "name": "stderr",
     "output_type": "stream",
     "text": [
      "\r",
      " 82%|████████▏ | 80/97 [27:23<05:27, 19.28s/it]"
     ]
    },
    {
     "name": "stdout",
     "output_type": "stream",
     "text": [
      "{'data': <Response [200]>, 'filepath': '.', 'extension': 'mdb', 'mimetype': 'application/x-msaccess'}\n"
     ]
    },
    {
     "name": "stderr",
     "output_type": "stream",
     "text": [
      "\r",
      " 84%|████████▎ | 81/97 [27:29<04:04, 15.31s/it]"
     ]
    },
    {
     "name": "stdout",
     "output_type": "stream",
     "text": [
      "{'data': <Response [200]>, 'filepath': '.', 'extension': 'mdb', 'mimetype': 'application/x-msaccess'}\n"
     ]
    },
    {
     "name": "stderr",
     "output_type": "stream",
     "text": [
      "\r",
      " 85%|████████▍ | 82/97 [28:05<05:24, 21.60s/it]"
     ]
    },
    {
     "name": "stdout",
     "output_type": "stream",
     "text": [
      "{'data': <Response [404]>, 'filepath': 'ldf_17A.txt', 'extension': 'txt', 'mimetype': 'text/plain'}\n"
     ]
    },
    {
     "name": "stderr",
     "output_type": "stream",
     "text": [
      "\r",
      " 86%|████████▌ | 83/97 [28:08<03:44, 16.05s/it]"
     ]
    },
    {
     "name": "stdout",
     "output_type": "stream",
     "text": [
      "{'data': <Response [404]>, 'filepath': 'DCP_POPS_NYC_BigApps.mdb', 'extension': 'mdb', 'mimetype': 'application/x-msaccess'}\n"
     ]
    },
    {
     "name": "stderr",
     "output_type": "stream",
     "text": [
      " 87%|████████▋ | 84/97 [28:09<02:29, 11.51s/it]Process Process-93:\n",
      "Traceback (most recent call last):\n",
      "  File \"/home/alex/miniconda3/envs/urban-physiology/lib/python3.5/multiprocessing/process.py\", line 249, in _bootstrap\n",
      "    self.run()\n",
      "  File \"/home/alex/miniconda3/envs/urban-physiology/lib/python3.5/multiprocessing/process.py\", line 93, in run\n",
      "    self._target(*self._args, **self._kwargs)\n",
      "  File \"../src/glossarizers/socrata_glossarizer.py\", line 163, in _size_up\n",
      "    return q.put(apply(datafy.get(uri, **kwargs)))\n",
      "  File \"/home/alex/miniconda3/envs/urban-physiology/lib/python3.5/site-packages/datafy/datafy.py\", line 158, in get\n",
      "    mime = magic.from_file('{0}/{1}'.format(temp_foldername, filename), mime=True)\n",
      "  File \"/home/alex/miniconda3/envs/urban-physiology/lib/python3.5/site-packages/magic.py\", line 131, in from_file\n",
      "    return m.from_file(filename)\n",
      "  File \"/home/alex/miniconda3/envs/urban-physiology/lib/python3.5/site-packages/magic.py\", line 81, in from_file\n",
      "    with open(filename):\n",
      "IsADirectoryError: [Errno 21] Is a directory: '646272/Facilities_2015_text/'\n",
      " 88%|████████▊ | 85/97 [28:11<01:43,  8.64s/it]Process Process-94:\n",
      "Traceback (most recent call last):\n",
      "  File \"/home/alex/miniconda3/envs/urban-physiology/lib/python3.5/multiprocessing/process.py\", line 249, in _bootstrap\n",
      "    self.run()\n",
      "  File \"/home/alex/miniconda3/envs/urban-physiology/lib/python3.5/multiprocessing/process.py\", line 93, in run\n",
      "    self._target(*self._args, **self._kwargs)\n",
      "  File \"../src/glossarizers/socrata_glossarizer.py\", line 163, in _size_up\n",
      "    return q.put(apply(datafy.get(uri, **kwargs)))\n",
      "  File \"/home/alex/miniconda3/envs/urban-physiology/lib/python3.5/site-packages/datafy/datafy.py\", line 158, in get\n",
      "    mime = magic.from_file('{0}/{1}'.format(temp_foldername, filename), mime=True)\n",
      "  File \"/home/alex/miniconda3/envs/urban-physiology/lib/python3.5/site-packages/magic.py\", line 131, in from_file\n",
      "    return m.from_file(filename)\n",
      "  File \"/home/alex/miniconda3/envs/urban-physiology/lib/python3.5/site-packages/magic.py\", line 81, in from_file\n",
      "    with open(filename):\n",
      "IsADirectoryError: [Errno 21] Is a directory: '746278/Facilities_2015_access/'\n",
      " 89%|████████▊ | 86/97 [28:14<01:14,  6.77s/it]"
     ]
    },
    {
     "name": "stdout",
     "output_type": "stream",
     "text": [
      "{'data': <Response [200]>, 'filepath': '.', 'extension': 'xml', 'mimetype': 'application/xml'}\n"
     ]
    },
    {
     "name": "stderr",
     "output_type": "stream",
     "text": [
      "\r",
      " 90%|████████▉ | 87/97 [28:14<00:48,  4.87s/it]"
     ]
    },
    {
     "name": "stdout",
     "output_type": "stream",
     "text": [
      "{'data': <Response [404]>, 'filepath': 'NYC_MiddleSchool_Zones_2011_2012A.shp.xml', 'extension': 'xml', 'mimetype': 'application/xml'}\n",
      "{'data': <Response [404]>, 'filepath': 'NYC_MiddleSchool_Zones_2011_2012A.shx', 'extension': 'shx', 'mimetype': 'application/octet-stream'}\n",
      "{'data': <Response [404]>, 'filepath': 'NYC_ElementarySchool_Zones_2011_2012A.dbf', 'extension': 'dbf', 'mimetype': 'application/x-dbf'}\n",
      "{'data': <Response [404]>, 'filepath': 'NYC_ElementarySchool_Zones_2011_2012A.prj', 'extension': 'prj', 'mimetype': 'text/plain'}\n",
      "{'data': <Response [404]>, 'filepath': 'NYC_ElementarySchool_Zones_2011_2012A.sbn', 'extension': 'sbn', 'mimetype': 'application/octet-stream'}\n",
      "{'data': <Response [404]>, 'filepath': 'NYC_ElementarySchool_Zones_2011_2012A.sbx', 'extension': 'sbx', 'mimetype': 'application/octet-stream'}\n",
      "{'data': <Response [404]>, 'filepath': 'NYC_ElementarySchool_Zones_2011_2012A.shp', 'extension': 'shp', 'mimetype': 'application/octet-stream'}\n",
      "{'data': <Response [404]>, 'filepath': 'NYC_ElementarySchool_Zones_2011_2012A.shp.xml', 'extension': 'xml', 'mimetype': 'application/xml'}\n",
      "{'data': <Response [404]>, 'filepath': 'NYC_ElementarySchool_Zones_2011_2012A.shx', 'extension': 'shx', 'mimetype': 'application/octet-stream'}\n",
      "{'data': <Response [404]>, 'filepath': 'NYC_MiddleSchool_Zones_2011_2012A.dbf', 'extension': 'dbf', 'mimetype': 'application/x-dbf'}\n",
      "{'data': <Response [404]>, 'filepath': 'NYC_MiddleSchool_Zones_2011_2012A.prj', 'extension': 'prj', 'mimetype': 'text/plain'}\n",
      "{'data': <Response [404]>, 'filepath': 'NYC_MiddleSchool_Zones_2011_2012A.sbn', 'extension': 'sbn', 'mimetype': 'application/octet-stream'}\n",
      "{'data': <Response [404]>, 'filepath': 'NYC_MiddleSchool_Zones_2011_2012A.sbx', 'extension': 'sbx', 'mimetype': 'application/octet-stream'}\n",
      "{'data': <Response [404]>, 'filepath': 'NYC_MiddleSchool_Zones_2011_2012A.shp', 'extension': 'shp', 'mimetype': 'application/octet-stream'}\n"
     ]
    },
    {
     "name": "stderr",
     "output_type": "stream",
     "text": [
      "\r",
      " 91%|█████████ | 88/97 [28:15<00:33,  3.74s/it]"
     ]
    },
    {
     "name": "stdout",
     "output_type": "stream",
     "text": [
      "{'data': <Response [404]>, 'filepath': 'Public_Schools_Points_2011-2012A.dbf', 'extension': 'dbf', 'mimetype': 'application/x-dbf'}\n",
      "{'data': <Response [404]>, 'filepath': 'Public_Schools_Points_2011-2012A.prj', 'extension': 'prj', 'mimetype': 'text/plain'}\n",
      "{'data': <Response [404]>, 'filepath': 'Public_Schools_Points_2011-2012A.sbn', 'extension': 'sbn', 'mimetype': 'application/octet-stream'}\n",
      "{'data': <Response [404]>, 'filepath': 'Public_Schools_Points_2011-2012A.sbx', 'extension': 'sbx', 'mimetype': 'application/octet-stream'}\n",
      "{'data': <Response [404]>, 'filepath': 'Public_Schools_Points_2011-2012A.shp', 'extension': 'shp', 'mimetype': 'application/octet-stream'}\n",
      "{'data': <Response [404]>, 'filepath': 'Public_Schools_Points_2011-2012A.shp.xml', 'extension': 'xml', 'mimetype': 'text/plain'}\n",
      "{'data': <Response [404]>, 'filepath': 'Public_Schools_Points_2011-2012A.shx', 'extension': 'shx', 'mimetype': 'application/octet-stream'}\n"
     ]
    },
    {
     "name": "stderr",
     "output_type": "stream",
     "text": [
      "\r",
      " 92%|█████████▏| 89/97 [28:16<00:22,  2.80s/it]"
     ]
    },
    {
     "name": "stdout",
     "output_type": "stream",
     "text": [
      "{'data': <Response [404]>, 'filepath': 'TC234.mdb', 'extension': 'mdb', 'mimetype': 'application/x-msaccess'}\n"
     ]
    },
    {
     "name": "stderr",
     "output_type": "stream",
     "text": [
      "\r",
      " 93%|█████████▎| 90/97 [28:43<01:10, 10.01s/it]"
     ]
    },
    {
     "name": "stdout",
     "output_type": "stream",
     "text": [
      "{'data': <Response [404]>, 'filepath': 'TC1.mdb', 'extension': 'mdb', 'mimetype': 'application/x-msaccess'}\n"
     ]
    },
    {
     "name": "stderr",
     "output_type": "stream",
     "text": [
      "\r",
      " 94%|█████████▍| 91/97 [29:30<02:07, 21.27s/it]"
     ]
    },
    {
     "name": "stdout",
     "output_type": "stream",
     "text": [
      "{'data': <Response [404]>, 'filepath': 'AVROLL.mdb', 'extension': 'mdb', 'mimetype': 'application/x-msaccess'}\n"
     ]
    },
    {
     "name": "stderr",
     "output_type": "stream",
     "text": [
      "\r",
      " 95%|█████████▍| 92/97 [30:03<02:03, 24.70s/it]"
     ]
    },
    {
     "name": "stdout",
     "output_type": "stream",
     "text": [
      "{'data': <Response [200]>, 'filepath': '.', 'extension': 'xml', 'mimetype': 'application/xml'}\n"
     ]
    },
    {
     "name": "stderr",
     "output_type": "stream",
     "text": [
      "\r",
      " 96%|█████████▌| 93/97 [30:04<01:10, 17.52s/it]"
     ]
    },
    {
     "name": "stdout",
     "output_type": "stream",
     "text": [
      "{'data': <Response [404]>, 'filepath': '2010 Survey Data Dictionary.xls', 'extension': 'xls', 'mimetype': 'application/vnd.ms-excel'}\n",
      "{'data': <Response [404]>, 'filepath': 'masterfile10_D75_062610.xlsx', 'extension': 'xlsx', 'mimetype': 'application/vnd.openxmlformats-officedocument.spreadsheetml.sheet'}\n",
      "{'data': <Response [404]>, 'filepath': 'masterfile10_gened_081210.xlsx', 'extension': 'xlsx', 'mimetype': 'application/vnd.openxmlformats-officedocument.spreadsheetml.sheet'}\n"
     ]
    },
    {
     "name": "stderr",
     "output_type": "stream",
     "text": [
      "\r",
      " 97%|█████████▋| 94/97 [30:11<00:43, 14.55s/it]"
     ]
    },
    {
     "name": "stdout",
     "output_type": "stream",
     "text": [
      "{'data': <Response [404]>, 'filepath': '2009 Survey Data Dictionary.xls', 'extension': 'xls', 'mimetype': 'application/vnd.ms-excel'}\n",
      "{'data': <Response [404]>, 'filepath': 'Masterfile09_d75.txt', 'extension': 'txt', 'mimetype': 'text/plain'}\n",
      "{'data': <Response [404]>, 'filepath': 'masterfile09_gened.txt', 'extension': 'txt', 'mimetype': 'text/plain'}\n",
      "{'data': <Response [404]>, 'filepath': 'Survey_09_D75_Overall.xls', 'extension': 'xls', 'mimetype': 'application/vnd.ms-office'}\n",
      "{'data': <Response [404]>, 'filepath': 'Survey_09_GenEd_Overall.xls', 'extension': 'xls', 'mimetype': 'application/vnd.ms-excel'}\n"
     ]
    },
    {
     "name": "stderr",
     "output_type": "stream",
     "text": [
      "\r",
      " 98%|█████████▊| 95/97 [30:13<00:21, 10.82s/it]"
     ]
    },
    {
     "name": "stdout",
     "output_type": "stream",
     "text": [
      "{'data': <Response [200]>, 'filepath': '.', 'extension': 'xml', 'mimetype': 'application/xml'}\n"
     ]
    },
    {
     "name": "stderr",
     "output_type": "stream",
     "text": [
      "\r",
      " 99%|█████████▉| 96/97 [30:14<00:07,  7.83s/it]"
     ]
    },
    {
     "name": "stdout",
     "output_type": "stream",
     "text": [
      "{'data': <Response [200]>, 'filepath': '.', 'extension': 'xml', 'mimetype': 'application/xml'}\n"
     ]
    },
    {
     "name": "stderr",
     "output_type": "stream",
     "text": [
      "100%|██████████| 97/97 [30:15<00:00,  5.72s/it]\n"
     ]
    }
   ],
   "source": [
    "socrata_glossarizer.write_glossary(resource_filename=\"../data/nyc/resource lists/blob.json\",\n",
    "                                   glossary_filename=\"test-output.json\",\n",
    "                                   endpoint_type=\"blob\",\n",
    "                                   use_cache=False)"
   ]
  },
  {
   "cell_type": "code",
   "execution_count": 7,
   "metadata": {
    "collapsed": false,
    "scrolled": false
   },
   "outputs": [
    {
     "name": "stderr",
     "output_type": "stream",
     "text": [
      "\r",
      "  0%|          | 0/165 [00:00<?, ?it/s]"
     ]
    },
    {
     "name": "stdout",
     "output_type": "stream",
     "text": [
      "{'data': <Response [200]>, 'filepath': '.', 'extension': 'geojson', 'mimetype': 'application/vnd.geo+json'}\n"
     ]
    },
    {
     "name": "stderr",
     "output_type": "stream",
     "text": [
      "\r",
      "  1%|          | 1/165 [00:10<29:52, 10.93s/it]"
     ]
    },
    {
     "name": "stdout",
     "output_type": "stream",
     "text": [
      "{'data': <Response [200]>, 'filepath': '.', 'extension': 'geojson', 'mimetype': 'application/vnd.geo+json'}\n"
     ]
    },
    {
     "name": "stderr",
     "output_type": "stream",
     "text": [
      "\r",
      "  1%|          | 2/165 [00:11<21:21,  7.86s/it]"
     ]
    },
    {
     "name": "stdout",
     "output_type": "stream",
     "text": [
      "{'data': <Response [200]>, 'filepath': '.', 'extension': 'geojson', 'mimetype': 'application/vnd.geo+json'}\n"
     ]
    },
    {
     "name": "stderr",
     "output_type": "stream",
     "text": [
      "\r",
      "  2%|▏         | 3/165 [00:12<15:20,  5.68s/it]"
     ]
    },
    {
     "name": "stdout",
     "output_type": "stream",
     "text": [
      "{'data': <Response [200]>, 'filepath': '.', 'extension': 'geojson', 'mimetype': 'application/vnd.geo+json'}\n"
     ]
    },
    {
     "name": "stderr",
     "output_type": "stream",
     "text": [
      "\r",
      "  2%|▏         | 4/165 [00:12<11:03,  4.12s/it]"
     ]
    },
    {
     "name": "stdout",
     "output_type": "stream",
     "text": [
      "{'data': <Response [200]>, 'filepath': '.', 'extension': 'geojson', 'mimetype': 'application/vnd.geo+json'}\n"
     ]
    },
    {
     "name": "stderr",
     "output_type": "stream",
     "text": [
      "\r",
      "  3%|▎         | 5/165 [00:13<07:57,  2.98s/it]"
     ]
    },
    {
     "name": "stdout",
     "output_type": "stream",
     "text": [
      "{'data': <Response [200]>, 'filepath': '.', 'extension': 'geojson', 'mimetype': 'application/vnd.geo+json'}\n"
     ]
    },
    {
     "name": "stderr",
     "output_type": "stream",
     "text": [
      "\r",
      "  4%|▎         | 6/165 [00:13<05:49,  2.20s/it]"
     ]
    },
    {
     "name": "stdout",
     "output_type": "stream",
     "text": [
      "{'data': <Response [200]>, 'filepath': '.', 'extension': 'geojson', 'mimetype': 'application/vnd.geo+json'}\n"
     ]
    },
    {
     "name": "stderr",
     "output_type": "stream",
     "text": [
      "\r",
      "  4%|▍         | 7/165 [00:14<04:33,  1.73s/it]"
     ]
    },
    {
     "name": "stdout",
     "output_type": "stream",
     "text": [
      "{'data': <Response [200]>, 'filepath': '.', 'extension': 'geojson', 'mimetype': 'application/vnd.geo+json'}\n"
     ]
    },
    {
     "name": "stderr",
     "output_type": "stream",
     "text": [
      "  5%|▍         | 8/165 [00:15<04:03,  1.55s/it]Process Process-115:\n",
      "Traceback (most recent call last):\n",
      "  File \"/home/alex/miniconda3/envs/urban-physiology/lib/python3.5/multiprocessing/process.py\", line 249, in _bootstrap\n",
      "    self.run()\n",
      "  File \"/home/alex/miniconda3/envs/urban-physiology/lib/python3.5/multiprocessing/process.py\", line 93, in run\n",
      "    self._target(*self._args, **self._kwargs)\n",
      "  File \"/home/alex/miniconda3/envs/urban-physiology/lib/python3.5/site-packages/requests/packages/urllib3/response.py\", line 593, in read_chunked\n",
      "    chunk = self._handle_chunk(amt)\n",
      "  File \"../src/glossarizers/socrata_glossarizer.py\", line 163, in _size_up\n",
      "    return q.put(apply(datafy.get(uri, **kwargs)))\n",
      "  File \"/home/alex/miniconda3/envs/urban-physiology/lib/python3.5/site-packages/datafy/datafy.py\", line 77, in get\n",
      "    r = requests_session.get(uri)\n",
      "  File \"/home/alex/miniconda3/envs/urban-physiology/lib/python3.5/site-packages/requests/sessions.py\", line 501, in get\n",
      "    return self.request('GET', url, **kwargs)\n",
      "  File \"/home/alex/miniconda3/envs/urban-physiology/lib/python3.5/site-packages/requests/sessions.py\", line 488, in request\n",
      "    resp = self.send(prep, **send_kwargs)\n",
      "  File \"/home/alex/miniconda3/envs/urban-physiology/lib/python3.5/site-packages/requests/sessions.py\", line 641, in send\n",
      "    r.content\n",
      "  File \"/home/alex/miniconda3/envs/urban-physiology/lib/python3.5/site-packages/requests/models.py\", line 772, in content\n",
      "    self._content = bytes().join(self.iter_content(CONTENT_CHUNK_SIZE)) or bytes()\n",
      "  File \"/home/alex/miniconda3/envs/urban-physiology/lib/python3.5/site-packages/requests/models.py\", line 694, in generate\n",
      "    for chunk in self.raw.stream(chunk_size, decode_content=True):\n",
      "  File \"/home/alex/miniconda3/envs/urban-physiology/lib/python3.5/site-packages/requests/packages/urllib3/response.py\", line 428, in stream\n",
      "    for line in self.read_chunked(amt, decode_content=decode_content):\n",
      "  File \"/home/alex/miniconda3/envs/urban-physiology/lib/python3.5/site-packages/requests/packages/urllib3/response.py\", line 549, in _handle_chunk\n",
      "    value = self._fp._safe_read(amt)\n",
      "  File \"/home/alex/miniconda3/envs/urban-physiology/lib/python3.5/http/client.py\", line 607, in _safe_read\n",
      "    chunk = self.fp.read(min(amt, MAXAMOUNT))\n",
      "  File \"/home/alex/miniconda3/envs/urban-physiology/lib/python3.5/socket.py\", line 576, in readinto\n",
      "    return self._sock.recv_into(b)\n",
      "  File \"/home/alex/miniconda3/envs/urban-physiology/lib/python3.5/ssl.py\", line 937, in recv_into\n",
      "    return self.read(nbytes, buffer)\n",
      "KeyboardInterrupt\n",
      "  File \"/home/alex/miniconda3/envs/urban-physiology/lib/python3.5/ssl.py\", line 799, in read\n",
      "    return self._sslobj.read(len, buffer)\n",
      "  File \"/home/alex/miniconda3/envs/urban-physiology/lib/python3.5/ssl.py\", line 583, in read\n",
      "    v = self._sslobj.read(len, buffer)\n"
     ]
    },
    {
     "ename": "KeyboardInterrupt",
     "evalue": "",
     "output_type": "error",
     "traceback": [
      "\u001b[0;31m---------------------------------------------------------------------------\u001b[0m",
      "\u001b[0;31mKeyboardInterrupt\u001b[0m                         Traceback (most recent call last)",
      "\u001b[0;32m<ipython-input-7-deb643f1ab5c>\u001b[0m in \u001b[0;36m<module>\u001b[0;34m()\u001b[0m\n\u001b[1;32m      2\u001b[0m                                    \u001b[0mglossary_filename\u001b[0m\u001b[0;34m=\u001b[0m\u001b[0;34m\"test-output-two.json\"\u001b[0m\u001b[0;34m,\u001b[0m\u001b[0;34m\u001b[0m\u001b[0m\n\u001b[1;32m      3\u001b[0m                                    \u001b[0mendpoint_type\u001b[0m\u001b[0;34m=\u001b[0m\u001b[0;34m\"geospatial dataset\"\u001b[0m\u001b[0;34m,\u001b[0m\u001b[0;34m\u001b[0m\u001b[0m\n\u001b[0;32m----> 4\u001b[0;31m                                    use_cache=False)\n\u001b[0m",
      "\u001b[0;32m/home/alex/Desktop/urban-physiology/src/glossarizers/socrata_glossarizer.py\u001b[0m in \u001b[0;36mwrite_glossary\u001b[0;34m(domain, use_cache, endpoint_type, resource_filename, glossary_filename, timeout)\u001b[0m\n\u001b[1;32m    275\u001b[0m                         \u001b[0mresource\u001b[0m\u001b[0;34m[\u001b[0m\u001b[0;34m'id'\u001b[0m\u001b[0;34m]\u001b[0m\u001b[0;34m[\u001b[0m\u001b[0;34m'resource'\u001b[0m\u001b[0;34m]\u001b[0m\u001b[0;34m,\u001b[0m\u001b[0;34m\u001b[0m\u001b[0m\n\u001b[1;32m    276\u001b[0m                         \u001b[0mq\u001b[0m\u001b[0;34m,\u001b[0m \u001b[0mtimeout\u001b[0m\u001b[0;34m=\u001b[0m\u001b[0mtimeout\u001b[0m\u001b[0;34m\u001b[0m\u001b[0m\n\u001b[0;32m--> 277\u001b[0;31m                     )\n\u001b[0m\u001b[1;32m    278\u001b[0m                 \u001b[0;32mexcept\u001b[0m \u001b[0mzipfile\u001b[0m\u001b[0;34m.\u001b[0m\u001b[0mBadZipfile\u001b[0m\u001b[0;34m:\u001b[0m\u001b[0;34m\u001b[0m\u001b[0m\n\u001b[1;32m    279\u001b[0m                     \u001b[0;31m# cf. https://github.com/ResidentMario/datafy/issues/2\u001b[0m\u001b[0;34m\u001b[0m\u001b[0;34m\u001b[0m\u001b[0m\n",
      "\u001b[0;32m/home/alex/Desktop/urban-physiology/src/glossarizers/socrata_glossarizer.py\u001b[0m in \u001b[0;36mget_sizings\u001b[0;34m(uri, q, timeout)\u001b[0m\n\u001b[1;32m    165\u001b[0m     return limited_process.limited_get(\n\u001b[1;32m    166\u001b[0m         \u001b[0muri\u001b[0m\u001b[0;34m,\u001b[0m\u001b[0;34m\u001b[0m\u001b[0m\n\u001b[0;32m--> 167\u001b[0;31m         \u001b[0mq\u001b[0m\u001b[0;34m,\u001b[0m \u001b[0mtimeout\u001b[0m\u001b[0;34m=\u001b[0m\u001b[0mtimeout\u001b[0m\u001b[0;34m,\u001b[0m \u001b[0mcallback\u001b[0m\u001b[0;34m=\u001b[0m\u001b[0m_size_up\u001b[0m\u001b[0;34m\u001b[0m\u001b[0m\n\u001b[0m\u001b[1;32m    168\u001b[0m     )\n\u001b[1;32m    169\u001b[0m \u001b[0;34m\u001b[0m\u001b[0m\n",
      "\u001b[0;32m/home/alex/miniconda3/envs/urban-physiology/lib/python3.5/site-packages/limited_process/limited_process.py\u001b[0m in \u001b[0;36mlimited_get\u001b[0;34m(uri, q, timeout, callback, **kwargs)\u001b[0m\n\u001b[1;32m     40\u001b[0m     \u001b[0mp\u001b[0m \u001b[0;34m=\u001b[0m \u001b[0mmp\u001b[0m\u001b[0;34m.\u001b[0m\u001b[0mProcess\u001b[0m\u001b[0;34m(\u001b[0m\u001b[0mtarget\u001b[0m\u001b[0;34m=\u001b[0m\u001b[0mcallback\u001b[0m\u001b[0;34m,\u001b[0m \u001b[0margs\u001b[0m\u001b[0;34m=\u001b[0m\u001b[0;34m(\u001b[0m\u001b[0muri\u001b[0m\u001b[0;34m,\u001b[0m \u001b[0mq\u001b[0m\u001b[0;34m,\u001b[0m \u001b[0mkwargs\u001b[0m\u001b[0;34m)\u001b[0m\u001b[0;34m)\u001b[0m\u001b[0;34m\u001b[0m\u001b[0m\n\u001b[1;32m     41\u001b[0m     \u001b[0mp\u001b[0m\u001b[0;34m.\u001b[0m\u001b[0mstart\u001b[0m\u001b[0;34m(\u001b[0m\u001b[0;34m)\u001b[0m\u001b[0;34m\u001b[0m\u001b[0m\n\u001b[0;32m---> 42\u001b[0;31m     \u001b[0mp\u001b[0m\u001b[0;34m.\u001b[0m\u001b[0mjoin\u001b[0m\u001b[0;34m(\u001b[0m\u001b[0mtimeout\u001b[0m\u001b[0;34m)\u001b[0m\u001b[0;34m\u001b[0m\u001b[0m\n\u001b[0m\u001b[1;32m     43\u001b[0m     \u001b[0mp\u001b[0m\u001b[0;34m.\u001b[0m\u001b[0mterminate\u001b[0m\u001b[0;34m(\u001b[0m\u001b[0;34m)\u001b[0m\u001b[0;34m\u001b[0m\u001b[0m\n\u001b[1;32m     44\u001b[0m     \u001b[0;31m# If the process succeeded the exitcode is 0.\u001b[0m\u001b[0;34m\u001b[0m\u001b[0;34m\u001b[0m\u001b[0m\n",
      "\u001b[0;32m/home/alex/miniconda3/envs/urban-physiology/lib/python3.5/multiprocessing/process.py\u001b[0m in \u001b[0;36mjoin\u001b[0;34m(self, timeout)\u001b[0m\n\u001b[1;32m    119\u001b[0m         \u001b[0;32massert\u001b[0m \u001b[0mself\u001b[0m\u001b[0;34m.\u001b[0m\u001b[0m_parent_pid\u001b[0m \u001b[0;34m==\u001b[0m \u001b[0mos\u001b[0m\u001b[0;34m.\u001b[0m\u001b[0mgetpid\u001b[0m\u001b[0;34m(\u001b[0m\u001b[0;34m)\u001b[0m\u001b[0;34m,\u001b[0m \u001b[0;34m'can only join a child process'\u001b[0m\u001b[0;34m\u001b[0m\u001b[0m\n\u001b[1;32m    120\u001b[0m         \u001b[0;32massert\u001b[0m \u001b[0mself\u001b[0m\u001b[0;34m.\u001b[0m\u001b[0m_popen\u001b[0m \u001b[0;32mis\u001b[0m \u001b[0;32mnot\u001b[0m \u001b[0;32mNone\u001b[0m\u001b[0;34m,\u001b[0m \u001b[0;34m'can only join a started process'\u001b[0m\u001b[0;34m\u001b[0m\u001b[0m\n\u001b[0;32m--> 121\u001b[0;31m         \u001b[0mres\u001b[0m \u001b[0;34m=\u001b[0m \u001b[0mself\u001b[0m\u001b[0;34m.\u001b[0m\u001b[0m_popen\u001b[0m\u001b[0;34m.\u001b[0m\u001b[0mwait\u001b[0m\u001b[0;34m(\u001b[0m\u001b[0mtimeout\u001b[0m\u001b[0;34m)\u001b[0m\u001b[0;34m\u001b[0m\u001b[0m\n\u001b[0m\u001b[1;32m    122\u001b[0m         \u001b[0;32mif\u001b[0m \u001b[0mres\u001b[0m \u001b[0;32mis\u001b[0m \u001b[0;32mnot\u001b[0m \u001b[0;32mNone\u001b[0m\u001b[0;34m:\u001b[0m\u001b[0;34m\u001b[0m\u001b[0m\n\u001b[1;32m    123\u001b[0m             \u001b[0m_children\u001b[0m\u001b[0;34m.\u001b[0m\u001b[0mdiscard\u001b[0m\u001b[0;34m(\u001b[0m\u001b[0mself\u001b[0m\u001b[0;34m)\u001b[0m\u001b[0;34m\u001b[0m\u001b[0m\n",
      "\u001b[0;32m/home/alex/miniconda3/envs/urban-physiology/lib/python3.5/multiprocessing/popen_fork.py\u001b[0m in \u001b[0;36mwait\u001b[0;34m(self, timeout)\u001b[0m\n\u001b[1;32m     46\u001b[0m             \u001b[0;32mif\u001b[0m \u001b[0mtimeout\u001b[0m \u001b[0;32mis\u001b[0m \u001b[0;32mnot\u001b[0m \u001b[0;32mNone\u001b[0m\u001b[0;34m:\u001b[0m\u001b[0;34m\u001b[0m\u001b[0m\n\u001b[1;32m     47\u001b[0m                 \u001b[0;32mfrom\u001b[0m \u001b[0mmultiprocessing\u001b[0m\u001b[0;34m.\u001b[0m\u001b[0mconnection\u001b[0m \u001b[0;32mimport\u001b[0m \u001b[0mwait\u001b[0m\u001b[0;34m\u001b[0m\u001b[0m\n\u001b[0;32m---> 48\u001b[0;31m                 \u001b[0;32mif\u001b[0m \u001b[0;32mnot\u001b[0m \u001b[0mwait\u001b[0m\u001b[0;34m(\u001b[0m\u001b[0;34m[\u001b[0m\u001b[0mself\u001b[0m\u001b[0;34m.\u001b[0m\u001b[0msentinel\u001b[0m\u001b[0;34m]\u001b[0m\u001b[0;34m,\u001b[0m \u001b[0mtimeout\u001b[0m\u001b[0;34m)\u001b[0m\u001b[0;34m:\u001b[0m\u001b[0;34m\u001b[0m\u001b[0m\n\u001b[0m\u001b[1;32m     49\u001b[0m                     \u001b[0;32mreturn\u001b[0m \u001b[0;32mNone\u001b[0m\u001b[0;34m\u001b[0m\u001b[0m\n\u001b[1;32m     50\u001b[0m             \u001b[0;31m# This shouldn't block if wait() returned successfully.\u001b[0m\u001b[0;34m\u001b[0m\u001b[0;34m\u001b[0m\u001b[0m\n",
      "\u001b[0;32m/home/alex/miniconda3/envs/urban-physiology/lib/python3.5/multiprocessing/connection.py\u001b[0m in \u001b[0;36mwait\u001b[0;34m(object_list, timeout)\u001b[0m\n\u001b[1;32m    909\u001b[0m \u001b[0;34m\u001b[0m\u001b[0m\n\u001b[1;32m    910\u001b[0m             \u001b[0;32mwhile\u001b[0m \u001b[0;32mTrue\u001b[0m\u001b[0;34m:\u001b[0m\u001b[0;34m\u001b[0m\u001b[0m\n\u001b[0;32m--> 911\u001b[0;31m                 \u001b[0mready\u001b[0m \u001b[0;34m=\u001b[0m \u001b[0mselector\u001b[0m\u001b[0;34m.\u001b[0m\u001b[0mselect\u001b[0m\u001b[0;34m(\u001b[0m\u001b[0mtimeout\u001b[0m\u001b[0;34m)\u001b[0m\u001b[0;34m\u001b[0m\u001b[0m\n\u001b[0m\u001b[1;32m    912\u001b[0m                 \u001b[0;32mif\u001b[0m \u001b[0mready\u001b[0m\u001b[0;34m:\u001b[0m\u001b[0;34m\u001b[0m\u001b[0m\n\u001b[1;32m    913\u001b[0m                     \u001b[0;32mreturn\u001b[0m \u001b[0;34m[\u001b[0m\u001b[0mkey\u001b[0m\u001b[0;34m.\u001b[0m\u001b[0mfileobj\u001b[0m \u001b[0;32mfor\u001b[0m \u001b[0;34m(\u001b[0m\u001b[0mkey\u001b[0m\u001b[0;34m,\u001b[0m \u001b[0mevents\u001b[0m\u001b[0;34m)\u001b[0m \u001b[0;32min\u001b[0m \u001b[0mready\u001b[0m\u001b[0;34m]\u001b[0m\u001b[0;34m\u001b[0m\u001b[0m\n",
      "\u001b[0;32m/home/alex/miniconda3/envs/urban-physiology/lib/python3.5/selectors.py\u001b[0m in \u001b[0;36mselect\u001b[0;34m(self, timeout)\u001b[0m\n\u001b[1;32m    374\u001b[0m             \u001b[0mready\u001b[0m \u001b[0;34m=\u001b[0m \u001b[0;34m[\u001b[0m\u001b[0;34m]\u001b[0m\u001b[0;34m\u001b[0m\u001b[0m\n\u001b[1;32m    375\u001b[0m             \u001b[0;32mtry\u001b[0m\u001b[0;34m:\u001b[0m\u001b[0;34m\u001b[0m\u001b[0m\n\u001b[0;32m--> 376\u001b[0;31m                 \u001b[0mfd_event_list\u001b[0m \u001b[0;34m=\u001b[0m \u001b[0mself\u001b[0m\u001b[0;34m.\u001b[0m\u001b[0m_poll\u001b[0m\u001b[0;34m.\u001b[0m\u001b[0mpoll\u001b[0m\u001b[0;34m(\u001b[0m\u001b[0mtimeout\u001b[0m\u001b[0;34m)\u001b[0m\u001b[0;34m\u001b[0m\u001b[0m\n\u001b[0m\u001b[1;32m    377\u001b[0m             \u001b[0;32mexcept\u001b[0m \u001b[0mInterruptedError\u001b[0m\u001b[0;34m:\u001b[0m\u001b[0;34m\u001b[0m\u001b[0m\n\u001b[1;32m    378\u001b[0m                 \u001b[0;32mreturn\u001b[0m \u001b[0mready\u001b[0m\u001b[0;34m\u001b[0m\u001b[0m\n",
      "\u001b[0;31mKeyboardInterrupt\u001b[0m: "
     ]
    }
   ],
   "source": [
    "socrata_glossarizer.write_glossary(resource_filename=\"../data/nyc/resource lists/geospatial dataset.json\",\n",
    "                                   glossary_filename=\"test-output-two.json\",\n",
    "                                   endpoint_type=\"geospatial dataset\",\n",
    "                                   use_cache=False)"
   ]
  },
  {
   "cell_type": "code",
   "execution_count": null,
   "metadata": {
    "collapsed": true
   },
   "outputs": [],
   "source": []
  }
 ],
 "metadata": {
  "kernelspec": {
   "display_name": "Python 3",
   "language": "python",
   "name": "python3"
  },
  "language_info": {
   "codemirror_mode": {
    "name": "ipython",
    "version": 3
   },
   "file_extension": ".py",
   "mimetype": "text/x-python",
   "name": "python",
   "nbconvert_exporter": "python",
   "pygments_lexer": "ipython3",
   "version": "3.5.3"
  }
 },
 "nbformat": 4,
 "nbformat_minor": 2
}
