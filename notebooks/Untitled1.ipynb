{
 "cells": [
  {
   "cell_type": "code",
   "execution_count": 5,
   "metadata": {
    "collapsed": true
   },
   "outputs": [],
   "source": [
    "import limited_process\n",
    "import datafy"
   ]
  },
  {
   "cell_type": "code",
   "execution_count": 6,
   "metadata": {
    "collapsed": false
   },
   "outputs": [],
   "source": [
    "q = limited_process.q()"
   ]
  },
  {
   "cell_type": "code",
   "execution_count": 17,
   "metadata": {
    "collapsed": true
   },
   "outputs": [],
   "source": [
    "# Create the callback function that will get sizing information.\n",
    "def _size_up(uri, q, kwargs):\n",
    "    def apply(resource):\n",
    "        thing_log = []\n",
    "        for thing in resource:  # probably a dataset, but potentially metadata et. al. instead\n",
    "            print(thing)\n",
    "            thing_log.append({\n",
    "                'filesize': sys.getsizeof(thing['data'].content) / 1024,\n",
    "                'dataset': thing['filepath'],\n",
    "                'mimetype': thing['mimetype'],\n",
    "                'extension': thing['extension']\n",
    "            })\n",
    "            \n",
    "    return q.put(apply(datafy.get(uri, **kwargs)))\n",
    "#     return apply(datafy.get(uri, **kwargs))"
   ]
  },
  {
   "cell_type": "code",
   "execution_count": 22,
   "metadata": {
    "collapsed": false
   },
   "outputs": [
    {
     "name": "stdout",
     "output_type": "stream",
     "text": [
      "{'data': <Response [200]>, 'mimetype': 'text/csv', 'filepath': '.', 'extension': 'csv'}\n"
     ]
    }
   ],
   "source": [
    "limited_process.limited_get(\"https://data.cityofnewyork.us/api/views/gezn-7mgk/rows.csv?accessType=DOWNLOAD\",\n",
    "                            q,\n",
    "                            timeout=60,\n",
    "                            callback=_size_up)"
   ]
  },
  {
   "cell_type": "code",
   "execution_count": 16,
   "metadata": {
    "collapsed": false,
    "scrolled": false
   },
   "outputs": [
    {
     "name": "stdout",
     "output_type": "stream",
     "text": [
      "{'data': <Response [200]>, 'mimetype': 'text/csv', 'filepath': '.', 'extension': 'csv'}\n"
     ]
    }
   ],
   "source": [
    "_size_up(\"https://data.cityofnewyork.us/api/views/gezn-7mgk/rows.csv?accessType=DOWNLOAD\", None, {})"
   ]
  },
  {
   "cell_type": "code",
   "execution_count": 19,
   "metadata": {
    "collapsed": false
   },
   "outputs": [
    {
     "name": "stdout",
     "output_type": "stream",
     "text": [
      "{'data': <Response [200]>, 'mimetype': 'text/csv', 'filepath': '.', 'extension': 'csv'}\n"
     ]
    }
   ],
   "source": [
    "_size_up(\"https://data.cityofnewyork.us/api/views/gezn-7mgk/rows.csv?accessType=DOWNLOAD\", q, {})"
   ]
  },
  {
   "cell_type": "code",
   "execution_count": 1,
   "metadata": {
    "collapsed": true
   },
   "outputs": [],
   "source": [
    "import sys; sys.path.append(\"../src\")"
   ]
  },
  {
   "cell_type": "code",
   "execution_count": 2,
   "metadata": {
    "collapsed": true
   },
   "outputs": [],
   "source": [
    "from glossarizers import socrata_glossarizer"
   ]
  },
  {
   "cell_type": "code",
   "execution_count": 7,
   "metadata": {
    "collapsed": false
   },
   "outputs": [
    {
     "name": "stdout",
     "output_type": "stream",
     "text": [
      "{'filepath': '.', 'mimetype': 'text/csv', 'data': <Response [200]>, 'extension': 'csv'}\n"
     ]
    }
   ],
   "source": [
    "socrata_glossarizer.get_sizings(\"https://data.cityofnewyork.us/api/views/gezn-7mgk/rows.csv?accessType=DOWNLOAD\", q)"
   ]
  },
  {
   "cell_type": "code",
   "execution_count": null,
   "metadata": {
    "collapsed": true
   },
   "outputs": [],
   "source": []
  }
 ],
 "metadata": {
  "kernelspec": {
   "display_name": "Python 3",
   "language": "python",
   "name": "python3"
  },
  "language_info": {
   "codemirror_mode": {
    "name": "ipython",
    "version": 3
   },
   "file_extension": ".py",
   "mimetype": "text/x-python",
   "name": "python",
   "nbconvert_exporter": "python",
   "pygments_lexer": "ipython3",
   "version": "3.5.3"
  }
 },
 "nbformat": 4,
 "nbformat_minor": 2
}
