{
 "cells": [
  {
   "cell_type": "markdown",
   "metadata": {},
   "source": [
    "First some boilerplate for extracting the metadata we start with, taken from the previous notebook."
   ]
  },
  {
   "cell_type": "code",
   "execution_count": 1,
   "metadata": {
    "collapsed": true
   },
   "outputs": [],
   "source": [
    "import json\n",
    "\n",
    "with open(\"../auth/nyc-open-data.json\", \"r\") as f:\n",
    "    nyc_auth = json.load(f)\n",
    "    \n",
    "import pysocrata\n",
    "nyc_datasets = pysocrata.get_datasets(**nyc_auth)\n",
    "\n",
    "nyc_datasets = [d for d in nyc_datasets if d['resource']['type'] != 'story']\n",
    "\n",
    "nyc_types = [d['resource']['type'] for d in nyc_datasets]\n",
    "volcab_map = {'dataset': 'table', 'href': 'link', 'map': 'geospatial dataset', 'file': 'blob'}\n",
    "nyc_types = list(map(lambda d: volcab_map[d], nyc_types))\n",
    "\n",
    "nyc_endpoints = [d['resource']['id'] for d in nyc_datasets]"
   ]
  },
  {
   "cell_type": "markdown",
   "metadata": {},
   "source": [
    "Here are the data formats that we're working with:"
   ]
  },
  {
   "cell_type": "code",
   "execution_count": 2,
   "metadata": {
    "collapsed": false
   },
   "outputs": [
    {
     "data": {
      "text/plain": [
       "table                 1132\n",
       "link                   182\n",
       "geospatial dataset     165\n",
       "blob                    98\n",
       "dtype: int64"
      ]
     },
     "execution_count": 2,
     "metadata": {},
     "output_type": "execute_result"
    }
   ],
   "source": [
    "import pandas as pd\n",
    "\n",
    "pd.Series(nyc_types).value_counts()"
   ]
  },
  {
   "cell_type": "markdown",
   "metadata": {},
   "source": [
    "Tables are easiest; we have access to a nice client, `sodapy`, which wraps Socrata API features designed around accessing their contents. So let's start by playing around with `sodapy` and validating that we can get what want."
   ]
  },
  {
   "cell_type": "code",
   "execution_count": 3,
   "metadata": {
    "collapsed": true
   },
   "outputs": [],
   "source": [
    "import numpy as np\n",
    "table_indices = np.nonzero([t == 'table' for t in nyc_types])\n",
    "table_endpoints = np.array(nyc_endpoints)[table_indices]"
   ]
  },
  {
   "cell_type": "code",
   "execution_count": 5,
   "metadata": {
    "collapsed": false
   },
   "outputs": [
    {
     "data": {
      "text/plain": [
       "{'classification': {'categories': [],\n",
       "  'domain_category': 'Business',\n",
       "  'domain_metadata': [{'key': 'Update_Automation', 'value': 'Yes'},\n",
       "   {'key': 'Update_Update-Frequency', 'value': 'As needed'},\n",
       "   {'key': 'Dataset-Information_Agency',\n",
       "    'value': 'Department of Information Technology & Telecommunications (DoITT)'}],\n",
       "  'domain_tags': ['webpage',\n",
       "   'registration',\n",
       "   '.nyc',\n",
       "   'domain',\n",
       "   'internet',\n",
       "   'web',\n",
       "   'site',\n",
       "   'website',\n",
       "   'page'],\n",
       "  'tags': []},\n",
       " 'link': 'https://data.cityofnewyork.us/Business/-nyc-Domain-Registrations/9cw8-7heb',\n",
       " 'metadata': {'domain': 'data.cityofnewyork.us'},\n",
       " 'permalink': 'https://data.cityofnewyork.us/d/9cw8-7heb',\n",
       " 'resource': {'attribution': 'Department of Information Technology & Telecommunications (DoITT)',\n",
       "  'columns_description': ['', '', ''],\n",
       "  'columns_field_name': ['nexus_category',\n",
       "   'domain_registration_date',\n",
       "   'domain_name'],\n",
       "  'columns_name': ['Nexus Category',\n",
       "   'Domain Registration Date ',\n",
       "   'Domain Name '],\n",
       "  'createdAt': '2015-07-13T18:48:56.000Z',\n",
       "  'description': 'A list of all .nyc domains registered along with the registration date and registrant type. This list is updated daily.',\n",
       "  'download_count': 0,\n",
       "  'id': '9cw8-7heb',\n",
       "  'name': '.nyc Domain Registrations',\n",
       "  'page_views': {'page_views_last_month': 14,\n",
       "   'page_views_last_month_log': 3.9068905956085187,\n",
       "   'page_views_last_week': 5,\n",
       "   'page_views_last_week_log': 2.584962500721156,\n",
       "   'page_views_total': 1123,\n",
       "   'page_views_total_log': 10.134426320220927},\n",
       "  'parent_fxf': None,\n",
       "  'provenance': 'official',\n",
       "  'type': 'dataset',\n",
       "  'updatedAt': '2017-01-21T21:52:51.000Z',\n",
       "  'view_count': {'page_views_last_month': 14,\n",
       "   'page_views_last_month_log': 3.9068905956085187,\n",
       "   'page_views_last_week': 5,\n",
       "   'page_views_last_week_log': 2.584962500721156,\n",
       "   'page_views_total': 1123,\n",
       "   'page_views_total_log': 10.134426320220927}}}"
      ]
     },
     "execution_count": 5,
     "metadata": {},
     "output_type": "execute_result"
    }
   ],
   "source": [
    "nyc_datasets[0]"
   ]
  },
  {
   "cell_type": "markdown",
   "metadata": {},
   "source": [
    "The metadata, shown above, does not show the size of the dataset as it would be when downloaded.\n",
    "\n",
    "The most straightforward way of getting this information would be to send a `HEAD` request and read the `Content-Length` returned in the header. But the server doesn't accept `HEAD` requests..."
   ]
  },
  {
   "cell_type": "code",
   "execution_count": 8,
   "metadata": {
    "collapsed": false
   },
   "outputs": [],
   "source": [
    "ex_table_endpoint = table_endpoints[0]"
   ]
  },
  {
   "cell_type": "code",
   "execution_count": 9,
   "metadata": {
    "collapsed": true
   },
   "outputs": [],
   "source": [
    "import requests"
   ]
  },
  {
   "cell_type": "code",
   "execution_count": 15,
   "metadata": {
    "collapsed": true
   },
   "outputs": [],
   "source": [
    "ex_head = requests.head('https://data.cityofnewyork.us/api/views/szkz-syh6/rows.csv?accessType=DOWNLOAD')"
   ]
  },
  {
   "cell_type": "code",
   "execution_count": 16,
   "metadata": {
    "collapsed": false
   },
   "outputs": [
    {
     "data": {
      "text/plain": [
       "{'Cache-Control': 'private, no-cache, must-revalidate', 'X-Socrata-Region': 'aws-us-east-1-fedramp-prod', 'Age': '0', 'X-Error-Message': 'HEAD is not supported', 'Connection': 'keep-alive', 'Access-Control-Allow-Origin': '*', 'X-Socrata-RequestId': '12dk7s9gwfgvp9pir1dyt0dab', 'Server': 'nginx', 'X-Error-Code': 'invalid_request', 'Date': 'Sat, 21 Jan 2017 23:12:38 GMT'}"
      ]
     },
     "execution_count": 16,
     "metadata": {},
     "output_type": "execute_result"
    }
   ],
   "source": [
    "ex_head.headers"
   ]
  },
  {
   "cell_type": "markdown",
   "metadata": {},
   "source": [
    "...and downloads are returned in a compressed (`gzip`) format which disallows reading length off of `GET` requests, either."
   ]
  },
  {
   "cell_type": "code",
   "execution_count": 13,
   "metadata": {
    "collapsed": true
   },
   "outputs": [],
   "source": [
    "ex_head_2 = requests.get('https://data.cityofnewyork.us/api/views/szkz-syh6/rows.csv?accessType=DOWNLOAD')"
   ]
  },
  {
   "cell_type": "code",
   "execution_count": 14,
   "metadata": {
    "collapsed": false
   },
   "outputs": [
    {
     "data": {
      "text/plain": [
       "{'Cache-Control': 'public, must-revalidate, max-age=21600', 'Transfer-Encoding': 'chunked', 'X-Socrata-RequestId': 'c0p415wydc7skze85vz8py1tt', 'Last-Modified': 'Sat, 21 Jan 2017 14:33:47 UTC', 'X-Socrata-Region': 'aws-us-east-1-fedramp-prod', 'Content-Type': 'text/csv; charset=utf-8', 'Content-disposition': 'attachment; filename=Prequalified_Firms.csv', 'Content-Encoding': 'gzip', 'Age': '0', 'Connection': 'keep-alive', 'Access-Control-Allow-Origin': '*', 'Server': 'nginx', 'Date': 'Sat, 21 Jan 2017 23:12:12 GMT'}"
      ]
     },
     "execution_count": 14,
     "metadata": {},
     "output_type": "execute_result"
    }
   ],
   "source": [
    "ex_head_2.headers"
   ]
  },
  {
   "cell_type": "markdown",
   "metadata": {},
   "source": [
    "Is this also true of the three other data types?"
   ]
  },
  {
   "cell_type": "code",
   "execution_count": 18,
   "metadata": {
    "collapsed": false
   },
   "outputs": [
    {
     "data": {
      "text/plain": [
       "{'Cache-Control': 'private, no-cache, must-revalidate', 'X-Socrata-Region': 'aws-us-east-1-fedramp-prod', 'Age': '0', 'X-Error-Message': 'HEAD not allowed', 'Connection': 'keep-alive', 'Access-Control-Allow-Origin': '*', 'X-Socrata-RequestId': '59apfqsvykxwgqn7gaws6dsue', 'Server': 'nginx', 'X-Error-Code': 'method_not_allowed', 'Date': 'Sat, 21 Jan 2017 23:20:37 GMT'}"
      ]
     },
     "execution_count": 18,
     "metadata": {},
     "output_type": "execute_result"
    }
   ],
   "source": [
    "# Geospatial\n",
    "# https://nycopendata.socrata.com/Transportation/Subway-Entrances/drex-xx56\n",
    "requests.head('https://nycopendata.socrata.com/api/geospatial/drex-xx56?method=export&format=Shapefile').headers"
   ]
  },
  {
   "cell_type": "code",
   "execution_count": 19,
   "metadata": {
    "collapsed": false
   },
   "outputs": [
    {
     "data": {
      "text/plain": [
       "{'Transfer-Encoding': 'chunked', 'X-Socrata-Region': 'aws-us-east-1-fedramp-prod', 'Age': '0', 'Connection': 'keep-alive', 'Access-Control-Allow-Origin': '*', 'X-Socrata-RequestId': '4dp1j7urabazn7h7xn63u53xj', 'Server': 'nginx', 'Content-Disposition': 'attachment; filename=\"Subway Entrances.zip\"', 'Content-Type': 'application/zip', 'Date': 'Sat, 21 Jan 2017 23:20:44 GMT'}"
      ]
     },
     "execution_count": 19,
     "metadata": {},
     "output_type": "execute_result"
    }
   ],
   "source": [
    "requests.get('https://nycopendata.socrata.com/api/geospatial/drex-xx56?method=export&format=Shapefile').headers"
   ]
  },
  {
   "cell_type": "code",
   "execution_count": 20,
   "metadata": {
    "collapsed": false
   },
   "outputs": [
    {
     "data": {
      "text/plain": [
       "{'Cache-Control': 'private, no-cache, must-revalidate', 'X-Socrata-Region': 'aws-us-east-1-fedramp-prod', 'Age': '0', 'X-Error-Message': 'HEAD is not supported', 'Connection': 'keep-alive', 'Access-Control-Allow-Origin': '*', 'X-Socrata-RequestId': '4bzuzuuuyvwkvlf0i3o8fy5ak', 'Server': 'nginx', 'X-Error-Code': 'invalid_request', 'Date': 'Sat, 21 Jan 2017 23:23:46 GMT'}"
      ]
     },
     "execution_count": 20,
     "metadata": {},
     "output_type": "execute_result"
    }
   ],
   "source": [
    "# Blob\n",
    "# https://data.cityofnewyork.us/dataset/Broadband-Data-Dig-Datasets/ft4n-yqee\n",
    "requests.head('https://data.cityofnewyork.us/api/file_data/3d0f7600-f88a-4a11-8ad9-707c785caa08?filename=Broadband%20Data%20Dig%20-%20Datasets.zip').headers"
   ]
  },
  {
   "cell_type": "code",
   "execution_count": 22,
   "metadata": {
    "collapsed": false
   },
   "outputs": [],
   "source": [
    "# requests.get('https://data.cityofnewyork.us/api/file_data/3d0f7600-f88a-4a11-8ad9-707c785caa08?filename=Broadband%20Data%20Dig%20-%20Datasets.zip').headers"
   ]
  },
  {
   "cell_type": "markdown",
   "metadata": {},
   "source": [
    "Ok, so it's pretty obvious that there's no way to get the size of a file being downloaded until it is completely downloaded, because the connection is keep-alive and chunked.\n",
    "\n",
    "We can get the # rows and # columns for tables by using the API. However, we can't even do that for datasets of the other types...OK, but geospatial should be relatively straightforward to read in. That leaves links and blobs. Let's start with links."
   ]
  },
  {
   "cell_type": "code",
   "execution_count": 23,
   "metadata": {
    "collapsed": true
   },
   "outputs": [],
   "source": [
    "link_indices = np.nonzero([t == 'link' for t in nyc_types])\n",
    "link_endpoints = np.array(nyc_endpoints)[link_indices]"
   ]
  },
  {
   "cell_type": "code",
   "execution_count": 24,
   "metadata": {
    "collapsed": false
   },
   "outputs": [
    {
     "data": {
      "text/plain": [
       "array(['79me-a7rs', 'fx7a-24mf', 'psde-rqze', 'dte3-kvx7', '9p9k-tusd',\n",
       "       'hfa3-euj3', 'pnij-y7y6', 'yupw-u2ax', '9dux-uz3w', 'd9fg-z42k',\n",
       "       'c5dk-m6ea', 'qk6i-zcht', 'tnru-abg2', 'ware-id4f', 'v7f4-yzyg',\n",
       "       'dnjp-mkjx', 'j8nm-zs7q', 'ezds-sqp6', 'qiwj-i2jk', 'xswq-wnv9',\n",
       "       'wha9-m3tq', 'qf28-yqqv', 'spax-mybh', '8d5p-rji6', 'pnru-8qsf',\n",
       "       'bqbs-iwyn', 'f7ta-5e24', '824w-7c8u', '2p3a-y7d4', 'krxp-x4za',\n",
       "       '64vf-hxyb', 'rn6h-i66u', 'umu5-zyd3', 'pf9y-ef2p', 'hxay-3qcw',\n",
       "       '9p99-55bh', 'pr5n-ucgi', 'ivb7-t7a7', 'pqb7-6q2k', 'n7nh-rhic',\n",
       "       's65f-sqe8', '8k4a-z83b', 'nx9f-wn3a', 'eweh-h793', 'm7f5-x3k4',\n",
       "       's8jv-f44n', 'ie6s-t87j', 'vdkk-sqws', 'aumr-wgtk', 'egch-abu9',\n",
       "       '5crx-5ivw', 'ud5r-z5ws', 'tpe4-3w5y', '4v4n-gnh2', 'p84r-8kqf',\n",
       "       '3gx8-vrcy', 'hz79-96hi', 'sngu-yqq8', 'xi5z-cgq7', 't22b-cmty',\n",
       "       'p94q-8hxh', 'mpmk-b5ed', 'vsnr-94wk', 'quix-kfbk', '9jqw-r2a4',\n",
       "       'sah3-jw2y', 'epfh-qbp5', 'hc9t-g6wa', 'vghm-gmwr', 'fbqm-ihfd',\n",
       "       'sn25-9xqk', '2mvc-qg9q', 'xz57-5ygp', 'vijr-8gr7', 'szbc-ua9b',\n",
       "       '3g65-5ni7', 'w3g3-3ai7', '65z6-rsii', 'r2ig-3im3', 'y4xu-dcu3',\n",
       "       'w2sw-2dqb', 'agx7-ib66', 'tbvn-fzud', 'dpc8-z3jc', 'f888-ni5f',\n",
       "       'xuk2-nczf', 'mxwn-eh3b', 'mwxp-krtu', 'u6fv-5dqe', 'kwk4-6u9e',\n",
       "       '3bkj-34v2', 'r7rr-2vqh', 'f6an-2v46', 'ftxv-d5ix', 'hqhv-9zeg',\n",
       "       'xdsd-mmyu', '88da-cha7', 'sp9a-cd2a', 'xsat-x5sa', 'bymk-vktx',\n",
       "       'xmzf-uf2w', 'b7t4-zm44', 'udt3-taj7', 'qfxy-c6k3', 'i8d5-5ciu',\n",
       "       'evdj-a5z2', '7xqy-uv7r', 'qpbf-g2yx', '4bg6-ub7f', '9ned-hmak',\n",
       "       'ydj7-rk56', 'hr2s-xdcw', '59gn-q4ai', 'fupk-24im', 'bj76-nbjg',\n",
       "       'i762-rk6i', 'ksfe-nc8x', '42p9-q6fd', 'mnz3-dyi8', 'nmqv-xfsc',\n",
       "       'nzvw-cjc2', 'b2m2-7ih3', 'tmtb-gcc6', 'fndu-yzn3', 'p7p7-wvdw',\n",
       "       'z42n-hfkv', 'sqyt-f78v', 'keny-zprk', 'ijxg-g6qy', '5j86-5vbn',\n",
       "       'sx4q-k6ay', 'x9ia-3cjh', 'g8fi-we5z', 'ucrw-jk24', 'brrx-dg4s',\n",
       "       'tvy2-e7mm', '5q5r-bu4w', '3j9j-3cga', 'niuh-hrin', 'rqzz-2ajy',\n",
       "       'ecem-8bdx', 'pr6u-akpp', '3nx4-m5h6', 'ijaw-4yr5', '8f3b-vtv6',\n",
       "       'y8c3-mmbu', 'c8wu-fxqw', 'yitc-zzrc', 'qjqq-8zh3', 't9jy-gfev',\n",
       "       'ac9y-je94', 'wm9y-vrt8', 'bvc7-nbpp', 'mmu8-8w8b', 'y8tr-23bj',\n",
       "       'efsz-uj8v', 'xdkk-pvdv', 'zhrf-jnt6', '8792-ebcp', 'dhu2-kitw',\n",
       "       '7yhi-h8kc', 'gzk5-mux8', 'dies-sqgi', 'x57r-az25', '2hr8-czpv',\n",
       "       'sage-tgxd', 'sxe3-hucm', 'un72-4nix', 'i8f4-bu5r', 'aviq-jvfs',\n",
       "       'ipbu-mtcs', 'nn83-afrt', 'zyf6-z3xt', 'b937-zdky', 'v3zf-nci8',\n",
       "       'w3wp-dpdi', 'ghse-r5nk', 'kvuc-fg9b', 'cu9u-3r5e', 't4s6-khpm',\n",
       "       'qhen-5rve', 'vihk-m25f'], \n",
       "      dtype='<U9')"
      ]
     },
     "execution_count": 24,
     "metadata": {},
     "output_type": "execute_result"
    }
   ],
   "source": [
    "link_endpoints"
   ]
  },
  {
   "cell_type": "code",
   "execution_count": 29,
   "metadata": {
    "collapsed": false
   },
   "outputs": [
    {
     "data": {
      "text/plain": [
       "{'classification': {'categories': [],\n",
       "  'domain_category': 'Recreation',\n",
       "  'domain_metadata': [{'key': 'Update_Automation', 'value': 'No'},\n",
       "   {'key': 'Update_Update-Frequency', 'value': 'As needed'},\n",
       "   {'key': 'Dataset-Information_Agency',\n",
       "    'value': 'Department of Parks and Recreation (DPR)'}],\n",
       "  'domain_tags': ['parks and recreation', 'recreation', 'parks', 'dpr'],\n",
       "  'tags': []},\n",
       " 'link': 'https://data.cityofnewyork.us/Recreation/Directory-of-Parks/79me-a7rs',\n",
       " 'metadata': {'domain': 'data.cityofnewyork.us'},\n",
       " 'permalink': 'https://data.cityofnewyork.us/d/79me-a7rs',\n",
       " 'resource': {'attribution': 'Department of Parks and Recreation (DPR)',\n",
       "  'columns_description': [],\n",
       "  'columns_field_name': [],\n",
       "  'columns_name': [],\n",
       "  'createdAt': '2016-10-06T01:18:57.000Z',\n",
       "  'description': '',\n",
       "  'download_count': 0,\n",
       "  'id': '79me-a7rs',\n",
       "  'name': 'Directory of Parks',\n",
       "  'page_views': {'page_views_last_month': 2,\n",
       "   'page_views_last_month_log': 1.5849625007211563,\n",
       "   'page_views_last_week': 1,\n",
       "   'page_views_last_week_log': 1.0,\n",
       "   'page_views_total': 129,\n",
       "   'page_views_total_log': 7.022367813028454},\n",
       "  'parent_fxf': None,\n",
       "  'provenance': 'official',\n",
       "  'type': 'href',\n",
       "  'updatedAt': '2016-10-06T01:20:43.000Z',\n",
       "  'view_count': {'page_views_last_month': 2,\n",
       "   'page_views_last_month_log': 1.5849625007211563,\n",
       "   'page_views_last_week': 1,\n",
       "   'page_views_last_week_log': 1.0,\n",
       "   'page_views_total': 129,\n",
       "   'page_views_total_log': 7.022367813028454}}}"
      ]
     },
     "execution_count": 29,
     "metadata": {},
     "output_type": "execute_result"
    }
   ],
   "source": [
    "nyc_datasets[link_indices[0][0]]"
   ]
  },
  {
   "cell_type": "markdown",
   "metadata": {},
   "source": [
    "TODO: Figure out how to work links and blobs."
   ]
  }
 ],
 "metadata": {
  "kernelspec": {
   "display_name": "Python 3",
   "language": "python",
   "name": "python3"
  },
  "language_info": {
   "codemirror_mode": {
    "name": "ipython",
    "version": 3
   },
   "file_extension": ".py",
   "mimetype": "text/x-python",
   "name": "python",
   "nbconvert_exporter": "python",
   "pygments_lexer": "ipython3",
   "version": "3.5.2"
  }
 },
 "nbformat": 4,
 "nbformat_minor": 2
}
