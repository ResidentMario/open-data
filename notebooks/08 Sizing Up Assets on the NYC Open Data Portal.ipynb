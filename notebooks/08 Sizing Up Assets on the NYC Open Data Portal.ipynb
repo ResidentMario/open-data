{
 "cells": [
  {
   "cell_type": "code",
   "execution_count": 1,
   "metadata": {
    "collapsed": false
   },
   "outputs": [
    {
     "name": "stderr",
     "output_type": "stream",
     "text": [
      "/home/alex/miniconda3/envs/urban-physiology/lib/python3.5/site-packages/matplotlib/font_manager.py:273: UserWarning: Matplotlib is building the font cache using fc-list. This may take a moment.\n",
      "  warnings.warn('Matplotlib is building the font cache using fc-list. This may take a moment.')\n",
      "/home/alex/miniconda3/envs/urban-physiology/lib/python3.5/site-packages/matplotlib/font_manager.py:273: UserWarning: Matplotlib is building the font cache using fc-list. This may take a moment.\n",
      "  warnings.warn('Matplotlib is building the font cache using fc-list. This may take a moment.')\n"
     ]
    }
   ],
   "source": [
    "import matplotlib.pyplot as plt\n",
    "import pandas as pd\n",
    "import json\n",
    "%matplotlib inline"
   ]
  },
  {
   "cell_type": "code",
   "execution_count": 3,
   "metadata": {
    "collapsed": false
   },
   "outputs": [],
   "source": [
    "# for kind in ['table',' link', 'blob', 'geospatial dataset']\n",
    "\n",
    "with open(\"../data/nyc/glossaries/table-new.json\") as f:\n",
    "    tables = json.load(f)"
   ]
  },
  {
   "cell_type": "code",
   "execution_count": 5,
   "metadata": {
    "collapsed": false
   },
   "outputs": [
    {
     "data": {
      "text/plain": [
       "{'available_formats': ['csv', 'json', 'rdf', 'rss', 'tsv', 'xml'],\n",
       " 'column_names': ['Domain Registration Date ',\n",
       "  'Domain Name ',\n",
       "  'Nexus Category'],\n",
       " 'columns': 3,\n",
       " 'created': '2015-07-13 18:48:56+00:00',\n",
       " 'dataset': '.',\n",
       " 'description': 'A list of all .nyc domains registered along with the registration date and registrant type. This list is updated daily.',\n",
       " 'flags': [],\n",
       " 'keywords_provided': ['web',\n",
       "  'internet',\n",
       "  '.nyc',\n",
       "  'registration',\n",
       "  'page',\n",
       "  'webpage',\n",
       "  'website',\n",
       "  'site',\n",
       "  'domain'],\n",
       " 'landing_page': 'https://data.cityofnewyork.us/d/9cw8-7heb',\n",
       " 'last_updated': '2017-05-31 21:08:56+00:00',\n",
       " 'name': '.nyc Domain Registrations',\n",
       " 'page_views': 1521,\n",
       " 'preferred_format': 'csv',\n",
       " 'preferred_mimetype': 'text/csv',\n",
       " 'protocol': 'https',\n",
       " 'resource': 'https://data.cityofnewyork.us/api/views/9cw8-7heb/rows.csv?accessType=DOWNLOAD',\n",
       " 'rows': 73900,\n",
       " 'sources': ['Department of Information Technology & Telecommunications (DoITT)'],\n",
       " 'topics_provided': ['Business']}"
      ]
     },
     "execution_count": 5,
     "metadata": {},
     "output_type": "execute_result"
    }
   ],
   "source": [
    "tables[0]"
   ]
  }
 ],
 "metadata": {
  "kernelspec": {
   "display_name": "Python 3",
   "language": "python",
   "name": "python3"
  },
  "language_info": {
   "codemirror_mode": {
    "name": "ipython",
    "version": 3
   },
   "file_extension": ".py",
   "mimetype": "text/x-python",
   "name": "python",
   "nbconvert_exporter": "python",
   "pygments_lexer": "ipython3",
   "version": "3.5.3"
  }
 },
 "nbformat": 4,
 "nbformat_minor": 2
}
