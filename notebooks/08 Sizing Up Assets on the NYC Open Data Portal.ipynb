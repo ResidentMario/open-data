{
 "cells": [
  {
   "cell_type": "code",
   "execution_count": 1,
   "metadata": {},
   "outputs": [],
   "source": [
    "import matplotlib.pyplot as plt\n",
    "import pandas as pd\n",
    "import json\n",
    "%matplotlib inline"
   ]
  },
  {
   "cell_type": "code",
   "execution_count": 3,
   "metadata": {},
   "outputs": [],
   "source": [
    "# for kind in ['table',' link', 'blob', 'geospatial dataset']\n",
    "\n",
    "with open(\"../data/nyc/glossaries/table-new.json\") as f:\n",
    "    tables = json.load(f)\n",
    "    \n",
    "with open(\"../data/nyc/glossaries/blob-new.json\") as f:\n",
    "    blobs = json.load(f)\n",
    "    \n",
    "with open(\"../data/nyc/glossaries/link-new.json\") as f:\n",
    "    links = json.load(f)\n",
    "    \n",
    "with open(\"../data/nyc/glossaries/geospatial-dataset-new.json\") as f:\n",
    "    geo = json.load(f)"
   ]
  },
  {
   "cell_type": "code",
   "execution_count": 12,
   "metadata": {},
   "outputs": [],
   "source": [
    "nrows = pd.Series([t['rows'] for t in tables])\n",
    "ncols = pd.Series([t['columns'] for t in tables])"
   ]
  },
  {
   "cell_type": "code",
   "execution_count": 13,
   "metadata": {},
   "outputs": [
    {
     "data": {
      "text/plain": [
       "(132000000, 0)"
      ]
     },
     "execution_count": 13,
     "metadata": {},
     "output_type": "execute_result"
    }
   ],
   "source": [
    "max(nrows), min(nrows)"
   ]
  },
  {
   "cell_type": "code",
   "execution_count": 15,
   "metadata": {},
   "outputs": [
    {
     "data": {
      "text/plain": [
       "[{'available_formats': ['csv', 'json', 'rdf', 'rss', 'tsv', 'xml'],\n",
       "  'column_names': ['locationID', 'Pickup_date', 'Dispatching_base_num'],\n",
       "  'columns': 3,\n",
       "  'created': '2016-11-30 21:53:12+00:00',\n",
       "  'dataset': '.',\n",
       "  'description': 'The For-Hire Vehicle (“FHV”) trip records include fields capturing the dispatching base license number and the pick-up date, time, and taxi zone location ID (shape file below). These records are generated from the FHV Trip Record submissions made by bases. Note: The TLC publishes base trip record data as submitted by the bases, and we cannot guarantee or confirm their accuracy or completeness. Therefore, this may not represent the total amount of trips dispatched by all TLC-licensed bases. The TLC performs routine reviews of the records and takes enforcement actions when necessary to ensure, to the extent possible, complete and accurate information.\\r\\n\\r\\nFor trip record data including TLC taxi zone location IDs, location names and corresponding boroughs for each ID can be found <a href=\"https://s3.amazonaws.com/nyc-tlc/misc/taxi+_zone_lookup.csv\">here</a>. A shapefile containing the boundaries for the taxi zones can be found <a href=\"https://s3.amazonaws.com/nyc-tlc/misc/taxi_zones.zip\">here</a>.',\n",
       "  'flags': [],\n",
       "  'keywords_provided': [],\n",
       "  'landing_page': 'https://data.cityofnewyork.us/d/yini-w76t',\n",
       "  'last_updated': '2017-03-13 20:50:33+00:00',\n",
       "  'name': '2016 For Hire Vehicle Trip Data',\n",
       "  'page_views': 198,\n",
       "  'preferred_format': 'csv',\n",
       "  'preferred_mimetype': 'text/csv',\n",
       "  'protocol': 'https',\n",
       "  'resource': 'https://data.cityofnewyork.us/api/views/yini-w76t/rows.csv?accessType=DOWNLOAD',\n",
       "  'rows': 132000000,\n",
       "  'sources': ['Taxi and Limousine Commission (TLC)'],\n",
       "  'topics_provided': ['Transportation']}]"
      ]
     },
     "execution_count": 15,
     "metadata": {},
     "output_type": "execute_result"
    }
   ],
   "source": [
    "[t for t in tables if t['rows'] == 132000000][0]"
   ]
  },
  {
   "cell_type": "code",
   "execution_count": 16,
   "metadata": {},
   "outputs": [
    {
     "data": {
      "text/plain": [
       "{'available_formats': ['csv', 'json', 'rdf', 'rss', 'tsv', 'xml'],\n",
       " 'column_names': ['ZIP Code', 'Borough', 'Total'],\n",
       " 'columns': 3,\n",
       " 'created': '2016-01-15 18:46:09+00:00',\n",
       " 'dataset': '.',\n",
       " 'description': '.nyc domain registrations broken down by zip code.  This list is updated monthly.',\n",
       " 'flags': [],\n",
       " 'keywords_provided': ['web',\n",
       "  '.nyc',\n",
       "  'domain',\n",
       "  'internet',\n",
       "  'registration',\n",
       "  'page',\n",
       "  'webpage',\n",
       "  'website',\n",
       "  'site'],\n",
       " 'landing_page': 'https://data.cityofnewyork.us/d/ymvu-4x4s',\n",
       " 'last_updated': '2017-04-07 14:14:17+00:00',\n",
       " 'name': '.nyc Domain Registrations by Zip Code',\n",
       " 'page_views': 266,\n",
       " 'preferred_format': 'csv',\n",
       " 'preferred_mimetype': 'text/csv',\n",
       " 'protocol': 'https',\n",
       " 'resource': 'https://data.cityofnewyork.us/api/views/ymvu-4x4s/rows.csv?accessType=DOWNLOAD',\n",
       " 'rows': 0,\n",
       " 'sources': ['Department of Information Technology & Telecommunications (DoITT)'],\n",
       " 'topics_provided': ['Business']}"
      ]
     },
     "execution_count": 16,
     "metadata": {},
     "output_type": "execute_result"
    }
   ],
   "source": [
    "[t for t in tables if t['rows'] == 0][0]"
   ]
  },
  {
   "cell_type": "code",
   "execution_count": 14,
   "metadata": {},
   "outputs": [
    {
     "data": {
      "text/plain": [
       "(453, 1)"
      ]
     },
     "execution_count": 14,
     "metadata": {},
     "output_type": "execute_result"
    }
   ],
   "source": [
    "max(ncols), min(ncols)"
   ]
  },
  {
   "cell_type": "code",
   "execution_count": 18,
   "metadata": {},
   "outputs": [
    {
     "data": {
      "text/plain": [
       "(15997, 351519451)"
      ]
     },
     "execution_count": 18,
     "metadata": {},
     "output_type": "execute_result"
    }
   ],
   "source": [
    "sum(ncols), sum(nrows)"
   ]
  },
  {
   "cell_type": "code",
   "execution_count": 5,
   "metadata": {
    "scrolled": false
   },
   "outputs": [
    {
     "data": {
      "text/plain": [
       "{'available_formats': ['csv', 'json', 'rdf', 'rss', 'tsv', 'xml'],\n",
       " 'column_names': ['Domain Registration Date ',\n",
       "  'Domain Name ',\n",
       "  'Nexus Category'],\n",
       " 'columns': 3,\n",
       " 'created': '2015-07-13 18:48:56+00:00',\n",
       " 'dataset': '.',\n",
       " 'description': 'A list of all .nyc domains registered along with the registration date and registrant type. This list is updated daily.',\n",
       " 'flags': [],\n",
       " 'keywords_provided': ['web',\n",
       "  'internet',\n",
       "  '.nyc',\n",
       "  'registration',\n",
       "  'page',\n",
       "  'webpage',\n",
       "  'website',\n",
       "  'site',\n",
       "  'domain'],\n",
       " 'landing_page': 'https://data.cityofnewyork.us/d/9cw8-7heb',\n",
       " 'last_updated': '2017-05-31 21:08:56+00:00',\n",
       " 'name': '.nyc Domain Registrations',\n",
       " 'page_views': 1521,\n",
       " 'preferred_format': 'csv',\n",
       " 'preferred_mimetype': 'text/csv',\n",
       " 'protocol': 'https',\n",
       " 'resource': 'https://data.cityofnewyork.us/api/views/9cw8-7heb/rows.csv?accessType=DOWNLOAD',\n",
       " 'rows': 73900,\n",
       " 'sources': ['Department of Information Technology & Telecommunications (DoITT)'],\n",
       " 'topics_provided': ['Business']}"
      ]
     },
     "execution_count": 5,
     "metadata": {},
     "output_type": "execute_result"
    }
   ],
   "source": [
    "tables[0]"
   ]
  },
  {
   "cell_type": "code",
   "execution_count": 22,
   "metadata": {
    "collapsed": true
   },
   "outputs": [],
   "source": [
    "with open(\"../data/singapore/glossaries/resources-new.json\") as f:\n",
    "    sing = json.load(f)"
   ]
  },
  {
   "cell_type": "code",
   "execution_count": 23,
   "metadata": {},
   "outputs": [
    {
     "data": {
      "text/plain": [
       "1594"
      ]
     },
     "execution_count": 23,
     "metadata": {},
     "output_type": "execute_result"
    }
   ],
   "source": [
    "len(sing)"
   ]
  },
  {
   "cell_type": "code",
   "execution_count": 24,
   "metadata": {},
   "outputs": [
    {
     "data": {
      "text/plain": [
       "{'available_formats': ['kml', 'shp'],\n",
       " 'dataset': '.',\n",
       " 'description': 'Collection points for 2nd hand goods',\n",
       " 'filesize': '4438',\n",
       " 'flags': ['processed'],\n",
       " 'landing_page': 'data.gov.sg/dataset/secondhandcollecn',\n",
       " 'last_updated': '2017-04-27 03:52:10.820135',\n",
       " 'license': 'https://data.gov.sg/open-data-licence',\n",
       " 'name': '2nd Hand Goods Collection Points',\n",
       " 'preferred_format': 'kml',\n",
       " 'preferred_mimetype': 'application/octet-stream',\n",
       " 'protocol': 'https',\n",
       " 'publisher': 'National Environment Agency',\n",
       " 'resource': 'https://geo.data.gov.sg/secondhandcollecn/2017/04/26/kml/secondhandcollecn.zip',\n",
       " 'sources': ['National Environment Agency'],\n",
       " 'tags_provided': ['onemap',\n",
       "  'recycle',\n",
       "  'recycling of 2nd hand goods',\n",
       "  'second hand',\n",
       "  'themes'],\n",
       " 'topics_provided': ['Environment'],\n",
       " 'update_frequency': 'Ad-hoc'}"
      ]
     },
     "execution_count": 24,
     "metadata": {},
     "output_type": "execute_result"
    }
   ],
   "source": [
    "sing[0]"
   ]
  },
  {
   "cell_type": "code",
   "execution_count": 25,
   "metadata": {
    "collapsed": true
   },
   "outputs": [],
   "source": [
    "updated_dates = [d['last_updated'] for d in sing]"
   ]
  },
  {
   "cell_type": "code",
   "execution_count": 26,
   "metadata": {
    "collapsed": true
   },
   "outputs": [],
   "source": [
    "filesizes = [d['filesize'] for d in sing]"
   ]
  },
  {
   "cell_type": "code",
   "execution_count": 27,
   "metadata": {},
   "outputs": [
    {
     "data": {
      "text/plain": [
       "['4438',\n",
       " 2.48828125,\n",
       " '238',\n",
       " '342',\n",
       " 2.3740234375,\n",
       " 2.4814453125,\n",
       " '4810',\n",
       " 3.1123046875,\n",
       " '919',\n",
       " '346',\n",
       " '131',\n",
       " '152',\n",
       " '3598',\n",
       " 4.2802734375,\n",
       " 34.01953125,\n",
       " '811',\n",
       " 1.1474609375,\n",
       " '190',\n",
       " '270',\n",
       " '250',\n",
       " '335',\n",
       " 11.982421875,\n",
       " 6.6923828125,\n",
       " 190.54296875,\n",
       " 1.443359375,\n",
       " '306',\n",
       " '370',\n",
       " 1.48046875,\n",
       " 0.32421875,\n",
       " '288',\n",
       " '305',\n",
       " 7.443359375,\n",
       " 7.7412109375,\n",
       " 105.4541015625,\n",
       " 170.51953125,\n",
       " 32.4228515625,\n",
       " 310.91796875,\n",
       " 507.595703125,\n",
       " 33.7421875,\n",
       " 321.4775390625,\n",
       " 522.0048828125,\n",
       " '137',\n",
       " '203',\n",
       " '170',\n",
       " '195',\n",
       " '185',\n",
       " '132',\n",
       " '168',\n",
       " 5.728515625,\n",
       " '108']"
      ]
     },
     "execution_count": 27,
     "metadata": {},
     "output_type": "execute_result"
    }
   ],
   "source": [
    "filesizes[:50]"
   ]
  },
  {
   "cell_type": "code",
   "execution_count": 31,
   "metadata": {},
   "outputs": [
    {
     "data": {
      "text/plain": [
       "370815324.7324219"
      ]
     },
     "execution_count": 31,
     "metadata": {},
     "output_type": "execute_result"
    }
   ],
   "source": [
    "sum([float(s) for s in filesizes])"
   ]
  },
  {
   "cell_type": "code",
   "execution_count": 32,
   "metadata": {},
   "outputs": [
    {
     "data": {
      "text/plain": [
       "1594"
      ]
     },
     "execution_count": 32,
     "metadata": {},
     "output_type": "execute_result"
    }
   ],
   "source": [
    "len(filesizes)"
   ]
  },
  {
   "cell_type": "code",
   "execution_count": 35,
   "metadata": {},
   "outputs": [
    {
     "data": {
      "text/plain": [
       "['2017-04-27 03:52:10.820135',\n",
       " '2017-03-28 07:07:58.245249',\n",
       " '2017-03-28 07:07:58.245249',\n",
       " '2017-03-28 07:07:58.245249',\n",
       " '2017-03-28 07:08:24.526902']"
      ]
     },
     "execution_count": 35,
     "metadata": {},
     "output_type": "execute_result"
    }
   ],
   "source": [
    "updated_dates[:5]"
   ]
  },
  {
   "cell_type": "code",
   "execution_count": 38,
   "metadata": {},
   "outputs": [],
   "source": [
    "freshness = pd.to_datetime(updated_dates)"
   ]
  },
  {
   "cell_type": "code",
   "execution_count": 40,
   "metadata": {
    "collapsed": true
   },
   "outputs": [],
   "source": [
    "backwards_facing_cumsum = (len(freshness) - pd.Series(range(len(freshness)), index=freshness.values).resample('W').count().cumsum())"
   ]
  },
  {
   "cell_type": "code",
   "execution_count": 42,
   "metadata": {},
   "outputs": [
    {
     "data": {
      "text/plain": [
       "2016-05-01    1586\n",
       "2016-05-08    1585\n",
       "2016-05-15    1585\n",
       "2016-05-22    1585\n",
       "2016-05-29    1578\n",
       "Freq: W-SUN, dtype: int64"
      ]
     },
     "execution_count": 42,
     "metadata": {},
     "output_type": "execute_result"
    }
   ],
   "source": [
    "backwards_facing_cumsum[:5]"
   ]
  },
  {
   "cell_type": "code",
   "execution_count": 44,
   "metadata": {},
   "outputs": [
    {
     "data": {
      "text/plain": [
       "<matplotlib.text.Text at 0x7f2551100710>"
      ]
     },
     "execution_count": 44,
     "metadata": {},
     "output_type": "execute_result"
    },
    {
     "data": {
      "image/png": "[encoded data removed]",
      "text/plain": [
       "<matplotlib.figure.Figure at 0x7f2550c92a58>"
      ]
     },
     "metadata": {},
     "output_type": "display_data"
    }
   ],
   "source": [
    "pd.Series(backwards_facing_cumsum).plot(figsize=(24, 10), fontsize=20)\n",
    "plt.title('Datasets by Cumulative Update Recency, Singapore Open Data', fontsize=25)"
   ]
  }
 ],
 "metadata": {
  "kernelspec": {
   "display_name": "Python 3",
   "language": "python",
   "name": "python3"
  },
  "language_info": {
   "codemirror_mode": {
    "name": "ipython",
    "version": 3
   },
   "file_extension": ".py",
   "mimetype": "text/x-python",
   "name": "python",
   "nbconvert_exporter": "python",
   "pygments_lexer": "ipython3",
   "version": "3.6.1"
  }
 },
 "nbformat": 4,
 "nbformat_minor": 2
}
