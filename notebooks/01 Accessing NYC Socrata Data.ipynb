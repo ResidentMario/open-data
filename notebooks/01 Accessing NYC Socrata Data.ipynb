{
 "cells": [
  {
   "cell_type": "markdown",
   "metadata": {},
   "source": [
    "Fetch the NYC portal metadata. To do this we use the `pysocrata` package, installable via `pip`."
   ]
  },
  {
   "cell_type": "code",
   "execution_count": 2,
   "metadata": {
    "collapsed": false
   },
   "outputs": [],
   "source": [
    "import json\n",
    "\n",
    "with open(\"../auth/nyc-open-data.json\", \"r\") as f:\n",
    "    nyc_auth = json.load(f)"
   ]
  },
  {
   "cell_type": "code",
   "execution_count": 6,
   "metadata": {
    "collapsed": false
   },
   "outputs": [],
   "source": [
    "import pysocrata\n",
    "nyc_datasets = pysocrata.get_datasets(**nyc_auth)"
   ]
  },
  {
   "cell_type": "markdown",
   "metadata": {},
   "source": [
    "Example metadata component:"
   ]
  },
  {
   "cell_type": "code",
   "execution_count": 14,
   "metadata": {
    "collapsed": false
   },
   "outputs": [
    {
     "name": "stdout",
     "output_type": "stream",
     "text": [
      "{\n",
      "    \"link\": \"https://data.cityofnewyork.us/Transportation/Medallion-Drivers-Active/jb3k-j3gp\",\n",
      "    \"resource\": {\n",
      "        \"download_count\": 92693,\n",
      "        \"columns_description\": [\n",
      "            \"\",\n",
      "            \"\",\n",
      "            \"\",\n",
      "            \"\",\n",
      "            \"\",\n",
      "            \"\"\n",
      "        ],\n",
      "        \"updatedAt\": \"2017-01-21T19:46:23.000Z\",\n",
      "        \"parent_fxf\": null,\n",
      "        \"provenance\": \"official\",\n",
      "        \"name\": \"Medallion Drivers - Active\",\n",
      "        \"attribution\": \"Taxi and Limousine Commission (TLC)\",\n",
      "        \"createdAt\": \"2013-12-26T19:23:30.000Z\",\n",
      "        \"columns_field_name\": [\n",
      "            \"license_number\",\n",
      "            \"name\",\n",
      "            \"type\",\n",
      "            \"expiration_date\",\n",
      "            \"last_updated_date\",\n",
      "            \"last_updated_time\"\n",
      "        ],\n",
      "        \"description\": \"This list contains the most recently published active  medallion drivers list. This is a list of licensees who are currently authorized to operate NYC TLC licensed Taxicabs. The old data set is no longer being updated but can be accessed from the link given below to access data from 03/07/2013 through 01/04/2014 https://data.cityofnewyork.us/Transportation/Medallion-Drivers-Active/n776-dsqy. A new Change Log containing changes in status from 10/28/2013 onwards can be found at https://data.cityofnewyork.us/Transportation/TLC-MEDALLION-ACTIVE-Historical-Data/sjfe-fppp. This list is accurate to the date and time represented in the Last Date Updated and Last Time Updated fields. For inquiries about the contents of this dataset, please email licensinginquiries@tlc.nyc.gov.\",\n",
      "        \"type\": \"dataset\",\n",
      "        \"view_count\": {\n",
      "            \"page_views_last_week\": 622,\n",
      "            \"page_views_last_month_log\": 11.516192477879367,\n",
      "            \"page_views_total_log\": 17.25913637453496,\n",
      "            \"page_views_last_month\": 2928,\n",
      "            \"page_views_total\": 156861,\n",
      "            \"page_views_last_week_log\": 9.283088353024002\n",
      "        },\n",
      "        \"columns_name\": [\n",
      "            \"License Number\",\n",
      "            \"Name\",\n",
      "            \"Type\",\n",
      "            \"Expiration Date\",\n",
      "            \"Last Date Updated\",\n",
      "            \"Last Time Updated\"\n",
      "        ],\n",
      "        \"id\": \"jb3k-j3gp\",\n",
      "        \"page_views\": {\n",
      "            \"page_views_last_week\": 622,\n",
      "            \"page_views_last_month_log\": 11.516192477879367,\n",
      "            \"page_views_total_log\": 17.25913637453496,\n",
      "            \"page_views_last_month\": 2928,\n",
      "            \"page_views_total\": 156861,\n",
      "            \"page_views_last_week_log\": 9.283088353024002\n",
      "        }\n",
      "    },\n",
      "    \"permalink\": \"https://data.cityofnewyork.us/d/jb3k-j3gp\",\n",
      "    \"metadata\": {\n",
      "        \"domain\": \"data.cityofnewyork.us\"\n",
      "    },\n",
      "    \"classification\": {\n",
      "        \"domain_category\": \"Transportation\",\n",
      "        \"domain_metadata\": [\n",
      "            {\n",
      "                \"key\": \"Update_Automation\",\n",
      "                \"value\": \"Yes\"\n",
      "            },\n",
      "            {\n",
      "                \"key\": \"Update_Update-Frequency\",\n",
      "                \"value\": \"Daily\"\n",
      "            },\n",
      "            {\n",
      "                \"key\": \"Dataset-Information_Agency\",\n",
      "                \"value\": \"Taxi and Limousine Commission (TLC)\"\n",
      "            }\n",
      "        ],\n",
      "        \"tags\": [],\n",
      "        \"domain_tags\": [\n",
      "            \"taxi\",\n",
      "            \"taxicab\",\n",
      "            \"tlc\",\n",
      "            \"limousine\",\n",
      "            \"taxi driver\",\n",
      "            \"medallion\",\n",
      "            \"taxi license\",\n",
      "            \"driver\"\n",
      "        ],\n",
      "        \"categories\": [\n",
      "            \"transportation\",\n",
      "            \"economy\"\n",
      "        ]\n",
      "    }\n",
      "}\n"
     ]
    }
   ],
   "source": [
    "print(json.dumps(nyc_datasets[0], indent=4))"
   ]
  },
  {
   "cell_type": "code",
   "execution_count": 19,
   "metadata": {
    "collapsed": false
   },
   "outputs": [],
   "source": [
    "nyc_endpoints = [d['resource']['id'] for d in nyc_datasets]"
   ]
  },
  {
   "cell_type": "code",
   "execution_count": 21,
   "metadata": {
    "collapsed": false
   },
   "outputs": [
    {
     "data": {
      "text/plain": [
       "['jb3k-j3gp', 'jgtb-hmpg', 'vwpc-kje2', '8vv7-7wx3', 'tvpp-9vvx']"
      ]
     },
     "execution_count": 21,
     "metadata": {},
     "output_type": "execute_result"
    }
   ],
   "source": [
    "nyc_endpoints[:5]"
   ]
  },
  {
   "cell_type": "code",
   "execution_count": 22,
   "metadata": {
    "collapsed": true
   },
   "outputs": [],
   "source": [
    "nyc_types = [d['resource']['type'] for d in nyc_datasets]"
   ]
  },
  {
   "cell_type": "code",
   "execution_count": 24,
   "metadata": {
    "collapsed": false,
    "scrolled": true
   },
   "outputs": [
    {
     "data": {
      "text/plain": [
       "dataset    1132\n",
       "href        182\n",
       "map         166\n",
       "file         99\n",
       "story         3\n",
       "dtype: int64"
      ]
     },
     "execution_count": 24,
     "metadata": {},
     "output_type": "execute_result"
    }
   ],
   "source": [
    "import pandas as pd\n",
    "pd.Series(nyc_types).value_counts()"
   ]
  },
  {
   "cell_type": "markdown",
   "metadata": {},
   "source": [
    "Stories crept into here because they're a new \"thing\" that Socrata is promoting. Interesting that they consider them to be datasets. For further information on how these counts are generated (TLDR it's non-trivial) see [here](http://nbviewer.jupyter.org/github/ResidentMario/socrata-portal-metadata/blob/master/notebooks/Socrata%20Portal%20Dataset%20Counting%20Scoping.ipynb). \n",
    "\n",
    "We have to remember to remove these \"datasets\" from consideration during processing."
   ]
  },
  {
   "cell_type": "code",
   "execution_count": 46,
   "metadata": {
    "collapsed": false
   },
   "outputs": [],
   "source": [
    "nyc_datasets = [d for d in nyc_datasets if d['resource']['type'] != 'story']"
   ]
  },
  {
   "cell_type": "markdown",
   "metadata": {},
   "source": [
    "Additionally, the names attached to the resources here are the names attached to them in the underlying Socrata server. We will rename them to match our own volcabulary."
   ]
  },
  {
   "cell_type": "code",
   "execution_count": 52,
   "metadata": {
    "collapsed": true
   },
   "outputs": [],
   "source": [
    "nyc_types = [d['resource']['type'] for d in nyc_datasets]"
   ]
  },
  {
   "cell_type": "code",
   "execution_count": 53,
   "metadata": {
    "collapsed": false
   },
   "outputs": [],
   "source": [
    "volcab_map = {'dataset': 'table', 'href': 'link', 'map': 'geospatial dataset', 'file': 'blob'}\n",
    "nyc_types = list(map(lambda d: volcab_map[d], nyc_types))"
   ]
  },
  {
   "cell_type": "code",
   "execution_count": 56,
   "metadata": {
    "collapsed": false
   },
   "outputs": [
    {
     "data": {
      "text/plain": [
       "table                 1132\n",
       "link                   182\n",
       "geospatial dataset     166\n",
       "blob                    99\n",
       "dtype: int64"
      ]
     },
     "execution_count": 56,
     "metadata": {},
     "output_type": "execute_result"
    }
   ],
   "source": [
    "pd.Series(nyc_types).value_counts()"
   ]
  },
  {
   "cell_type": "markdown",
   "metadata": {},
   "source": [
    "Ok, now we need to do manual ground truthing. What datasets contain timeseries data? What datasets contain geospatial data? The idea is that we need to be able to assess this semi-autonomously."
   ]
  },
  {
   "cell_type": "code",
   "execution_count": 59,
   "metadata": {
    "collapsed": false
   },
   "outputs": [],
   "source": [
    "import numpy as np\n",
    "table_endpoints = np.array(nyc_endpoints)[np.nonzero([t == 'table' for t in nyc_types])]"
   ]
  },
  {
   "cell_type": "markdown",
   "metadata": {},
   "source": [
    "Copy paste the following output into Excel:"
   ]
  },
  {
   "cell_type": "code",
   "execution_count": 64,
   "metadata": {
    "collapsed": false
   },
   "outputs": [],
   "source": [
    "# [print(e) for e in table_endpoints]\n",
    "# pass"
   ]
  },
  {
   "cell_type": "code",
   "execution_count": 70,
   "metadata": {
    "collapsed": true
   },
   "outputs": [],
   "source": [
    "i = 0"
   ]
  },
  {
   "cell_type": "code",
   "execution_count": 82,
   "metadata": {
    "collapsed": false
   },
   "outputs": [
    {
     "name": "stdout",
     "output_type": "stream",
     "text": [
      "https://data.cityofnewyork.us/-/-/szkz-syh6\n"
     ]
    }
   ],
   "source": [
    "print(\"https://data.cityofnewyork.us/-/-/\" + table_endpoints[i])\n",
    "i += 1"
   ]
  },
  {
   "cell_type": "code",
   "execution_count": 85,
   "metadata": {
    "collapsed": true
   },
   "outputs": [],
   "source": [
    "from IPython.display import Image"
   ]
  },
  {
   "cell_type": "code",
   "execution_count": 86,
   "metadata": {
    "collapsed": false
   },
   "outputs": [
    {
     "data": {
      "image/png": "[encoded data removed]",
      "text/plain": [
       "<IPython.core.display.Image object>"
      ]
     },
     "execution_count": 86,
     "metadata": {},
     "output_type": "execute_result"
    }
   ],
   "source": [
    "Image(\"../figures/table-data-leafing.png\")"
   ]
  },
  {
   "cell_type": "markdown",
   "metadata": {},
   "source": [
    "Ok, I tried this out on a dozen datasets. What is clear is that:\n",
    "\n",
    "* Socrata has some data on when a column is or isn't a Date/Time. However, that data is not available via metadata (it has to be taken off of their site).\n",
    "* That information is regardless very inaccurate. Many columns that are really in a date/time format (or a location format) are simply marked as \"TEXT\" types.\n",
    "* Sometimes geospatial information or date/time information can be read out of combinations of columns, but not out of any single one.\n",
    "* Addresses are pretty common, these would need to be geocoded to point to anywhere geospatially usable however.\n",
    "\n",
    "It seems that to take advantage of this data we'd need to figure out a robust way of mixing and matching data column formats of some kind. So that's a challenge.\n",
    "\n",
    "Fair enough, but this is a challenge of analysis. Before we get to that, we first have to systemitize access."
   ]
  }
 ],
 "metadata": {
  "kernelspec": {
   "display_name": "Python 3",
   "language": "python",
   "name": "python3"
  },
  "language_info": {
   "codemirror_mode": {
    "name": "ipython",
    "version": 3
   },
   "file_extension": ".py",
   "mimetype": "text/x-python",
   "name": "python",
   "nbconvert_exporter": "python",
   "pygments_lexer": "ipython3",
   "version": "3.5.2"
  }
 },
 "nbformat": 4,
 "nbformat_minor": 2
}
